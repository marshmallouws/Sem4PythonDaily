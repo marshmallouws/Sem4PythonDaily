{
 "cells": [
  {
   "cell_type": "code",
   "execution_count": 30,
   "metadata": {
    "slideshow": {
     "slide_type": "subslide"
    }
   },
   "outputs": [
    {
     "name": "stdout",
     "output_type": "stream",
     "text": [
      "Populating the interactive namespace from numpy and matplotlib\n"
     ]
    }
   ],
   "source": [
    "%pylab inline"
   ]
  },
  {
   "cell_type": "markdown",
   "metadata": {
    "slideshow": {
     "slide_type": "subslide"
    }
   },
   "source": [
    "## The problem of overfitting\n",
    "\n",
    "![](images/overfitting.png)"
   ]
  },
  {
   "cell_type": "markdown",
   "metadata": {
    "slideshow": {
     "slide_type": "subslide"
    }
   },
   "source": [
    "## Populations\n",
    "\n",
    "![](images/pop1.png)"
   ]
  },
  {
   "cell_type": "markdown",
   "metadata": {
    "slideshow": {
     "slide_type": "subslide"
    }
   },
   "source": [
    "![](images/pop2.png)"
   ]
  },
  {
   "cell_type": "markdown",
   "metadata": {
    "slideshow": {
     "slide_type": "subslide"
    }
   },
   "source": [
    "![](images/pop3.png)"
   ]
  },
  {
   "cell_type": "markdown",
   "metadata": {
    "slideshow": {
     "slide_type": "subslide"
    }
   },
   "source": [
    "## Your model versus the population\n",
    "\n",
    "A sample is a **subset** of a population.\n",
    "\n",
    "You will likely **never** have data that covers the entire population."
   ]
  },
  {
   "cell_type": "markdown",
   "metadata": {
    "slideshow": {
     "slide_type": "fragment"
    }
   },
   "source": [
    "That means that you will likely **never** be able to represent the entire population!\n",
    "\n",
    "Your model will lie!"
   ]
  },
  {
   "cell_type": "markdown",
   "metadata": {
    "slideshow": {
     "slide_type": "subslide"
    }
   },
   "source": [
    "## Carowners and voters\n",
    "\n",
    "In 1963 *millions* of mock ballots was mailed to carowners across the USA, to learn who would win the presidential election.\n",
    "\n",
    "The Republicans was a *clear* winner in the mock ballots, but the Democrats won the election.\n",
    "\n",
    "What was wrong?"
   ]
  },
  {
   "cell_type": "markdown",
   "metadata": {
    "slideshow": {
     "slide_type": "subslide"
    }
   },
   "source": [
    "## The problem of generalisation\n",
    "\n",
    "If X% of sample has Y it does **not** mean that X% of population has Y!\n",
    "\n",
    "**Always** ask yourself: is your data representative?"
   ]
  },
  {
   "cell_type": "markdown",
   "metadata": {
    "slideshow": {
     "slide_type": "subslide"
    }
   },
   "source": [
    "## Back to overfitting \n",
    "\n",
    "In ML you learn from data that is **not** the entire population.\n",
    "\n",
    "![](images/overfitting.png)"
   ]
  },
  {
   "cell_type": "markdown",
   "metadata": {
    "slideshow": {
     "slide_type": "subslide"
    }
   },
   "source": [
    "So, how can we get our model to work on the entire population?"
   ]
  },
  {
   "cell_type": "markdown",
   "metadata": {
    "slideshow": {
     "slide_type": "fragment"
    }
   },
   "source": [
    "Answer: By hiding some data from our model, and saving it for future tests."
   ]
  },
  {
   "cell_type": "markdown",
   "metadata": {
    "slideshow": {
     "slide_type": "subslide"
    }
   },
   "source": [
    "## Training and testing data\n",
    "\n",
    "We now have a split between \n",
    "* **Training data**: the data that the model sees\n",
    "* **Testing data**: the data that the model is tested against"
   ]
  },
  {
   "cell_type": "markdown",
   "metadata": {
    "slideshow": {
     "slide_type": "fragment"
    }
   },
   "source": [
    "Note: the model should **never** train on the testing data"
   ]
  },
  {
   "cell_type": "markdown",
   "metadata": {
    "slideshow": {
     "slide_type": "subslide"
    }
   },
   "source": [
    "## Sklearn `train_test_split`\n",
    "\n",
    "Splitting the data into testing and training makes it more likely that your model generalises.\n",
    "\n",
    "But it **does not guarantee it**!"
   ]
  },
  {
   "cell_type": "code",
   "execution_count": 1,
   "metadata": {
    "slideshow": {
     "slide_type": "subslide"
    }
   },
   "outputs": [],
   "source": [
    "from sklearn.datasets import load_iris"
   ]
  },
  {
   "cell_type": "code",
   "execution_count": 2,
   "metadata": {
    "slideshow": {
     "slide_type": "fragment"
    }
   },
   "outputs": [
    {
     "data": {
      "text/plain": [
       "array([[5.1, 3.5, 1.4, 0.2],\n",
       "       [4.9, 3. , 1.4, 0.2],\n",
       "       [4.7, 3.2, 1.3, 0.2],\n",
       "       [4.6, 3.1, 1.5, 0.2],\n",
       "       [5. , 3.6, 1.4, 0.2],\n",
       "       [5.4, 3.9, 1.7, 0.4],\n",
       "       [4.6, 3.4, 1.4, 0.3],\n",
       "       [5. , 3.4, 1.5, 0.2],\n",
       "       [4.4, 2.9, 1.4, 0.2],\n",
       "       [4.9, 3.1, 1.5, 0.1],\n",
       "       [5.4, 3.7, 1.5, 0.2],\n",
       "       [4.8, 3.4, 1.6, 0.2],\n",
       "       [4.8, 3. , 1.4, 0.1],\n",
       "       [4.3, 3. , 1.1, 0.1],\n",
       "       [5.8, 4. , 1.2, 0.2],\n",
       "       [5.7, 4.4, 1.5, 0.4],\n",
       "       [5.4, 3.9, 1.3, 0.4],\n",
       "       [5.1, 3.5, 1.4, 0.3],\n",
       "       [5.7, 3.8, 1.7, 0.3],\n",
       "       [5.1, 3.8, 1.5, 0.3],\n",
       "       [5.4, 3.4, 1.7, 0.2],\n",
       "       [5.1, 3.7, 1.5, 0.4],\n",
       "       [4.6, 3.6, 1. , 0.2],\n",
       "       [5.1, 3.3, 1.7, 0.5],\n",
       "       [4.8, 3.4, 1.9, 0.2],\n",
       "       [5. , 3. , 1.6, 0.2],\n",
       "       [5. , 3.4, 1.6, 0.4],\n",
       "       [5.2, 3.5, 1.5, 0.2],\n",
       "       [5.2, 3.4, 1.4, 0.2],\n",
       "       [4.7, 3.2, 1.6, 0.2],\n",
       "       [4.8, 3.1, 1.6, 0.2],\n",
       "       [5.4, 3.4, 1.5, 0.4],\n",
       "       [5.2, 4.1, 1.5, 0.1],\n",
       "       [5.5, 4.2, 1.4, 0.2],\n",
       "       [4.9, 3.1, 1.5, 0.2],\n",
       "       [5. , 3.2, 1.2, 0.2],\n",
       "       [5.5, 3.5, 1.3, 0.2],\n",
       "       [4.9, 3.6, 1.4, 0.1],\n",
       "       [4.4, 3. , 1.3, 0.2],\n",
       "       [5.1, 3.4, 1.5, 0.2],\n",
       "       [5. , 3.5, 1.3, 0.3],\n",
       "       [4.5, 2.3, 1.3, 0.3],\n",
       "       [4.4, 3.2, 1.3, 0.2],\n",
       "       [5. , 3.5, 1.6, 0.6],\n",
       "       [5.1, 3.8, 1.9, 0.4],\n",
       "       [4.8, 3. , 1.4, 0.3],\n",
       "       [5.1, 3.8, 1.6, 0.2],\n",
       "       [4.6, 3.2, 1.4, 0.2],\n",
       "       [5.3, 3.7, 1.5, 0.2],\n",
       "       [5. , 3.3, 1.4, 0.2],\n",
       "       [7. , 3.2, 4.7, 1.4],\n",
       "       [6.4, 3.2, 4.5, 1.5],\n",
       "       [6.9, 3.1, 4.9, 1.5],\n",
       "       [5.5, 2.3, 4. , 1.3],\n",
       "       [6.5, 2.8, 4.6, 1.5],\n",
       "       [5.7, 2.8, 4.5, 1.3],\n",
       "       [6.3, 3.3, 4.7, 1.6],\n",
       "       [4.9, 2.4, 3.3, 1. ],\n",
       "       [6.6, 2.9, 4.6, 1.3],\n",
       "       [5.2, 2.7, 3.9, 1.4],\n",
       "       [5. , 2. , 3.5, 1. ],\n",
       "       [5.9, 3. , 4.2, 1.5],\n",
       "       [6. , 2.2, 4. , 1. ],\n",
       "       [6.1, 2.9, 4.7, 1.4],\n",
       "       [5.6, 2.9, 3.6, 1.3],\n",
       "       [6.7, 3.1, 4.4, 1.4],\n",
       "       [5.6, 3. , 4.5, 1.5],\n",
       "       [5.8, 2.7, 4.1, 1. ],\n",
       "       [6.2, 2.2, 4.5, 1.5],\n",
       "       [5.6, 2.5, 3.9, 1.1],\n",
       "       [5.9, 3.2, 4.8, 1.8],\n",
       "       [6.1, 2.8, 4. , 1.3],\n",
       "       [6.3, 2.5, 4.9, 1.5],\n",
       "       [6.1, 2.8, 4.7, 1.2],\n",
       "       [6.4, 2.9, 4.3, 1.3],\n",
       "       [6.6, 3. , 4.4, 1.4],\n",
       "       [6.8, 2.8, 4.8, 1.4],\n",
       "       [6.7, 3. , 5. , 1.7],\n",
       "       [6. , 2.9, 4.5, 1.5],\n",
       "       [5.7, 2.6, 3.5, 1. ],\n",
       "       [5.5, 2.4, 3.8, 1.1],\n",
       "       [5.5, 2.4, 3.7, 1. ],\n",
       "       [5.8, 2.7, 3.9, 1.2],\n",
       "       [6. , 2.7, 5.1, 1.6],\n",
       "       [5.4, 3. , 4.5, 1.5],\n",
       "       [6. , 3.4, 4.5, 1.6],\n",
       "       [6.7, 3.1, 4.7, 1.5],\n",
       "       [6.3, 2.3, 4.4, 1.3],\n",
       "       [5.6, 3. , 4.1, 1.3],\n",
       "       [5.5, 2.5, 4. , 1.3],\n",
       "       [5.5, 2.6, 4.4, 1.2],\n",
       "       [6.1, 3. , 4.6, 1.4],\n",
       "       [5.8, 2.6, 4. , 1.2],\n",
       "       [5. , 2.3, 3.3, 1. ],\n",
       "       [5.6, 2.7, 4.2, 1.3],\n",
       "       [5.7, 3. , 4.2, 1.2],\n",
       "       [5.7, 2.9, 4.2, 1.3],\n",
       "       [6.2, 2.9, 4.3, 1.3],\n",
       "       [5.1, 2.5, 3. , 1.1],\n",
       "       [5.7, 2.8, 4.1, 1.3],\n",
       "       [6.3, 3.3, 6. , 2.5],\n",
       "       [5.8, 2.7, 5.1, 1.9],\n",
       "       [7.1, 3. , 5.9, 2.1],\n",
       "       [6.3, 2.9, 5.6, 1.8],\n",
       "       [6.5, 3. , 5.8, 2.2],\n",
       "       [7.6, 3. , 6.6, 2.1],\n",
       "       [4.9, 2.5, 4.5, 1.7],\n",
       "       [7.3, 2.9, 6.3, 1.8],\n",
       "       [6.7, 2.5, 5.8, 1.8],\n",
       "       [7.2, 3.6, 6.1, 2.5],\n",
       "       [6.5, 3.2, 5.1, 2. ],\n",
       "       [6.4, 2.7, 5.3, 1.9],\n",
       "       [6.8, 3. , 5.5, 2.1],\n",
       "       [5.7, 2.5, 5. , 2. ],\n",
       "       [5.8, 2.8, 5.1, 2.4],\n",
       "       [6.4, 3.2, 5.3, 2.3],\n",
       "       [6.5, 3. , 5.5, 1.8],\n",
       "       [7.7, 3.8, 6.7, 2.2],\n",
       "       [7.7, 2.6, 6.9, 2.3],\n",
       "       [6. , 2.2, 5. , 1.5],\n",
       "       [6.9, 3.2, 5.7, 2.3],\n",
       "       [5.6, 2.8, 4.9, 2. ],\n",
       "       [7.7, 2.8, 6.7, 2. ],\n",
       "       [6.3, 2.7, 4.9, 1.8],\n",
       "       [6.7, 3.3, 5.7, 2.1],\n",
       "       [7.2, 3.2, 6. , 1.8],\n",
       "       [6.2, 2.8, 4.8, 1.8],\n",
       "       [6.1, 3. , 4.9, 1.8],\n",
       "       [6.4, 2.8, 5.6, 2.1],\n",
       "       [7.2, 3. , 5.8, 1.6],\n",
       "       [7.4, 2.8, 6.1, 1.9],\n",
       "       [7.9, 3.8, 6.4, 2. ],\n",
       "       [6.4, 2.8, 5.6, 2.2],\n",
       "       [6.3, 2.8, 5.1, 1.5],\n",
       "       [6.1, 2.6, 5.6, 1.4],\n",
       "       [7.7, 3. , 6.1, 2.3],\n",
       "       [6.3, 3.4, 5.6, 2.4],\n",
       "       [6.4, 3.1, 5.5, 1.8],\n",
       "       [6. , 3. , 4.8, 1.8],\n",
       "       [6.9, 3.1, 5.4, 2.1],\n",
       "       [6.7, 3.1, 5.6, 2.4],\n",
       "       [6.9, 3.1, 5.1, 2.3],\n",
       "       [5.8, 2.7, 5.1, 1.9],\n",
       "       [6.8, 3.2, 5.9, 2.3],\n",
       "       [6.7, 3.3, 5.7, 2.5],\n",
       "       [6.7, 3. , 5.2, 2.3],\n",
       "       [6.3, 2.5, 5. , 1.9],\n",
       "       [6.5, 3. , 5.2, 2. ],\n",
       "       [6.2, 3.4, 5.4, 2.3],\n",
       "       [5.9, 3. , 5.1, 1.8]])"
      ]
     },
     "execution_count": 2,
     "metadata": {},
     "output_type": "execute_result"
    }
   ],
   "source": [
    "X = load_iris().data\n",
    "X"
   ]
  },
  {
   "cell_type": "code",
   "execution_count": 3,
   "metadata": {
    "slideshow": {
     "slide_type": "fragment"
    }
   },
   "outputs": [
    {
     "data": {
      "text/plain": [
       "array([0, 0, 0, 0, 0, 0, 0, 0, 0, 0, 0, 0, 0, 0, 0, 0, 0, 0, 0, 0, 0, 0,\n",
       "       0, 0, 0, 0, 0, 0, 0, 0, 0, 0, 0, 0, 0, 0, 0, 0, 0, 0, 0, 0, 0, 0,\n",
       "       0, 0, 0, 0, 0, 0, 1, 1, 1, 1, 1, 1, 1, 1, 1, 1, 1, 1, 1, 1, 1, 1,\n",
       "       1, 1, 1, 1, 1, 1, 1, 1, 1, 1, 1, 1, 1, 1, 1, 1, 1, 1, 1, 1, 1, 1,\n",
       "       1, 1, 1, 1, 1, 1, 1, 1, 1, 1, 1, 1, 2, 2, 2, 2, 2, 2, 2, 2, 2, 2,\n",
       "       2, 2, 2, 2, 2, 2, 2, 2, 2, 2, 2, 2, 2, 2, 2, 2, 2, 2, 2, 2, 2, 2,\n",
       "       2, 2, 2, 2, 2, 2, 2, 2, 2, 2, 2, 2, 2, 2, 2, 2, 2, 2])"
      ]
     },
     "execution_count": 3,
     "metadata": {},
     "output_type": "execute_result"
    }
   ],
   "source": [
    "y = load_iris().target\n",
    "y"
   ]
  },
  {
   "cell_type": "code",
   "execution_count": 4,
   "metadata": {},
   "outputs": [
    {
     "data": {
      "text/plain": [
       "array(['setosa', 'versicolor', 'virginica'], dtype='<U10')"
      ]
     },
     "execution_count": 4,
     "metadata": {},
     "output_type": "execute_result"
    }
   ],
   "source": [
    "load_iris().target_names"
   ]
  },
  {
   "cell_type": "code",
   "execution_count": 5,
   "metadata": {
    "slideshow": {
     "slide_type": "subslide"
    }
   },
   "outputs": [
    {
     "data": {
      "text/plain": [
       "[array([[6.3, 2.5, 5. , 1.9],\n",
       "        [6.3, 2.9, 5.6, 1.8],\n",
       "        [5.7, 3. , 4.2, 1.2],\n",
       "        [5.1, 3.8, 1.5, 0.3],\n",
       "        [7.3, 2.9, 6.3, 1.8],\n",
       "        [5.8, 2.7, 5.1, 1.9],\n",
       "        [6. , 2.2, 5. , 1.5],\n",
       "        [5.8, 4. , 1.2, 0.2],\n",
       "        [6.6, 3. , 4.4, 1.4],\n",
       "        [5.6, 3. , 4.1, 1.3],\n",
       "        [6.3, 2.5, 4.9, 1.5],\n",
       "        [5. , 3. , 1.6, 0.2],\n",
       "        [5.1, 3.7, 1.5, 0.4],\n",
       "        [7.7, 2.6, 6.9, 2.3],\n",
       "        [5.2, 2.7, 3.9, 1.4],\n",
       "        [4.3, 3. , 1.1, 0.1],\n",
       "        [5.5, 2.4, 3.7, 1. ],\n",
       "        [6.4, 2.8, 5.6, 2.1],\n",
       "        [5.1, 2.5, 3. , 1.1],\n",
       "        [5. , 3.4, 1.6, 0.4],\n",
       "        [4.9, 2.5, 4.5, 1.7],\n",
       "        [6.3, 3.3, 4.7, 1.6],\n",
       "        [4.9, 3.6, 1.4, 0.1],\n",
       "        [6.1, 2.8, 4. , 1.3],\n",
       "        [5.7, 2.5, 5. , 2. ],\n",
       "        [6.9, 3.1, 5.1, 2.3],\n",
       "        [4.9, 3. , 1.4, 0.2],\n",
       "        [6. , 3. , 4.8, 1.8],\n",
       "        [4.8, 3. , 1.4, 0.1],\n",
       "        [6.3, 2.3, 4.4, 1.3],\n",
       "        [7.7, 2.8, 6.7, 2. ],\n",
       "        [5.7, 2.9, 4.2, 1.3],\n",
       "        [6. , 2.9, 4.5, 1.5],\n",
       "        [5.2, 3.4, 1.4, 0.2],\n",
       "        [6.3, 2.7, 4.9, 1.8],\n",
       "        [5.7, 2.6, 3.5, 1. ],\n",
       "        [7.9, 3.8, 6.4, 2. ],\n",
       "        [7.1, 3. , 5.9, 2.1],\n",
       "        [4.6, 3.6, 1. , 0.2],\n",
       "        [5.7, 2.8, 4.5, 1.3],\n",
       "        [5.1, 3.5, 1.4, 0.3],\n",
       "        [6.1, 3. , 4.6, 1.4],\n",
       "        [5. , 3.5, 1.6, 0.6],\n",
       "        [4.5, 2.3, 1.3, 0.3],\n",
       "        [5.3, 3.7, 1.5, 0.2],\n",
       "        [6.1, 2.6, 5.6, 1.4],\n",
       "        [5.1, 3.4, 1.5, 0.2],\n",
       "        [7.2, 3.2, 6. , 1.8],\n",
       "        [6.5, 3. , 5.8, 2.2],\n",
       "        [6.2, 2.2, 4.5, 1.5],\n",
       "        [6.3, 3.3, 6. , 2.5],\n",
       "        [7.4, 2.8, 6.1, 1.9],\n",
       "        [5.8, 2.6, 4. , 1.2],\n",
       "        [5.2, 3.5, 1.5, 0.2],\n",
       "        [4.8, 3. , 1.4, 0.3],\n",
       "        [5.5, 2.3, 4. , 1.3],\n",
       "        [5.8, 2.7, 3.9, 1.2],\n",
       "        [5.4, 3. , 4.5, 1.5],\n",
       "        [5.4, 3.7, 1.5, 0.2],\n",
       "        [4.7, 3.2, 1.6, 0.2],\n",
       "        [4.9, 3.1, 1.5, 0.1],\n",
       "        [5.8, 2.7, 5.1, 1.9],\n",
       "        [6.5, 2.8, 4.6, 1.5],\n",
       "        [6.2, 2.9, 4.3, 1.3],\n",
       "        [5.8, 2.8, 5.1, 2.4],\n",
       "        [5.6, 2.5, 3.9, 1.1],\n",
       "        [6.7, 3. , 5.2, 2.3],\n",
       "        [5.5, 2.5, 4. , 1.3],\n",
       "        [4.4, 3.2, 1.3, 0.2],\n",
       "        [6.1, 2.8, 4.7, 1.2],\n",
       "        [5.1, 3.8, 1.6, 0.2],\n",
       "        [5.6, 2.8, 4.9, 2. ],\n",
       "        [5.1, 3.5, 1.4, 0.2],\n",
       "        [5.5, 4.2, 1.4, 0.2],\n",
       "        [6.4, 3.2, 4.5, 1.5],\n",
       "        [6.7, 3.3, 5.7, 2.5],\n",
       "        [5.7, 4.4, 1.5, 0.4],\n",
       "        [6.6, 2.9, 4.6, 1.3],\n",
       "        [7.7, 3.8, 6.7, 2.2],\n",
       "        [4.8, 3.4, 1.6, 0.2],\n",
       "        [5.4, 3.9, 1.3, 0.4],\n",
       "        [6. , 2.2, 4. , 1. ],\n",
       "        [6.4, 2.8, 5.6, 2.2],\n",
       "        [5.9, 3. , 5.1, 1.8],\n",
       "        [4.7, 3.2, 1.3, 0.2],\n",
       "        [6.7, 2.5, 5.8, 1.8],\n",
       "        [4.4, 3. , 1.3, 0.2],\n",
       "        [6.4, 2.7, 5.3, 1.9],\n",
       "        [6.1, 2.9, 4.7, 1.4],\n",
       "        [6.8, 2.8, 4.8, 1.4],\n",
       "        [6.9, 3.1, 5.4, 2.1],\n",
       "        [6.5, 3. , 5.2, 2. ],\n",
       "        [4.6, 3.4, 1.4, 0.3],\n",
       "        [6.2, 2.8, 4.8, 1.8],\n",
       "        [5. , 2. , 3.5, 1. ],\n",
       "        [5.5, 2.4, 3.8, 1.1],\n",
       "        [4.8, 3.1, 1.6, 0.2],\n",
       "        [5.4, 3.9, 1.7, 0.4],\n",
       "        [6. , 2.7, 5.1, 1.6],\n",
       "        [5. , 3.5, 1.3, 0.3],\n",
       "        [6.8, 3. , 5.5, 2.1],\n",
       "        [5.4, 3.4, 1.7, 0.2],\n",
       "        [5.5, 3.5, 1.3, 0.2],\n",
       "        [5. , 3.4, 1.5, 0.2],\n",
       "        [6.8, 3.2, 5.9, 2.3],\n",
       "        [7.2, 3.6, 6.1, 2.5],\n",
       "        [7.7, 3. , 6.1, 2.3],\n",
       "        [5. , 3.3, 1.4, 0.2],\n",
       "        [7.6, 3. , 6.6, 2.1],\n",
       "        [6.4, 3.2, 5.3, 2.3],\n",
       "        [6.7, 3.1, 4.4, 1.4],\n",
       "        [6.9, 3.2, 5.7, 2.3]]), array([[6.7, 3.1, 5.6, 2.4],\n",
       "        [5.7, 2.8, 4.1, 1.3],\n",
       "        [6. , 3.4, 4.5, 1.6],\n",
       "        [5.4, 3.4, 1.5, 0.4],\n",
       "        [5.1, 3.3, 1.7, 0.5],\n",
       "        [5.7, 3.8, 1.7, 0.3],\n",
       "        [5.6, 2.7, 4.2, 1.3],\n",
       "        [6.7, 3.3, 5.7, 2.1],\n",
       "        [5.6, 2.9, 3.6, 1.3],\n",
       "        [5.8, 2.7, 4.1, 1. ],\n",
       "        [6.3, 3.4, 5.6, 2.4],\n",
       "        [7.2, 3. , 5.8, 1.6],\n",
       "        [5.9, 3. , 4.2, 1.5],\n",
       "        [6.3, 2.8, 5.1, 1.5],\n",
       "        [4.9, 3.1, 1.5, 0.2],\n",
       "        [4.6, 3.2, 1.4, 0.2],\n",
       "        [5.6, 3. , 4.5, 1.5],\n",
       "        [5. , 3.6, 1.4, 0.2],\n",
       "        [6.4, 3.1, 5.5, 1.8],\n",
       "        [6.7, 3. , 5. , 1.7],\n",
       "        [6.1, 3. , 4.9, 1.8],\n",
       "        [5.5, 2.6, 4.4, 1.2],\n",
       "        [6.5, 3.2, 5.1, 2. ],\n",
       "        [4.8, 3.4, 1.9, 0.2],\n",
       "        [4.9, 2.4, 3.3, 1. ],\n",
       "        [5.1, 3.8, 1.9, 0.4],\n",
       "        [5.2, 4.1, 1.5, 0.1],\n",
       "        [6.9, 3.1, 4.9, 1.5],\n",
       "        [5. , 3.2, 1.2, 0.2],\n",
       "        [5. , 2.3, 3.3, 1. ],\n",
       "        [7. , 3.2, 4.7, 1.4],\n",
       "        [6.7, 3.1, 4.7, 1.5],\n",
       "        [5.9, 3.2, 4.8, 1.8],\n",
       "        [6.4, 2.9, 4.3, 1.3],\n",
       "        [6.2, 3.4, 5.4, 2.3],\n",
       "        [4.4, 2.9, 1.4, 0.2],\n",
       "        [4.6, 3.1, 1.5, 0.2],\n",
       "        [6.5, 3. , 5.5, 1.8]]), array([2, 2, 1, 0, 2, 2, 2, 0, 1, 1, 1, 0, 0, 2, 1, 0, 1, 2, 1, 0, 2, 1,\n",
       "        0, 1, 2, 2, 0, 2, 0, 1, 2, 1, 1, 0, 2, 1, 2, 2, 0, 1, 0, 1, 0, 0,\n",
       "        0, 2, 0, 2, 2, 1, 2, 2, 1, 0, 0, 1, 1, 1, 0, 0, 0, 2, 1, 1, 2, 1,\n",
       "        2, 1, 0, 1, 0, 2, 0, 0, 1, 2, 0, 1, 2, 0, 0, 1, 2, 2, 0, 2, 0, 2,\n",
       "        1, 1, 2, 2, 0, 2, 1, 1, 0, 0, 1, 0, 2, 0, 0, 0, 2, 2, 2, 0, 2, 2,\n",
       "        1, 2]), array([2, 1, 1, 0, 0, 0, 1, 2, 1, 1, 2, 2, 1, 2, 0, 0, 1, 0, 2, 1, 2, 1,\n",
       "        2, 0, 1, 0, 0, 1, 0, 1, 1, 1, 1, 1, 2, 0, 0, 2])]"
      ]
     },
     "execution_count": 5,
     "metadata": {},
     "output_type": "execute_result"
    }
   ],
   "source": [
    "from sklearn.model_selection import train_test_split\n",
    "train_test_split(X, y)"
   ]
  },
  {
   "cell_type": "code",
   "execution_count": 8,
   "metadata": {
    "slideshow": {
     "slide_type": "fragment"
    }
   },
   "outputs": [
    {
     "name": "stdout",
     "output_type": "stream",
     "text": [
      "[0 1 0 2 1 0 0 1 2 1 1 2 0 1 1 0 1 0 0 2 2 0 1 1 2 0 2 1 0 0 2 2 2 2 1 1 2\n",
      " 0 2 1 1 1 0 0 0 0 2 2 2 0 2 1 0 0 0 0 0 1 0 1 0 2 0 2 0 2 1 2 0 1 1 1 0 2\n",
      " 2 2 1 0 2 1 1 1 1 1 1 2 1 2 0 0 1 0 0 1 2 0 1 1 2 0 0 0 1 0 1 1 1 2 0 2 2\n",
      " 1]\n"
     ]
    }
   ],
   "source": [
    "# split the data into training data (2/3) for x and for y and test data (1/3) for x and for y\n",
    "# training data is for the model to learn, test data to see if the model learned correctly\n",
    "x_train, x_test, y_train, y_test = train_test_split(X, y)\n",
    "print(y_train)"
   ]
  },
  {
   "cell_type": "code",
   "execution_count": 9,
   "metadata": {
    "slideshow": {
     "slide_type": "subslide"
    }
   },
   "outputs": [
    {
     "data": {
      "text/plain": [
       "LinearRegression(copy_X=True, fit_intercept=True, n_jobs=None, normalize=False)"
      ]
     },
     "execution_count": 9,
     "metadata": {},
     "output_type": "execute_result"
    }
   ],
   "source": [
    "# use the linear regression model\n",
    "from sklearn.linear_model import LinearRegression\n",
    "model = LinearRegression()\n",
    "model.fit(x_train, y_train)"
   ]
  },
  {
   "cell_type": "code",
   "execution_count": 10,
   "metadata": {
    "slideshow": {
     "slide_type": "fragment"
    }
   },
   "outputs": [
    {
     "data": {
      "text/plain": [
       "array([-0.01699789,  1.05870907, -0.00934693,  1.56238627,  1.28277086,\n",
       "        0.12475026, -0.06670707,  1.30599488,  1.57598146,  1.27835643,\n",
       "        1.18864536,  1.98679138, -0.02404528,  1.0189839 ,  1.3739602 ,\n",
       "       -0.07964716,  1.19161032, -0.09670362, -0.129608  ,  1.76207635,\n",
       "        1.8700417 ,  0.09679758,  1.36101825,  1.42302128,  1.64449836,\n",
       "       -0.16138788,  1.90207138,  1.19953241,  0.02859678,  0.18326697,\n",
       "        1.48830538,  1.73654435,  1.80857406,  1.9438798 ,  1.0242749 ,\n",
       "        0.93634529,  2.04094191, -0.01436306,  1.78823139,  1.15483936,\n",
       "        0.8657702 ,  0.97250753,  0.0426953 , -0.05170879, -0.10462571,\n",
       "       -0.08905452,  1.58862163,  2.14030314,  1.99002605, -0.0820034 ,\n",
       "        1.57538162,  1.18511078, -0.07904732, -0.06081624, -0.01905421,\n",
       "       -0.04699258, -0.02730315,  1.5689322 , -0.09022914,  1.28008964,\n",
       "       -0.17315149,  1.44155228,  0.10092827,  1.72269749, -0.03407755,\n",
       "        1.51064583,  1.21510547,  1.76626417, -0.02963806,  1.1883705 ,\n",
       "        0.9010828 ,  1.22722097,  0.05004262,  1.82118216,  1.73654435,\n",
       "        1.70860412,  1.38599867,  0.01387523,  1.74359174,  1.18453413,\n",
       "        1.33541479,  0.90078288,  0.87991697,  1.50066697,  1.15280623,\n",
       "        1.97179497,  1.05662769,  2.02204685,  0.05387526, -0.13023289,\n",
       "        1.358662  ,  0.05239557,  0.01357531,  1.13954117,  1.80095188,\n",
       "       -0.04405969,  1.10896984,  1.17691196,  1.8438616 ,  0.00562629,\n",
       "       -0.07934724,  0.01829152,  1.27484691, -0.21021535,  1.32480775,\n",
       "        1.30775129,  1.24101256,  1.87240495, -0.01875616,  1.91534159,\n",
       "        2.21090329,  1.15985549])"
      ]
     },
     "execution_count": 10,
     "metadata": {},
     "output_type": "execute_result"
    }
   ],
   "source": [
    "model.predict(x_train)"
   ]
  },
  {
   "cell_type": "code",
   "execution_count": null,
   "metadata": {
    "slideshow": {
     "slide_type": "subslide"
    }
   },
   "outputs": [],
   "source": [
    "model.score(x_train, y_train)"
   ]
  },
  {
   "cell_type": "code",
   "execution_count": null,
   "metadata": {
    "slideshow": {
     "slide_type": "subslide"
    }
   },
   "outputs": [],
   "source": [
    "model.score(x_test, y_test)"
   ]
  },
  {
   "cell_type": "markdown",
   "metadata": {
    "slideshow": {
     "slide_type": "subslide"
    }
   },
   "source": [
    "## Evaluating a model\n",
    "\n",
    "* Models are supposed to be as accurate as possible\n",
    "  * `model.score`\n",
    "  * Read the documentation"
   ]
  },
  {
   "cell_type": "markdown",
   "metadata": {
    "slideshow": {
     "slide_type": "subslide"
    }
   },
   "source": [
    "* But not *too* accurate\n",
    "  * Overfitting"
   ]
  },
  {
   "cell_type": "markdown",
   "metadata": {
    "slideshow": {
     "slide_type": "subslide"
    }
   },
   "source": [
    "## The overfitting curve\n",
    "\n",
    "<img src=\"https://upload.wikimedia.org/wikipedia/commons/thumb/1/1f/Overfitting_svg.svg/1280px-Overfitting_svg.svg.png\" style=\"width:40%\"/>"
   ]
  },
  {
   "cell_type": "markdown",
   "metadata": {
    "slideshow": {
     "slide_type": "subslide"
    }
   },
   "source": [
    "## Exercise\n",
    "\n",
    "* Import `science.csv` to a pandas DataFrame\n",
    "* Split the input (X) and target (y) using `train_test_split`\n",
    "* Train the model on the training data\n",
    "* Score the model based on the testing data"
   ]
  },
  {
   "cell_type": "code",
   "execution_count": 20,
   "metadata": {
    "slideshow": {
     "slide_type": "subslide"
    }
   },
   "outputs": [
    {
     "name": "stdout",
     "output_type": "stream",
     "text": [
      "0     18079\n",
      "1     18594\n",
      "2     19753\n",
      "3     20734\n",
      "4     20831\n",
      "5     23029\n",
      "6     23597\n",
      "7     23584\n",
      "8     25525\n",
      "9     27731\n",
      "10    29449\n",
      "Name: US science spending, dtype: int64\n",
      "[[18079]\n",
      " [18594]\n",
      " [19753]\n",
      " [20734]\n",
      " [20831]\n",
      " [23029]\n",
      " [23597]\n",
      " [23584]\n",
      " [25525]\n",
      " [27731]\n",
      " [29449]]\n",
      "4 sets of data: \n",
      " [[18594]\n",
      " [25525]\n",
      " [23029]\n",
      " [20831]\n",
      " [18079]\n",
      " [29449]\n",
      " [23597]\n",
      " [19753]] [[20734]\n",
      " [23584]\n",
      " [27731]] 1     5688\n",
      "8     8161\n",
      "5     7336\n",
      "4     6635\n",
      "0     5427\n",
      "10    9000\n",
      "6     7248\n",
      "2     6198\n",
      "Name: Suicides, dtype: int64 3    6462\n",
      "7    7491\n",
      "9    8578\n",
      "Name: Suicides, dtype: int64\n"
     ]
    }
   ],
   "source": [
    "# Purpose to predict suicides (y) dependent, from Science spending (X) the independent\n",
    "from sklearn.linear_model import LinearRegression\n",
    "import pandas as pd\n",
    "\n",
    "df = pd.read_csv('data/science.csv')\n",
    "print(df['US science spending'])\n",
    "x = df['US science spending'].values.reshape(-1,1) # reshape(-1,1) same (in this case) as reshape(11,1) meaning reshape all values to array of single value arrays\n",
    "print(x)\n",
    "y = df['Suicides']\n",
    "x_train, x_test, y_train, y_test = train_test_split(x, y)\n",
    "print('4 sets of data: \\n',x_train, x_test, y_train, y_test)"
   ]
  },
  {
   "cell_type": "code",
   "execution_count": 21,
   "metadata": {
    "slideshow": {
     "slide_type": "subslide"
    }
   },
   "outputs": [
    {
     "data": {
      "text/plain": [
       "0.9882538413933657"
      ]
     },
     "execution_count": 21,
     "metadata": {},
     "output_type": "execute_result"
    }
   ],
   "source": [
    "model = LinearRegression()\n",
    "model.fit(x_train, y_train)\n",
    "model.score(x_test, y_test)\n",
    "# model.score produces a value between 0 to 1. Close to 1 show strong dependency and close to 0 no dependency"
   ]
  },
  {
   "cell_type": "markdown",
   "metadata": {
    "slideshow": {
     "slide_type": "subslide"
    }
   },
   "source": [
    "## Other sklearn metrics\n",
    "\n",
    "The model uses *default* metrics. But there are numerous others.\n",
    "\n",
    "https://sklearn.org/modules/classes.html#module-sklearn.metrics\n",
    "\n",
    "Metrics usually depends on the type of your model (classification, regression, etc.)\n",
    "\n",
    "* **READ THE DOCUMENTATION**"
   ]
  },
  {
   "cell_type": "code",
   "execution_count": 22,
   "metadata": {
    "slideshow": {
     "slide_type": "subslide"
    }
   },
   "outputs": [
    {
     "data": {
      "text/plain": [
       "dict_keys(['explained_variance', 'r2', 'max_error', 'neg_median_absolute_error', 'neg_mean_absolute_error', 'neg_mean_squared_error', 'neg_mean_squared_log_error', 'accuracy', 'roc_auc', 'balanced_accuracy', 'average_precision', 'neg_log_loss', 'brier_score_loss', 'adjusted_rand_score', 'homogeneity_score', 'completeness_score', 'v_measure_score', 'mutual_info_score', 'adjusted_mutual_info_score', 'normalized_mutual_info_score', 'fowlkes_mallows_score', 'precision', 'precision_macro', 'precision_micro', 'precision_samples', 'precision_weighted', 'recall', 'recall_macro', 'recall_micro', 'recall_samples', 'recall_weighted', 'f1', 'f1_macro', 'f1_micro', 'f1_samples', 'f1_weighted', 'jaccard', 'jaccard_macro', 'jaccard_micro', 'jaccard_samples', 'jaccard_weighted'])"
      ]
     },
     "execution_count": 22,
     "metadata": {},
     "output_type": "execute_result"
    }
   ],
   "source": [
    "import sklearn\n",
    "sklearn.metrics.SCORERS.keys()"
   ]
  }
 ],
 "metadata": {
  "celltoolbar": "Slideshow",
  "kernelspec": {
   "display_name": "Python 3",
   "language": "python",
   "name": "python3"
  },
  "language_info": {
   "codemirror_mode": {
    "name": "ipython",
    "version": 3
   },
   "file_extension": ".py",
   "mimetype": "text/x-python",
   "name": "python",
   "nbconvert_exporter": "python",
   "pygments_lexer": "ipython3",
   "version": "3.7.4"
  }
 },
 "nbformat": 4,
 "nbformat_minor": 2
}
