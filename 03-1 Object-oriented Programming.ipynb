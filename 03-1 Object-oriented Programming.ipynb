{
 "cells": [
  {
   "cell_type": "markdown",
   "metadata": {
    "collapsed": true,
    "slideshow": {
     "slide_type": "subslide"
    }
   },
   "source": [
    "# Object-oriented Programming\n",
    "\n",
    "Object-oriented programming is one of the most common ways to write and structure software. In object-oriented programming you write classes that represent real-world things and situations, and you create objects based on these classes. When you write a class, you define the general\n",
    "behavior that a whole category of objects can have. When you create individual objects from the class, each object is automatically equipped with the general behavior; you can then give each object whatever unique traits you desire. \n",
    "\n",
    "Making an object from a class is called *instantiation*, and you work with instances of a class. \n",
    "\n",
    "\n",
    "## Creating and Using a Class\n",
    "\n",
    "You can model almost anything using classes. Let’s start by writing a simple class, `Book`, that represents a book and its contents—not one book in particular, but any book. What do we know about most books? Well, they likely all have a *title* an *author*, and contain some *chapters*. We also know that you can *read* books and *open* them to inspect them further. Those two pieces of information (title and author) and those two behaviors (read and open) will be constituents of our Book class because they are common to most books. After our class is written, we will use it to create individual instances, each of which represents one specific book.\n",
    "\n",
    "### Creating the Book Class\n",
    "\n",
    "Each instance created from the Book class will store a `title` an `author`, and its `chapters`, and we will give each book the 'ability' to get `read()` and to get opened `open_book()`.\n",
    "\n",
    "#### The __init__() Method\n",
    "\n",
    "A function that’s part of a class is a *method*. Everything you learned about functions applies to methods as well; the only practical difference for now is the way we will call methods. The `__init__()` method is a special method Python runs automatically whenever we create a new instance based on the `Book` class. This method has two leading underscores and two trailing underscores, a convention that helps prevent Python’s default method names from conflicting with your method names.\n",
    "\n",
    "We define the `__init__()` method to have four parameters: `self`, `title`, `author`, and `chapters=`. The `self` parameter is **required** in the method definition, and it must come **first** before the other parameters. It must be included in the definition because when Python calls this `__init__()` method later (to create an instance of `Book`), the method call will automatically pass the `self` argument. Every method call associated with a class automatically passes `self`, which\n",
    "is a reference to the instance itself; it gives the individual instance access to the attributes and methods in the class. When we make an instance of `Book`, Python will call the `__init__()` method from the `Book` class. We will pass `Book()` a `title`, an `author`, and `chapters=` as arguments; `self` is passed automatically, so we do not need to pass it. Whenever we want to make an instance from the`Book` class, we will provide values for only the last three parameters.\n",
    "\n",
    "The three variables defined each have the prefix `self`. Any variable prefixed with `self` is available to every method in the class, and we will also be able to access these variables through any instance created from the class. `self.title = title` takes the value stored in the parameter name and stores it in the variable name, which is then attached to the instance being created. Variables that are accessible through instances like this are called attributes.\n",
    "\n",
    "The `Book` class has two other methods: `read` and `open`. The instances we create later will have access to these methods."
   ]
  },
  {
   "cell_type": "code",
   "execution_count": 7,
   "metadata": {
    "slideshow": {
     "slide_type": "slide"
    }
   },
   "outputs": [],
   "source": [
    "class Chapter():\n",
    "\n",
    "    def __init__(self, number, title, paragraphs):\n",
    "        \"\"\"A chapter consists of multiple paragraphs.\"\"\"\n",
    "        self.number = number\n",
    "        self.title = title\n",
    "        self.paragraphs = []\n",
    "        for paragraph_lines in paragraphs:\n",
    "            new_pragraph = Paragraph(paragraph_lines)\n",
    "            self.paragraphs.append(new_pragraph)\n",
    "\n",
    "    def read(self, paragraph_idx=None):\n",
    "        \"\"\"A paragraph can be read.\"\"\" \n",
    "        if paragraph_idx:\n",
    "            self.paragraphs[paragraph_idx].read()\n",
    "        else:\n",
    "            for paragraph in self.paragraphs:\n",
    "                paragraph.read()"
   ]
  },
  {
   "cell_type": "code",
   "execution_count": 9,
   "metadata": {
    "slideshow": {
     "slide_type": "slide"
    }
   },
   "outputs": [],
   "source": [
    "class Book():\n",
    "    \"\"\"A simple book model consisting of chapters, which in \n",
    "    turn consist of paragraphs.\"\"\"\n",
    "\n",
    "    def __init__(self, title, author, chapters=[]):\n",
    "        \"\"\"Initialize title, the author, and the chapters.\"\"\"\n",
    "        self.title = title \n",
    "        self.author = author\n",
    "        self.chapters = chapters   \n",
    "        \n",
    "    def __repr__(self):\n",
    "        return 'Book(%r, %r, %r)' % (self.title, self.author, self.chapters)\n",
    "    \n",
    "    def __str__(self):\n",
    "        return '{name} by {by} has {nr_chap} chapters.'.format(\n",
    "            name=self.title, by=self.author, nr_chap=len(self.chapters))\n",
    "    \n",
    "    def read(self, chapter=1):\n",
    "        \"\"\"Simulate reading a chapter, by calling the reading \n",
    "        method of a chapter.\"\"\" \n",
    "        self.chapters[chapter - 1].read()\n",
    "        \n",
    "    def open_book(self, chapter=1) -> Chapter:\n",
    "        \"\"\"Simulate opening a book, which returns a chapter \n",
    "        object.\"\"\" \n",
    "        return self.chapters[chapter - 1]"
   ]
  },
  {
   "cell_type": "markdown",
   "metadata": {
    "slideshow": {
     "slide_type": "slide"
    }
   },
   "source": [
    "### Making an Instance from a Class\n",
    "\n",
    "Think of a class as a set of instructions for how to make an instance. The class `Book` is a set of instructions that tells Python how to make individual instances representing specific books.\n",
    "\n",
    "We tell Python to create a book whose title is `'The Book of Silence'` and whose author is `'Nobody'`. When Python reads the line, `silent_book = Book('The Book of Silence', 'Nobody')` it calls the `__init__()` method in `Book` with the arguments `'The Book of Silence'` and `'Nobody'`. The `__init__()` method creates an instance representing this particular book and sets the `author` and `title` attributes using the values we provided. The `__init__()` method has no explicit return statement, but Python automatically returns an instance representing this book. We store that instance in the variable `empty_book`. The *naming convention* is helpful here: we can usually assume that a capitalized name like `Book` refers to a class, and a lowercase name like `empty_book` refers to a single instance created from a class.\n",
    "\n",
    "#### Accessing Attributes\n",
    "\n",
    "To access the attributes of an instance, you use 'dot' notation. We access the value of `empty_book`’s attribute `author` by writing: `empty_book.author`."
   ]
  },
  {
   "cell_type": "code",
   "execution_count": 10,
   "metadata": {
    "slideshow": {
     "slide_type": "slide"
    }
   },
   "outputs": [
    {
     "name": "stdout",
     "output_type": "stream",
     "text": [
      "Author: Nobody\n",
      "Title: The book of silence\n",
      "Length of book: 0 chapters\n"
     ]
    }
   ],
   "source": [
    "empty_book = Book('The book of silence', 'Nobody')\n",
    "\n",
    "print('Author:',empty_book.author)\n",
    "print('Title:',empty_book.title)\n",
    "print('Length of book:',len(empty_book.chapters),'chapters')"
   ]
  },
  {
   "cell_type": "code",
   "execution_count": 12,
   "metadata": {
    "slideshow": {
     "slide_type": "slide"
    }
   },
   "outputs": [],
   "source": [
    "class Paragraph():\n",
    "    \"\"\"A paragraph consists of a list of lines.\"\"\"\n",
    "\n",
    "    def __init__(self, lines):\n",
    "        \"\"\"Initialize the paragraph with its lines of text.\"\"\"\n",
    "        self.lines = lines\n",
    "\n",
    "    def read(self):\n",
    "        \"\"\"Simulate reading a paragraph by printing its contents.\"\"\" \n",
    "        for line in self.lines:\n",
    "            print(line)"
   ]
  },
  {
   "cell_type": "markdown",
   "metadata": {
    "slideshow": {
     "slide_type": "slide"
    }
   },
   "source": [
    "Now, we get some text from a real book to build an instance of it using the above clases."
   ]
  },
  {
   "cell_type": "code",
   "execution_count": 13,
   "metadata": {
    "slideshow": {
     "slide_type": "slide"
    }
   },
   "outputs": [],
   "source": [
    "import webget\n",
    "\n",
    "\n",
    "bones_in_london_url = 'http://www.gutenberg.org/cache/epub/27525/pg27525.txt'\n",
    "# download the book\n",
    "webget.download(bones_in_london_url,'bones_in_london.txt')\n",
    "# open it and read all lines in the text file\n",
    "with open('./bones_in_london.txt') as f:\n",
    "    bones_book = f.readlines()\n",
    "\n",
    "\n",
    "def get_text(txt, lower_bound, upper_bound):\n",
    "    \"\"\"A utility function which allow us to read slices of lines\"\"\"\n",
    "    chapter_content = []\n",
    "    paragraph = []\n",
    "    for line in txt[lower_bound:upper_bound]:\n",
    "        if line == '\\n':\n",
    "            chapter_content.append(paragraph)\n",
    "            paragraph = []\n",
    "        else:\n",
    "            paragraph.append(line.strip())\n",
    "\n",
    "    return chapter_content"
   ]
  },
  {
   "cell_type": "markdown",
   "metadata": {
    "slideshow": {
     "slide_type": "slide"
    }
   },
   "source": [
    "Now, that we can read some real text from a file, we can create instances of chapters and an instance of a book. For simplicity, our book consists only of the first two chapters."
   ]
  },
  {
   "cell_type": "code",
   "execution_count": 15,
   "metadata": {
    "slideshow": {
     "slide_type": "slide"
    }
   },
   "outputs": [],
   "source": [
    "chapter_1 = Chapter(1, 'Bones and Big Business', get_text(bones_book,82, 762))\n",
    "chapter_2 = Chapter(2, 'Hidden Treassure', get_text(bones_book,769, 1455))\n",
    "book = Book('Bones in London', 'Edgar Wallace', [chapter_1, chapter_2])"
   ]
  },
  {
   "cell_type": "code",
   "execution_count": 16,
   "metadata": {
    "slideshow": {
     "slide_type": "slide"
    }
   },
   "outputs": [
    {
     "name": "stdout",
     "output_type": "stream",
     "text": [
      "Edgar Wallace\n",
      "Bones in London\n",
      "2\n"
     ]
    }
   ],
   "source": [
    "print(book.author)\n",
    "print(book.title)\n",
    "print(len(book.chapters))"
   ]
  },
  {
   "cell_type": "markdown",
   "metadata": {
    "slideshow": {
     "slide_type": "slide"
    }
   },
   "source": [
    "### Calling Methods\n",
    "\n",
    "After we create an instance from the class `Book`, we can use 'dot' notation to call any method defined in `Book`. To call a method, give the name of the instance (in this case, `book`) and the method you want to call, separated by a dot. When Python reads `book.read(chapter=1)`, it looks for the method `read(chapter)` in the class `Book` and runs that code."
   ]
  },
  {
   "cell_type": "code",
   "execution_count": 17,
   "metadata": {
    "slideshow": {
     "slide_type": "slide"
    }
   },
   "outputs": [
    {
     "name": "stdout",
     "output_type": "stream",
     "text": [
      "There was a slump in the shipping market, and men who were otherwise\n",
      "decent citizens wailed for one hour of glorious war, when Kenyon Line\n",
      "Deferred had stood at 88 1/2, and even so poor an organization as\n",
      "Siddons Steam Packets Line had been marketable at 3 3/8.\n",
      "Two bareheaded men came down the busy street, their hands thrust into\n",
      "their trousers pockets, their sleek, well-oiled heads bent in dejection.\n",
      "No word they spoke, keeping step with the stern precision of soldiers.\n",
      "Together they wheeled through the open doors of the Commercial Trust\n",
      "Building, together they left-turned into the elevator, and\n",
      "simultaneously raised their heads to examine its roof, as though in its\n",
      "panelled ceiling was concealed some Delphic oracle who would answer the\n",
      "riddle which circumstances had set them.\n",
      "They dropped their heads together and stood with sad eyes, regarding\n",
      "the attendant's leisurely unlatching of the gate.  They slipped forth\n",
      "and walked in single file to a suite of offices inscribed \"Pole\n",
      "Brothers, Brokers,\" and, beneath, \"The United Merchant Shippers'\n",
      "Corporation,\" and passed through a door which, in addition to this\n",
      "declaration, bore the footnote \"Private.\"\n",
      "Here the file divided, one going to one side of a vast pedestal desk\n",
      "and one to the other.  Still with their hands pushed deep into their\n",
      "pockets, they sank, almost as at a word of command, each into his\n",
      "cushioned chair, and stared at one another across the table.\n",
      "They were stout young men of the middle thirties, clean-shaven and\n",
      "ruddy.  They had served their country in the late War, and had made\n",
      "many sacrifices to the common cause.  One had worn uniform and one had\n",
      "not.  Joe had occupied some mysterious office which permitted and,\n",
      "indeed, enjoined upon him the wearing of the insignia of captain, but\n",
      "had forbidden him to leave his native land.  The other had earned a\n",
      "little decoration with a very big title as a buyer of boots for Allied\n",
      "nations.  Both had subscribed largely to War Stock, and a reminder of\n",
      "their devotion to the cause of liberty was placed to their credit every\n",
      "half-year.\n",
      "But for these, war, with its horrific incidents, its late hours, its\n",
      "midnight railway journeys by trains on which sleeping berths could not\n",
      "be had for love or money, its food cards and statements of excess\n",
      "profits, was past.  The present held its tragedy so poignant as to\n",
      "overshadow that breathless terrifying moment when peace had come and\n",
      "found the firm with the sale of the Fairy Line of cargo steamers\n",
      "uncompleted, contracts unsigned, and shipping stock which had lived\n",
      "light-headedly in the airy spaces, falling deflated on the floor of the\n",
      "house.\n",
      "The Fairy Line was not a large line.  It was, in truth, a small line.\n",
      "It might have been purchased for two hundred thousand pounds, and\n",
      "nearly was.  To-day it might be acquired for one hundred and fifty\n",
      "thousand pounds, and yet it wasn't.\n",
      "\"Joe,\" said the senior Mr. Pole, in a voice that came from his\n",
      "varnished boots, \"we've got to do something with Fairies.\"\n",
      "\"Curse this War!\" said Joe in cold-blooded even tones.  \"Curse the\n",
      "Kaiser!  A weak-kneed devil who might at least have stuck to it for\n",
      "another month!  Curse him for making America build ships, curse him\n",
      "for----\"\n",
      "\"Joe,\" said the stout young man on the other side of the table, shaking\n",
      "his head sadly, \"it is no use cursing, Joe.  We knew that they were\n",
      "building ships, but the business looked good to me.  If Turkey hadn't\n",
      "turned up her toes and released all that shipping----\"\n",
      "\"Curse Turkey!\" said the other, with great calmness.  \"Curse the Sultan\n",
      "and Enver and Taalat, curse Bulgaria and Ferdinand----\"\n",
      "\"Put in one for the Bolsheviks, Joe,\" said his brother urgently, \"and I\n",
      "reckon that gets the lot in trouble.  Don't start on Austria, or we'll\n",
      "find ourselves cursing the Jugo-Slavs.\"\n",
      "He sighed deeply, pursed his lips, and looked at his writing-pad\n",
      "intently.\n",
      "Joe and Fred Pole had many faults, which they freely admitted, such as\n",
      "their generosity, their reckless kindness of heart, their willingness\n",
      "to do their worst enemies a good turn, and the like.  They had others\n",
      "which they never admitted, but which were none the less patent to their\n",
      "prejudiced contemporaries.\n",
      "But they had virtues which were admirable.  They were, for example,\n",
      "absolutely loyal to one another, and were constant in their mutual\n",
      "admiration and help.  If Joe made a bad deal, Fred never rested until\n",
      "he had balanced things against the beneficiary.  If Fred in a weak\n",
      "moment paid a higher price to the vendor of a property than he, as\n",
      "promoter, could afford, it was Joe who took the smug vendor out to\n",
      "dinner and, by persuasion, argument, and the frank expression of his\n",
      "liking for the unfortunate man, tore away a portion of his ill-gotten\n",
      "gains.\n",
      "\"I suppose,\" said Joe, concluding his minatory exercises, and reaching\n",
      "for a cigar from the silver box which stood on the table midway between\n",
      "the two, \"I suppose we couldn't hold Billing to his contract.  Have you\n",
      "seen Cole about it, Fred?\"\n",
      "The other nodded slowly.\n",
      "\"Cole says that there is no contract.  Billing offered to buy the\n",
      "ships, and meant to buy them, undoubtedly; but Cole says that if you\n",
      "took Billing into court, the judge would chuck his pen in your eye.\"\n",
      "\"Would he now?\" said Joe, one of whose faults was that he took things\n",
      "literally.  \"But perhaps if you took Billing out to dinner, Fred----\"\n",
      "\"He's a vegetarian, Joe\"--he reached in his turn for a cigar, snipped\n",
      "the end and lit it--\"and he's deaf.  No, we've got to find a sucker,\n",
      "Joe.  I can sell the _Fairy May_ and the _Fairy Belle_: they're little\n",
      "boats, and are worth money in the open market.  I can sell the wharfage\n",
      "and offices and the goodwill----\"\n",
      "\"What's the goodwill worth, Fred?\"\n",
      "\"About fivepence net,\" said the gloomy Fred.  \"I can sell all these,\n",
      "but it is the _Fairy Mary_ and the _Fairy Tilda_ that's breaking my\n",
      "heart.  And yet, Joe, there ain't two ships of their tonnage to be\n",
      "bought on the market.  If you wanted two ships of the same size and\n",
      "weight, you couldn't buy 'em for a million--no, you couldn't.  I guess\n",
      "they must be bad ships, Joe.\"\n",
      "Joe had already guessed that.\n",
      "\"I offered 'em to Saddler, of the White Anchor,\" Fred went on, \"and he\n",
      "said that if he ever started collecting curios he'd remember me.  Then\n",
      "I tried to sell 'em to the Coastal Cargo Line--the very ships for the\n",
      "Newcastle and Thames river trade--and he said he couldn't think of it\n",
      "now that the submarine season was over.  Then I offered 'em to young\n",
      "Topping, who thinks of running a line to the West Coast, but he said\n",
      "that he didn't believe in Fairies or Santa Claus or any of that stuff.\"\n",
      "There was silence.\n",
      "\"Who named 'em _Fairy Mary_ and _Fairy Tilda_?\" asked Joe curiously.\n",
      "\"Don't let's speak ill of the dead,\" begged Fred; \"the man who had 'em\n",
      "built is no longer with us, Joe.  They say that joy doesn't kill, but\n",
      "that's a lie, Joe.  He died two days after we took 'em over, and left\n",
      "all his money--all our money--to a nephew.\"\n",
      "\"I didn't know that,\" said Joe, sitting up.\n",
      "\"I didn't know it myself till the other day, when I took the deed of\n",
      "sale down to Cole to see if there wasn't a flaw in it somewhere.  I've\n",
      "wired him.\"\n",
      "\"Who--Cole?\"\n",
      "\"No, the young nephew.  If we could only----\"\n",
      "He did not complete his sentence, but there was a common emotion and\n",
      "understanding in the two pairs of eyes that met.\n",
      "\"Who is he--anybody?\" asked Joe vaguely.\n",
      "Fred broke off the ash of his cigar and nodded.\n",
      "\"Anybody worth half a million is somebody, Joe,\" he said seriously.\n",
      "\"This young fellow was in the Army.  He's out of it now, running a\n",
      "business in the City--'Schemes, Ltd.,' he calls it.  Lots of people\n",
      "know him--shipping people on the Coast.  He's got a horrible nickname.\"\n",
      "\"What's that, Fred?\"\n",
      "\"Bones,\" said Fred, in tones sufficiently sepulchral to be appropriate,\n",
      "\"and, Joe, he's one of those bones I want to pick.\"\n",
      "There was another office in that great and sorrowful City.  It was\n",
      "perhaps less of an office than a boudoir, for it had been furnished on\n",
      "the higher plan by a celebrated firm of furnishers and decorators,\n",
      "whose advertisements in the more exclusive publications consisted of a\n",
      "set of royal arms, a photograph of a Queen Anne chair, and the bold\n",
      "surname of the firm.  It was furnished with such exquisite taste that\n",
      "you could neither blame nor praise the disposition of a couch or the\n",
      "set of a purple curtain.\n",
      "The oxydized silver grate, the Persian carpets, the rosewood desk, with\n",
      "its Venetian glass flower vase, were all in harmony with the panelled\n",
      "walls, the gentlemanly clock which ticked sedately on the Adam\n",
      "mantelpiece, the Sheraton chairs, the silver--or apparently so--wall\n",
      "sconces, the delicate electrolier with its ballet skirts of purple silk.\n",
      "All these things were evidence of the careful upbringing and artistic\n",
      "yearnings of the young man who \"blended\" for the eminent firm of\n",
      "Messrs. Worrows, By Appointment to the King of Smyrna, His Majesty the\n",
      "Emperor ---- (the blank stands for an exalted name which had been\n",
      "painted out by the patriotic management of Worrows), and divers other\n",
      "royalties.\n",
      "The young man who sat in the exquisite chair, with his boots elevated\n",
      "to and resting upon the olive-green leather of the rosewood\n",
      "writing-table, had long since grown familiar with the magnificence in\n",
      "which he moved and had his being.  He sat chewing an expensive\n",
      "paper-knife of ivory, not because he was hungry, but because he was\n",
      "bored.  He had entered into his kingdom brimful of confidence and with\n",
      "unimagined thousands of pounds to his credit in the coffers of the\n",
      "Midland and Somerset Bank.\n",
      "He had brought with him a bright blue book, stoutly covered and\n",
      "brassily locked, on which was inscribed the word \"Schemes.\"\n",
      "That book was filled with writing of a most private kind and of a\n",
      "frenzied calculation which sprawled diagonally over pages, as for\n",
      "example:\n",
      "Buy up old houses  . . . . . . . . . say  2,000 pounds.\n",
      "Pull them down . . . . . . . . . . . say    500 pounds.\n",
      "Erect erect 50 Grand Flats . . . . . say 10,000 pounds.\n",
      "Paper, pante, windows, etc.  . . . . say  1,000 pounds.\n",
      "------\n",
      "Total  . . . . . . . . . . . .     12,000 pounds.\n",
      "50 Flats let at 80 pounds per annum.        40,000 lbs.\n",
      "Net profit . . . . . . . . . . . . . say   50 per cent.\n",
      "NOTE.--For good middel class familys steady steady people.  By this\n",
      "means means doing good turn to working classes solving houseing problem\n",
      "and making money which can be distribbuted distribbutted to the poor.\n",
      "Mr. Augustus Tibbetts, late of H.M. Houssa Rifles, was, as his\n",
      "doorplate testified, the Managing Director of \"Schemes, Ltd.\"  He was a\n",
      "severe looking young man, who wore a gold-rimmed monocle on his grey\n",
      "check waistcoat and occasionally in his left eye.  His face was of that\n",
      "brick-red which spoke of a life spent under tropical suns, and when\n",
      "erect he conveyed a momentary impression of a departed militarism.\n",
      "He uncurled his feet from the table, and, picking up a letter, read it\n",
      "through aloud--that is to say, he read certain words, skipped others,\n",
      "and substituted private idioms for all he could not or would not\n",
      "trouble to pronounce.\n",
      "\"Dear Sir,\" (he mumbled), \"as old friends of your dear uncle, and so on\n",
      "and so forth, we are taking the first opportunity of making widdly\n",
      "widdly wee....  Our Mr. Fred Pole will call upon you and place himself\n",
      "widdly widdly wee--tum tiddly um tum.--Yours truly.\"\n",
      "Mr. Tibbetts frowned at the letter and struck a bell with unnecessary\n",
      "violence.  There appeared in the doorway a wonderful man in scarlet\n",
      "breeches and green zouave jacket.  On his head was a dull red tarbosh,\n",
      "on his feet scarlet slippers, and about his waist a sash of Oriental\n",
      "audacity.  His face, large and placid, was black, and, for all his\n",
      "suggestiveness of the brilliant East, he was undoubtedly negroid.\n",
      "The costume was one of Mr. Tibbetts's schemes.  It was faithfully\n",
      "copied from one worn by a gentleman of colour who serves the Turkish\n",
      "coffee at the Wistaria Restaurant.  It may be said that there was no\n",
      "special reason why an ordinary business man should possess a bodyguard\n",
      "at all, and less reason why he should affect one who had the appearance\n",
      "of a burlesque Othello, but Mr. Augustus Tibbetts, though a business\n",
      "man, was not ordinary.\n",
      "\"Bones\"--for such a name he bore without protest in the limited circles\n",
      "of his friendship--looked up severely.\n",
      "\"Ali,\" he demanded, \"have you posted the ledger?\"\n",
      "\"Sir,\" said Ali, with a profound obeisance, \"the article was too\n",
      "copious for insertion in aperture of collection box, so it was\n",
      "transferred to the female lady behind postal department counter.\"\n",
      "Bones leapt up, staring.\n",
      "\"Goodness gracious, Heavens alive, you silly old ass--you--you haven't\n",
      "posted it--in the post?\"\n",
      "\"Sir,\" said Ali reproachfully, \"you instructed posting volume in exact\n",
      "formula.  Therefore I engulfed it in wrappings and ligatures of string,\n",
      "and safely delivered it to posting authority.\"\n",
      "Bones sank back in his chair.\n",
      "\"It's no use--no use, Ali,\" he said sadly, \"my poor uncivilized savage,\n",
      "it's not your fault.  I shall never bring you up to date, my poor silly\n",
      "old josser.  When I say 'post' the ledger, I mean write down all the\n",
      "money you've spent on cabs in the stamp book.  Goodness gracious alive!\n",
      "You can't run a business without system, Ali!  Don't you know that, my\n",
      "dear old image?  How the dooce do you think the auditors are to know\n",
      "how I spend my jolly old uncle's money if you don't write it down, hey?\n",
      "Posting means writing.  Good Heavens\"--a horrid thought dawned on\n",
      "him--\"who did you post it to?\"\n",
      "\"Lord,\" said Ali calmly, \"destination of posted volume is your\n",
      "lordship's private residency.\"\n",
      "All's English education had been secured in the laboratory of an\n",
      "English scientist in Sierra Leone, and long association with that\n",
      "learned man had endowed him with a vocabulary at once impressive and\n",
      "recondite.\n",
      "Bones gave a resigned sigh.\n",
      "\"I'm expecting----\" he began, when a silvery bell tinkled.\n",
      "It was silvery because the bell was of silver.  Bones looked up, pulled\n",
      "down his waistcoat, smoothed back his hair, fixed his eye-glass, and\n",
      "took up a long quill pen with a vivid purple feather.\n",
      "\"Show them in,\" he said gruffly.\n",
      "\"Them\" was one well-dressed young man in a shiny silk hat, who, when\n",
      "admitted to the inner sanctum, came soberly across the room, balancing\n",
      "his hat.\n",
      "\"Ah, Mr. Pole--Mr. Fred Pole.\"  Bones read the visitor's card with the\n",
      "scowl which he adopted for business hours.  \"Yes, yes.  Be seated, Mr.\n",
      "Pole.  I shall not keep you a minute.\"\n",
      "He had been waiting all the morning for Mr. Pole.  He had been weaving\n",
      "dreams from the letter-heading above Mr. Pole's letter.\n",
      "Ships ... ships ... house-flags ... brass-buttoned owners....\n",
      "He waved Mr. Fred to a chair and wrote furiously.  This frantic\n",
      "pressure of work was a phenomenon which invariably coincided with the\n",
      "arrival of a visitor.  It was, I think, partly due to nervousness and\n",
      "partly to his dislike of strangers.  Presently he finished, blotted the\n",
      "paper, stuck it in an envelope, addressed it, and placed it in his\n",
      "drawer.  Then he took up the card.\n",
      "\"Mr. Pole?\" he said.\n",
      "\"Mr. Pole,\" repeated that gentleman.\n",
      "\"Mr. _Fred_ Pole?\" asked Bones, with an air of surprise.\n",
      "\"Mr. Fred Pole,\" admitted the other soberly.\n",
      "Bones looked from the card to the visitor as though he could not\n",
      "believe his eyes.\n",
      "\"We have a letter from you somewhere,\" he said, searching the desk.\n",
      "\"Ah, here it is!\"  (It was, in fact, the only document on the table.)\n",
      "\"Yes, yes, to be sure.  I'm very glad to meet you.\"\n",
      "He rose, solemnly shook hands, sat down again and coughed.  Then he\n",
      "took up the ivory paper-knife to chew, coughed again as he detected the\n",
      "lapse, and put it down with a bang.\n",
      "\"I thought I'd like to come along and see you, Mr. Tibbetts,\" said Fred\n",
      "in his gentle voice; \"we are so to speak, associated in business.\"\n",
      "\"Indeed?\" said Bones.  \"In-deed?\"\n",
      "\"You see, Mr. Tibbetts,\" Fred went on, with a sad smile, \"your lamented\n",
      "uncle, before he went out of business, sold us his ships.  He died a\n",
      "month later.\"\n",
      "He sighed and Bones sighed.\n",
      "\"Your uncle was a great man, Mr. Tibbetts,\" he said, \"one of the\n",
      "greatest business men in this little city.  What a man!\"\n",
      "\"Ah!\" said Bones, shaking his head mournfully.\n",
      "He had never met his uncle and had seldom heard of him.  Saul Tibbetts\n",
      "was reputedly a miser, and his language was of such violence that the\n",
      "infant Augustus was invariably hurried to the nursery on such rare\n",
      "occasions as old Saul paid a family visit.  His inheritance had come to\n",
      "Bones as in a dream, from the unreality of which he had not yet\n",
      "awakened.\n",
      "\"I must confess, Mr. Tibbetts,\" said Fred, \"that I have often had\n",
      "qualms of conscience about your uncle, and I have been on the point of\n",
      "coming round to see you several times.  This morning I said to my\n",
      "brother, 'Joe,' I said, 'I'm going round to see Tibbetts.'  Forgive the\n",
      "familiarity, but we talk of firms like the Rothschilds and the Morgans\n",
      "without any formality.\"\n",
      "\"Naturally, naturally, naturally,\" murmured Bones gruffly.\n",
      "\"I said: 'I'll go and see Tibbetts and get it off my chest.  If he\n",
      "wants those ships back at the price we paid for them, or even less, he\n",
      "shall have them.'  'Fred,' he said, 'you're too sensitive for\n",
      "business.'  'Joe,' I said, 'my conscience works even in business\n",
      "hours.'\"\n",
      "A light dawned on Bones and he brightened visibly.\n",
      "\"Ah, yes, my dear old Pole,\" he said almost cheerily, \"I understand.\n",
      "You diddled my dear old uncle--bless his heart--out of money, and you\n",
      "want to pay it back.  Fred\"--Bones rose and extended his knuckly\n",
      "hand--\"you're a jolly old sportsman, and you can put it there!\"\n",
      "\"What I was going to say----\" began Fred seriously agitated.\n",
      "\"Not a word.  We'll have a bottle on this.  What will you\n",
      "have--ginger-beer or cider?\"\n",
      "Mr. Fred suppressed a shudder with difficulty.\n",
      "\"Wait, wait, Mr. Tibbetts,\" he begged; \"I think I ought to explain.  We\n",
      "did not, of course, knowingly rob your uncle----\"\n",
      "\"No, no, naturally,\" said Bones, with a facial contortion which passed\n",
      "for a wink.  \"Certainly not.  We business men never rob anybody.  Ali,\n",
      "bring the drinks!\"\n",
      "\"We did not consciously rob him,\" continued Mr. Fred desperately, \"but\n",
      "what we did do---- ah, this is my confession!\"\n",
      "\"You borrowed a bit and didn't pay it back.  Ah, naughty!\" said Bones.\n",
      "\"Out with the corkscrew, Ali.  What shall it be--a cream soda or\n",
      "non-alcoholic ale?\"\n",
      "Mr. Fred looked long and earnestly at the young man.\n",
      "\"Mr. Tibbetts,\" he said, and suddenly grasped the hand of Bones, \"I\n",
      "hope we are going to be friends.  I like you.  That's my peculiarity--I\n",
      "like people or I dislike them.  Now that I've told you that we bought\n",
      "two ships from your uncle for one hundred and forty thousand pounds\n",
      "when we knew--yes, positively knew--they were worth at least twenty\n",
      "thousand pounds more--now I've told you this, I feel happier.\"\n",
      "\"Worth twenty thousand pounds more?\" said Bones thoughtfully.\n",
      "Providence was working overtime for him, he thought.\n",
      "\"Of anybody's money,\" said Fred stoutly.  \"I don't care where you go,\n",
      "my dear chap.  Ask Cole--he's the biggest shipping lawyer in this\n",
      "city--ask my brother, who, I suppose, is the greatest shipping\n",
      "authority in the world, or--what's the use of asking 'em?--ask\n",
      "yourself.  If you're not Saul Tibbetts all over again, if you haven't\n",
      "the instinct and the eye and the brain of a shipowner--why, I'm a\n",
      "Dutchman!  That's what I am--a Dutchman!\"\n",
      "He picked up his hat and his lips were pressed tight--a gesture and a\n",
      "grimace which stood for grim conviction.\n",
      "\"What are they worth to-day?\" asked Bones, after a pause.\n",
      "\"What are they worth to-day?\"  Mr. Fred frowned heavily at the ceiling.\n",
      "\"Now, what are they worth to-day?  I forget how much I've spent on\n",
      "'em--they're in dock now.\"\n",
      "Bones tightened _his_ lips, too.\n",
      "\"They're in dock now?\" he said.  He scratched his nose.  \"Dear old Fred\n",
      "Pole,\" he said, \"you're a jolly old soul.  By Jove that's not bad!\n",
      "'Pole' an' 'soul' rhyme--did you notice it?\"\n",
      "Fred had noticed it.\n",
      "\"It's rum,\" said Bones, shaking his head, \"it is rum how things get\n",
      "about.  How did you know, old fellow-citizen, that I was going in for\n",
      "shippin'?\"\n",
      "Mr. Fred Pole did not know that Bones was going in for shipping, but he\n",
      "smiled.\n",
      "\"There are few things that happen in the City that I _don't_ know,\" he\n",
      "admitted modestly.\n",
      "\"The Tibbetts Line,\" said Bones firmly, \"will fly a house-flag of\n",
      "purple and green diagonally--that is, from corner to corner.  There\n",
      "will be a yellow anchor in a blue wreath in one corner and a capital T\n",
      "in a red wreath in the other.\"\n",
      "\"Original, distinctly original,\" said Fred in wondering admiration.\n",
      "\"Wherever did you get that idea?\"\n",
      "\"I get ideas,\" confessed Bones, blushing, \"some times in the night,\n",
      "sometimes in the day.  The fleet\"--Bones liked the sound of the word\n",
      "and repeated it--\"the fleet will consist of the _Augustus_, the\n",
      "_Sanders_--a dear old friend of mine living at Hindhead--the\n",
      "_Patricia_--another dear old friend of mine living at Hindhead, too--in\n",
      "fact, in the same house.  To tell you the truth, dear old Fred Pole,\n",
      "she's married to the other ship.  And there'll be the _Hamilton_,\n",
      "another precious old soul, a very, very, very, very dear friend of mine\n",
      "who's comin' home shortly----\"\n",
      "\"Well, what shall we say, Mr. Tibbetts?\" said Fred, who had an early\n",
      "luncheon appointment.  \"Would you care to buy the two boats at the same\n",
      "price we gave your uncle for them?\"\n",
      "Bones rang his bell.\n",
      "\"I'm a business man, dear old Fred,\" said he soberly.  \"There's no time\n",
      "like the present, and I'll fix the matter--_now!_\"\n",
      "He said \"now\" with a ferociousness which was intended to emphasize his\n",
      "hard and inflexible business character.\n",
      "Fred came into the private office of Pole & Pole after lunch that day,\n",
      "and there was in his face a great light and a peace which was almost\n",
      "beautiful.\n",
      "But never beamed the face of Fred so radiantly as the countenance of\n",
      "the waiting Joe.  He lay back in his chair, his cigar pointing to the\n",
      "ceiling.\n",
      "\"Well, Fred?\"--there was an anthem in his voice.\n",
      "\"Very well, Joe.\"  Fred hung up his unnecessary umbrella.\n",
      "\"I've sold the _Fairies_!\"\n",
      "Joe said it and Fred said it.  They said it together.  There was the\n",
      "same lilt of triumph in each voice, and both smiles vanished at the\n",
      "identical instant.\n",
      "\"_You've_ sold the _Fairies_!\" they said.\n",
      "They might have been rehearsing this scene for months, so perfect was\n",
      "the chorus.\n",
      "\"Wait a bit, Joe,\" said Fred; \"let's get the hang of this.  I\n",
      "understand that you left the matter to me.\"\n",
      "\"I did; but, Fred, I was so keen on the idea I had that I had to nip in\n",
      "before you.  Of course, I didn't go to him as Pole & Pole----\"\n",
      "\"To him?  What him?\" asked Fred, breathing hard.\n",
      "\"To What's-his-name--Bones.\"\n",
      "Fred took his blue silk handkerchief from his pocket and dabbed his\n",
      "face.\n",
      "\"Go on, Joe,\" he said sadly\n",
      "\"I got him just before he went out to lunch.  I sent up the United\n",
      "Merchant Shippers' card--it's our company, anyway.  Not a word about\n",
      "Pole & Pole.\"\n",
      "\"Oh, no, of course not!\" said Fred.\n",
      "\"And, my boy,\"--this was evidently Joe's greatest achievement, for he\n",
      "described the fact with gusto--\"not a word about the names of the\n",
      "ships.  I just sold him two steamers, so and so tonnage, so and so\n",
      "classification----\"\n",
      "\"For how much?\"\n",
      "Fred was mildly curious.  It was the curiosity which led a certain\n",
      "political prisoner to feel the edge of the axe before it beheaded him.\n",
      "\"A hundred and twenty thousand!\" cried Joe joyously.  \"He's starting a\n",
      "fleet, he says.  He's calling it the Tibbetts Line, and bought a couple\n",
      "of ships only this morning.\"\n",
      "Fred examined the ceiling carefully before he spoke.\n",
      "\"Joe,\" he said, \"was it a firm deal?  Did you put pen to paper?\"\n",
      "\"You-bet-your-dear-sweet-life,\" said Joe, scornful at the suggestion\n",
      "that he had omitted such an indispensable part of the negotiation.\n",
      "\"So did I, Joe,\" said Fred.  \"Those two ships he bought were the two\n",
      "_Fairies_.\"\n",
      "There was a dead silence.\n",
      "\"Well,\" said Joe uneasily, after a while, \"we can get a couple of\n",
      "ships----\"\n",
      "\"Where, Joe?  You admitted yesterday there weren't two boats in the\n",
      "world on the market.\"\n",
      "Another long silence.\n",
      "\"I did it for the best, Fred.\"\n",
      "Fred nodded\n",
      "\"Something must be done.  We can't sell a man what we haven't got.\n",
      "Joe, couldn't you go and play golf this afternoon whilst I wangle this\n",
      "matter out?\"\n",
      "Joe nodded and rose solemnly.  He took down his umbrella from the peg\n",
      "and his shiny silk hat from another peg, and tiptoed from the room.\n",
      "From three o'clock to four Mr. Fred Pole sat immersed in thought, and\n",
      "at last, with a big, heavy sigh, he unlocked his safe, took out his\n",
      "cheque-book and pocketed it.\n",
      "Bones was on the point of departure, after a most satisfactory day's\n",
      "work, when Fred Pole was announced.\n",
      "Bones greeted him like unto a brother--caught him by the hand at the\n",
      "very entrance and, still holding him thus, conducted him to one of his\n",
      "beautiful chairs.\n",
      "\"By Jove, dear old Fred,\" he babbled, \"it's good of you, old\n",
      "fellow--really good of you!  Business, my jolly old shipowner, waits\n",
      "for no man.  Ali, my cheque-book!\"\n",
      "\"A moment--just a moment, dear Mr. Bones,\" begged Fred.  \"You don't\n",
      "mind my calling you by the name which is already famous in the City?\"\n",
      "Bones looked dubious.\n",
      "\"Personally, I prefer Tibbetts,\" said Fred.\n",
      "\"Personally, dear old Fred, so do I,\" admitted Bones.\n",
      "\"I've come on a curious errand,\" said Fred in such hollow tones that\n",
      "Bones started.  \"The fact is, old man, I'm----\"\n",
      "He hung his head, and Bones laid a sympathetic hand on his shoulder.\n",
      "\"Anybody is liable to get that way, my jolly old roysterer,\" he said.\n",
      "\"Speakin' for myself, drink has no effect upon me--due to my jolly old\n",
      "nerves of iron an' all that sort of thing.\"\n",
      "\"I'm ashamed of myself,\" said Fred.\n",
      "\"Nothing to be ashamed of, my poor old toper,\" said Bones honestly in\n",
      "error.  \"Why, I remember once----\"\n",
      "\"As a business man, Mr. Tibbetts,\" said Fred bravely, \"can you forgive\n",
      "sentiment?\"\n",
      "\"Sentiment!  Why, you silly old josser, I'm all sentiment, dear old\n",
      "thing!  Why, I simply cry myself to sleep over dear old Charles\n",
      "What's-his-name's books!\"\n",
      "\"It's sentiment,\" said Fred brokenly.  \"I just can't--I simply can't\n",
      "part with those two ships I sold you.\"\n",
      "\"Hey?\" said Bones.\n",
      "\"They were your uncle's, but they have an association for me and my\n",
      "brother which it would be--er--profane to mention.  Mr. Tibbetts, let\n",
      "us cry off our bargain.\"\n",
      "Bones sniffed and rubbed his nose.\n",
      "\"Business, dear old Fred,\" he said gently.  \"Bear up an' play the man,\n",
      "as dear old Francis Drake said when they stopped him playin' cricket.\n",
      "Business, old friend.  I'd like to oblige you, but----\"\n",
      "He shook his head rapidly\n",
      "Mr. Fred slowly produced his cheque-book and laid it on the desk with\n",
      "the sigh of one who was about to indite his last wishes.\n",
      "\"You shall not be the loser,\" he said, with a catch in his voice, for\n",
      "he was genuinely grieved.  \"I must pay for my weakness.  What is five\n",
      "hundred pounds?\"\n",
      "\"What is a thousand, if it comes to that, Freddy?\" said Bones.\n",
      "\"Gracious goodness, I shall be awfully disappointed if you back out--I\n",
      "shall be so vexed, really.\"\n",
      "\"Seven hundred and fifty?\" asked Fred, with pleading in his eye.\n",
      "\"Make it a thousand, dear old Fred,\" said Bones; \"I can't add up\n",
      "fifties.\"\n",
      "So \"in consideration\" (as Fred wrote rapidly and Bones signed more\n",
      "rapidly) \"of the sum of one thousand pounds (say £1,000), the contract\n",
      "as between &c., &c.,\" was cancelled, and Fred became again the\n",
      "practical man of affairs.\n",
      "\"Dear old Fred,\" said Bones, folding the cheque and sticking it in his\n",
      "pocket, \"I'm goin' to own up--frankness is a vice with me--that I don't\n",
      "understand much about the shippin' business.  But tell me, my jolly old\n",
      "merchant, why do fellers sell you ships in the mornin' an' buy 'em back\n",
      "in the afternoon?\"\n",
      "\"Business, Mr. Tibbetts,\" said Fred, smiling, \"just big business.\"\n",
      "Bones sucked an inky finger.\n",
      "\"Dinky business for me, dear old thing,\" he said.  \"I've got a thousand\n",
      "from you an' a thousand from the other Johnny who sold me two ships.\n",
      "Bless my life an' soul----\"\n",
      "\"The other fellow,\" said Fred faintly--\"a fellow from the United\n",
      "Merchant Shippers?\"\n",
      "\"That was the dear lad,\" said Bones.\n",
      "\"And has he cried off his bargain, too?\"\n",
      "\"Positively!\" said Bones.  \"A very, very nice, fellow.  He told me I\n",
      "could call him Joe--jolly old Joe!\"\n",
      "\"Jolly old Joe!\" repeated Fred mechanically, as he left the office, and\n",
      "all the way home he was saying \"Jolly old Joe!\"\n"
     ]
    }
   ],
   "source": [
    "book.read(chapter=1)"
   ]
  },
  {
   "cell_type": "code",
   "execution_count": 9,
   "metadata": {
    "slideshow": {
     "slide_type": "slide"
    }
   },
   "outputs": [
    {
     "name": "stdout",
     "output_type": "stream",
     "text": [
      "The strain and embarrassment of the new relationship with her master\n",
      "were intensified by the arrival of a daughter, and doubled when that\n",
      "daughter came to a knowledgeable age.  Marguerite Whitland had the\n",
      "inherent culture of her father and the grace and delicate beauty which\n",
      "had ever distinguished the women of the house of Bortledyne.\n"
     ]
    }
   ],
   "source": [
    "book.open_book(chapter=2).read(paragraph_idx=3)"
   ]
  },
  {
   "cell_type": "code",
   "execution_count": 10,
   "metadata": {
    "slideshow": {
     "slide_type": "slide"
    }
   },
   "outputs": [
    {
     "name": "stdout",
     "output_type": "stream",
     "text": [
      "The strain and embarrassment of the new relationship with her master\n",
      "were intensified by the arrival of a daughter, and doubled when that\n",
      "daughter came to a knowledgeable age.  Marguerite Whitland had the\n",
      "inherent culture of her father and the grace and delicate beauty which\n",
      "had ever distinguished the women of the house of Bortledyne.\n"
     ]
    }
   ],
   "source": [
    "book.open_book(chapter=2).read(3)"
   ]
  },
  {
   "cell_type": "markdown",
   "metadata": {
    "slideshow": {
     "slide_type": "slide"
    }
   },
   "source": [
    "### Creating Multiple Instances\n",
    "\n",
    "You can create as many instances from a class as you need. Even if we used the same `title`, `author`, and `chapters` for the second book, Python would still create a separate instance from the `Book` class. You can make as many instances from one class as you need, as long as you give each instance a unique variable name or it occupies a unique spot in a list or dictionary."
   ]
  },
  {
   "cell_type": "code",
   "execution_count": 11,
   "metadata": {
    "slideshow": {
     "slide_type": "slide"
    }
   },
   "outputs": [
    {
     "data": {
      "text/plain": [
       "Book('Bones in London', 'Edgar Wallace', [<__main__.Chapter object at 0x7fd5a04d8390>, <__main__.Chapter object at 0x7fd5a04d8350>])"
      ]
     },
     "execution_count": 11,
     "metadata": {},
     "output_type": "execute_result"
    }
   ],
   "source": [
    "chapter_1 = Chapter(1, 'Bones and Big Business', get_text(bones_book,82, 762))\n",
    "chapter_2 = Chapter(2, 'Hidden Treassure', get_text(bones_book,769, 1455))\n",
    "book = Book('Bones in London', 'Edgar Wallace', [chapter_1, chapter_2])\n",
    "\n",
    "book"
   ]
  },
  {
   "cell_type": "markdown",
   "metadata": {
    "slideshow": {
     "slide_type": "slide"
    }
   },
   "source": [
    "# Working with Classes and Instances\n",
    "\n",
    "You can use classes to represent many real-world situations. Once you write a class, you will spend most of your time working with instances created from that class. One of the first tasks you will want to do is modify the attributes associated with a particular instance. You can modify the attributes of an instance directly or write methods that update attributes in specific ways.\n",
    "\n",
    "\n",
    "## String representation\n",
    "\n",
    "**`__repr__()` vs `__str__()` methods**:\n",
    "\n",
    "\n",
    "`__repr__` is a special method, that is called by the `repr()` built-in python method, to get string representation of the object for inspection. If we did not implement `__repr__`, book instances would be shown in the console like `<Book at 0x7f43aea894a8>`.  \n",
    "The interactive console and debugger call `repr()` on the results of the expressions evaluated, \n",
    "\n",
    "Note that in our `__repr__` implementation we used the `%r`-placeholder to obtain the standard representation of the attributes to be displayed. This is good practice (since `%r` is using the objects __repr__ method, where `%s` is using its __str__ method).\n",
    "\n",
    "The string returned by `__repr__` should be unambiguous and, if possible, **match the source code necessary to recreate the object** being represented. That is why our chosen representation looks like calling the constructor of the class, e.g. `Book('The Book of Silence', 'Nobody', [])`.\n",
    "\n",
    "Contrast `__repr__` with `__str__`, which is called by the `str()` constructor and **implicitly used by the print function**. `__str__` should return **a string suitable for display to end-users**.\n",
    "\n",
    "\n",
    "If you only implement one of these special methods, choose `__repr__`, because when no custom `__str__` is available, Python will call `__repr__` as a fallback.\n"
   ]
  },
  {
   "cell_type": "code",
   "execution_count": 12,
   "metadata": {
    "slideshow": {
     "slide_type": "slide"
    }
   },
   "outputs": [
    {
     "data": {
      "text/plain": [
       "'Bones in London by Edgar Wallace has 2 chapters.'"
      ]
     },
     "execution_count": 12,
     "metadata": {},
     "output_type": "execute_result"
    }
   ],
   "source": [
    "str(book)"
   ]
  },
  {
   "cell_type": "code",
   "execution_count": 13,
   "metadata": {
    "slideshow": {
     "slide_type": "slide"
    }
   },
   "outputs": [],
   "source": [
    "class Book():\n",
    "    \"\"\"A simple book model consisting of chapters, which in \n",
    "    turn consist of paragraphs.\"\"\"\n",
    "\n",
    "    def __init__(self, title, author, chapters=[]):\n",
    "        \"\"\"Initialize title, the author, and the chapters.\"\"\"\n",
    "        self.title = title \n",
    "        self.author = author\n",
    "        self.chapters = chapters        \n",
    "    \n",
    "    def __repr__(self):\n",
    "        return 'Book(%r, %r, %r)' % (self.title, self.author, \n",
    "                                     self.chapters)\n",
    "    \n",
    "    def __str__(self):\n",
    "        return '{name} by {by} has {nr_chap} chapters.'.format(\n",
    "            name=self.title, by=self.author, nr_chap=len(self.chapters))\n",
    "    \n",
    "    \n",
    "    def read(self, chapter=1):\n",
    "        \"\"\"Simulate reading a chapter, by calling the reading \n",
    "        method of a chapter.\"\"\" \n",
    "        self.chapters[chapter - 1].read()\n",
    "        \n",
    "    def open_book(self, chapter=1):\n",
    "        \"\"\"Simulate opening a book, which returns a chapter \n",
    "        object.\"\"\" \n",
    "        return self.chapters[chapter - 1]\n",
    "    \n",
    "\n",
    "class Chapter():\n",
    "\n",
    "    def __init__(self, number, title, paragraphs):\n",
    "        \"\"\"A chapter consists of multiple paragraphs.\"\"\"\n",
    "        self.number = number\n",
    "        self.title = title\n",
    "        self.paragraphs = []\n",
    "        for paragraph_lines in paragraphs:\n",
    "            new_pragraph = Paragraph(paragraph_lines)\n",
    "            self.paragraphs.append(new_pragraph)\n",
    "\n",
    "    def __repr__(self):\n",
    "        return 'Chapter(%r, %r, %r)' % (self.number, self.title, \n",
    "                                        self.paragraphs)\n",
    "    \n",
    "    def read(self, paragraph_idx=None):\n",
    "        \"\"\"A paragraph can be read.\"\"\" \n",
    "        if paragraph_idx:\n",
    "            self.paragraphs[paragraph_idx].read()\n",
    "        else:\n",
    "            for paragraph in self.paragraphs:\n",
    "                paragraph.read()\n",
    "                \n",
    "class Paragraph():\n",
    "    \"\"\"A paragraph consists of a list of lines.\"\"\"\n",
    "\n",
    "    def __init__(self, lines):\n",
    "        \"\"\"Initialize the paragraph with its lines of text.\"\"\"\n",
    "        self.lines = lines\n",
    "        \n",
    "    def __repr__(self):\n",
    "        return 'Paragraph(%r)' % (self.lines)\n",
    "    \n",
    "    def __str__(self):\n",
    "        return '{}...'.format(self.lines[0][0:35])\n",
    "\n",
    "    def read(self):\n",
    "        \"\"\"Simulate reading a paragraph by printing its contents.\"\"\" \n",
    "        for line in self.lines:\n",
    "            print(line)"
   ]
  },
  {
   "cell_type": "code",
   "execution_count": 14,
   "metadata": {
    "slideshow": {
     "slide_type": "slide"
    }
   },
   "outputs": [
    {
     "name": "stdout",
     "output_type": "stream",
     "text": [
      "The Empty Book by Nobody has 0 chapters.\n",
      "<__main__.Paragraph object at 0x7fd5a04fe290>\n"
     ]
    },
    {
     "data": {
      "text/plain": [
       "[<__main__.Paragraph at 0x7fd5a04fe290>,\n",
       " <__main__.Paragraph at 0x7fd5a04fe2d0>,\n",
       " <__main__.Paragraph at 0x7fd5a04fe310>,\n",
       " <__main__.Paragraph at 0x7fd5a04fe350>,\n",
       " <__main__.Paragraph at 0x7fd5a04fe390>,\n",
       " <__main__.Paragraph at 0x7fd5a04fe410>,\n",
       " <__main__.Paragraph at 0x7fd5a04fe450>,\n",
       " <__main__.Paragraph at 0x7fd5a04fe490>,\n",
       " <__main__.Paragraph at 0x7fd5a04fe4d0>,\n",
       " <__main__.Paragraph at 0x7fd5a04fe3d0>,\n",
       " <__main__.Paragraph at 0x7fd5a04fe510>,\n",
       " <__main__.Paragraph at 0x7fd5a04fe550>,\n",
       " <__main__.Paragraph at 0x7fd5a04fe590>,\n",
       " <__main__.Paragraph at 0x7fd5a04fe5d0>,\n",
       " <__main__.Paragraph at 0x7fd5a04fe610>,\n",
       " <__main__.Paragraph at 0x7fd5a04fe650>,\n",
       " <__main__.Paragraph at 0x7fd5a04fe690>,\n",
       " <__main__.Paragraph at 0x7fd5a04fe6d0>,\n",
       " <__main__.Paragraph at 0x7fd5a04fe710>,\n",
       " <__main__.Paragraph at 0x7fd5a04fe750>,\n",
       " <__main__.Paragraph at 0x7fd5a04fe790>,\n",
       " <__main__.Paragraph at 0x7fd5a04fe7d0>,\n",
       " <__main__.Paragraph at 0x7fd5a04fe810>,\n",
       " <__main__.Paragraph at 0x7fd5a04fe850>,\n",
       " <__main__.Paragraph at 0x7fd5a04fe890>,\n",
       " <__main__.Paragraph at 0x7fd5a04fe8d0>,\n",
       " <__main__.Paragraph at 0x7fd5a04fe910>,\n",
       " <__main__.Paragraph at 0x7fd5a04fe950>,\n",
       " <__main__.Paragraph at 0x7fd5a04fe990>,\n",
       " <__main__.Paragraph at 0x7fd5a04fe9d0>,\n",
       " <__main__.Paragraph at 0x7fd5a04fea10>,\n",
       " <__main__.Paragraph at 0x7fd5a04fea50>,\n",
       " <__main__.Paragraph at 0x7fd5a04fea90>,\n",
       " <__main__.Paragraph at 0x7fd5a04fead0>,\n",
       " <__main__.Paragraph at 0x7fd5a04feb10>,\n",
       " <__main__.Paragraph at 0x7fd5a04feb50>,\n",
       " <__main__.Paragraph at 0x7fd5a04feb90>,\n",
       " <__main__.Paragraph at 0x7fd5a04febd0>,\n",
       " <__main__.Paragraph at 0x7fd5a04fec10>,\n",
       " <__main__.Paragraph at 0x7fd5a04fec50>,\n",
       " <__main__.Paragraph at 0x7fd5a04fec90>,\n",
       " <__main__.Paragraph at 0x7fd5a04fecd0>,\n",
       " <__main__.Paragraph at 0x7fd5a04fed10>,\n",
       " <__main__.Paragraph at 0x7fd5a04fed50>,\n",
       " <__main__.Paragraph at 0x7fd5a04fed90>,\n",
       " <__main__.Paragraph at 0x7fd5a04fedd0>,\n",
       " <__main__.Paragraph at 0x7fd5a04fee10>,\n",
       " <__main__.Paragraph at 0x7fd5a04fee50>,\n",
       " <__main__.Paragraph at 0x7fd5a04fee90>,\n",
       " <__main__.Paragraph at 0x7fd5a04feed0>,\n",
       " <__main__.Paragraph at 0x7fd5a04fef10>,\n",
       " <__main__.Paragraph at 0x7fd5a04fef50>,\n",
       " <__main__.Paragraph at 0x7fd5a04fef90>,\n",
       " <__main__.Paragraph at 0x7fd5a04fefd0>,\n",
       " <__main__.Paragraph at 0x7fd5a0484050>,\n",
       " <__main__.Paragraph at 0x7fd5a0484090>,\n",
       " <__main__.Paragraph at 0x7fd5a04840d0>,\n",
       " <__main__.Paragraph at 0x7fd5a0484110>,\n",
       " <__main__.Paragraph at 0x7fd5a0484150>,\n",
       " <__main__.Paragraph at 0x7fd5a0484190>,\n",
       " <__main__.Paragraph at 0x7fd5a04841d0>,\n",
       " <__main__.Paragraph at 0x7fd5a0484210>,\n",
       " <__main__.Paragraph at 0x7fd5a0484250>,\n",
       " <__main__.Paragraph at 0x7fd5a0484290>,\n",
       " <__main__.Paragraph at 0x7fd5a04842d0>,\n",
       " <__main__.Paragraph at 0x7fd5a0484310>,\n",
       " <__main__.Paragraph at 0x7fd5a0484350>,\n",
       " <__main__.Paragraph at 0x7fd5a0484390>,\n",
       " <__main__.Paragraph at 0x7fd5a04843d0>,\n",
       " <__main__.Paragraph at 0x7fd5a0484410>,\n",
       " <__main__.Paragraph at 0x7fd5a0484450>,\n",
       " <__main__.Paragraph at 0x7fd5a0484490>,\n",
       " <__main__.Paragraph at 0x7fd5a04844d0>,\n",
       " <__main__.Paragraph at 0x7fd5a0484510>,\n",
       " <__main__.Paragraph at 0x7fd5a0484550>,\n",
       " <__main__.Paragraph at 0x7fd5a0484590>,\n",
       " <__main__.Paragraph at 0x7fd5a04845d0>,\n",
       " <__main__.Paragraph at 0x7fd5a0484610>,\n",
       " <__main__.Paragraph at 0x7fd5a0484650>,\n",
       " <__main__.Paragraph at 0x7fd5a0484690>,\n",
       " <__main__.Paragraph at 0x7fd5a04846d0>,\n",
       " <__main__.Paragraph at 0x7fd5a0484710>,\n",
       " <__main__.Paragraph at 0x7fd5a0484750>,\n",
       " <__main__.Paragraph at 0x7fd5a0484790>,\n",
       " <__main__.Paragraph at 0x7fd5a04847d0>,\n",
       " <__main__.Paragraph at 0x7fd5a0484810>,\n",
       " <__main__.Paragraph at 0x7fd5a0484850>,\n",
       " <__main__.Paragraph at 0x7fd5a0484890>,\n",
       " <__main__.Paragraph at 0x7fd5a04848d0>,\n",
       " <__main__.Paragraph at 0x7fd5a0484910>,\n",
       " <__main__.Paragraph at 0x7fd5a0484950>,\n",
       " <__main__.Paragraph at 0x7fd5a0484990>,\n",
       " <__main__.Paragraph at 0x7fd5a04849d0>,\n",
       " <__main__.Paragraph at 0x7fd5a0484a10>,\n",
       " <__main__.Paragraph at 0x7fd5a0484a50>,\n",
       " <__main__.Paragraph at 0x7fd5a0484a90>,\n",
       " <__main__.Paragraph at 0x7fd5a0484ad0>,\n",
       " <__main__.Paragraph at 0x7fd5a0484b10>,\n",
       " <__main__.Paragraph at 0x7fd5a0484b50>,\n",
       " <__main__.Paragraph at 0x7fd5a0484b90>,\n",
       " <__main__.Paragraph at 0x7fd5a0484bd0>,\n",
       " <__main__.Paragraph at 0x7fd5a0484c10>,\n",
       " <__main__.Paragraph at 0x7fd5a0484c50>,\n",
       " <__main__.Paragraph at 0x7fd5a0484c90>,\n",
       " <__main__.Paragraph at 0x7fd5a0484cd0>,\n",
       " <__main__.Paragraph at 0x7fd5a0484d10>,\n",
       " <__main__.Paragraph at 0x7fd5a0484d50>,\n",
       " <__main__.Paragraph at 0x7fd5a0484d90>,\n",
       " <__main__.Paragraph at 0x7fd5a0484dd0>,\n",
       " <__main__.Paragraph at 0x7fd5a0484e10>,\n",
       " <__main__.Paragraph at 0x7fd5a0484e50>,\n",
       " <__main__.Paragraph at 0x7fd5a0484e90>,\n",
       " <__main__.Paragraph at 0x7fd5a0484ed0>,\n",
       " <__main__.Paragraph at 0x7fd5a0484f10>,\n",
       " <__main__.Paragraph at 0x7fd5a0484f50>,\n",
       " <__main__.Paragraph at 0x7fd5a0484f90>,\n",
       " <__main__.Paragraph at 0x7fd5a0484fd0>,\n",
       " <__main__.Paragraph at 0x7fd5a0487050>,\n",
       " <__main__.Paragraph at 0x7fd5a0487090>,\n",
       " <__main__.Paragraph at 0x7fd5a04870d0>,\n",
       " <__main__.Paragraph at 0x7fd5a0487110>,\n",
       " <__main__.Paragraph at 0x7fd5a0487150>,\n",
       " <__main__.Paragraph at 0x7fd5a0487190>,\n",
       " <__main__.Paragraph at 0x7fd5a04871d0>,\n",
       " <__main__.Paragraph at 0x7fd5a0487210>,\n",
       " <__main__.Paragraph at 0x7fd5a0487250>,\n",
       " <__main__.Paragraph at 0x7fd5a0487290>,\n",
       " <__main__.Paragraph at 0x7fd5a04872d0>,\n",
       " <__main__.Paragraph at 0x7fd5a0487310>,\n",
       " <__main__.Paragraph at 0x7fd5a0487350>,\n",
       " <__main__.Paragraph at 0x7fd5a0487390>,\n",
       " <__main__.Paragraph at 0x7fd5a04873d0>,\n",
       " <__main__.Paragraph at 0x7fd5a0487410>,\n",
       " <__main__.Paragraph at 0x7fd5a0487450>,\n",
       " <__main__.Paragraph at 0x7fd5a0487490>,\n",
       " <__main__.Paragraph at 0x7fd5a04874d0>,\n",
       " <__main__.Paragraph at 0x7fd5a0487510>,\n",
       " <__main__.Paragraph at 0x7fd5a0487550>,\n",
       " <__main__.Paragraph at 0x7fd5a0487590>,\n",
       " <__main__.Paragraph at 0x7fd5a04875d0>,\n",
       " <__main__.Paragraph at 0x7fd5a0487610>,\n",
       " <__main__.Paragraph at 0x7fd5a0487650>,\n",
       " <__main__.Paragraph at 0x7fd5a0487690>,\n",
       " <__main__.Paragraph at 0x7fd5a04876d0>,\n",
       " <__main__.Paragraph at 0x7fd5a0487710>,\n",
       " <__main__.Paragraph at 0x7fd5a0487750>,\n",
       " <__main__.Paragraph at 0x7fd5a0487790>,\n",
       " <__main__.Paragraph at 0x7fd5a04877d0>,\n",
       " <__main__.Paragraph at 0x7fd5a0487810>,\n",
       " <__main__.Paragraph at 0x7fd5a0487850>,\n",
       " <__main__.Paragraph at 0x7fd5a0487890>,\n",
       " <__main__.Paragraph at 0x7fd5a04878d0>,\n",
       " <__main__.Paragraph at 0x7fd5a0487910>,\n",
       " <__main__.Paragraph at 0x7fd5a0487950>,\n",
       " <__main__.Paragraph at 0x7fd5a0487990>,\n",
       " <__main__.Paragraph at 0x7fd5a04879d0>,\n",
       " <__main__.Paragraph at 0x7fd5a0487a10>,\n",
       " <__main__.Paragraph at 0x7fd5a0487a50>,\n",
       " <__main__.Paragraph at 0x7fd5a0487a90>,\n",
       " <__main__.Paragraph at 0x7fd5a0487ad0>,\n",
       " <__main__.Paragraph at 0x7fd5a0487b10>,\n",
       " <__main__.Paragraph at 0x7fd5a0487b50>,\n",
       " <__main__.Paragraph at 0x7fd5a0487b90>,\n",
       " <__main__.Paragraph at 0x7fd5a0487bd0>,\n",
       " <__main__.Paragraph at 0x7fd5a0487c10>,\n",
       " <__main__.Paragraph at 0x7fd5a0487c50>,\n",
       " <__main__.Paragraph at 0x7fd5a0487c90>,\n",
       " <__main__.Paragraph at 0x7fd5a0487cd0>,\n",
       " <__main__.Paragraph at 0x7fd5a0487d10>,\n",
       " <__main__.Paragraph at 0x7fd5a0487d50>,\n",
       " <__main__.Paragraph at 0x7fd5a0487d90>,\n",
       " <__main__.Paragraph at 0x7fd5a0487dd0>,\n",
       " <__main__.Paragraph at 0x7fd5a0487e10>,\n",
       " <__main__.Paragraph at 0x7fd5a0487e50>,\n",
       " <__main__.Paragraph at 0x7fd5a0487e90>,\n",
       " <__main__.Paragraph at 0x7fd5a0487ed0>,\n",
       " <__main__.Paragraph at 0x7fd5a0487f10>,\n",
       " <__main__.Paragraph at 0x7fd5a0487f50>,\n",
       " <__main__.Paragraph at 0x7fd5a0487f90>,\n",
       " <__main__.Paragraph at 0x7fd5a0487fd0>,\n",
       " <__main__.Paragraph at 0x7fd5a0489050>,\n",
       " <__main__.Paragraph at 0x7fd5a0489090>,\n",
       " <__main__.Paragraph at 0x7fd5a04890d0>,\n",
       " <__main__.Paragraph at 0x7fd5a0489110>,\n",
       " <__main__.Paragraph at 0x7fd5a0489150>,\n",
       " <__main__.Paragraph at 0x7fd5a0489190>,\n",
       " <__main__.Paragraph at 0x7fd5a04891d0>,\n",
       " <__main__.Paragraph at 0x7fd5a0489210>,\n",
       " <__main__.Paragraph at 0x7fd5a0489250>,\n",
       " <__main__.Paragraph at 0x7fd5a0489290>,\n",
       " <__main__.Paragraph at 0x7fd5a04892d0>,\n",
       " <__main__.Paragraph at 0x7fd5a0489310>,\n",
       " <__main__.Paragraph at 0x7fd5a0489350>,\n",
       " <__main__.Paragraph at 0x7fd5a0489390>,\n",
       " <__main__.Paragraph at 0x7fd5a04893d0>,\n",
       " <__main__.Paragraph at 0x7fd5a0489410>]"
      ]
     },
     "execution_count": 14,
     "metadata": {},
     "output_type": "execute_result"
    }
   ],
   "source": [
    "#chapter_1 = Chapter(1, 'Bones and Big Business', get_text(82, 762))\n",
    "#chapter_2 = Chapter(2, 'Hidden Treassure', get_text(769, 1455))\n",
    "#book = Book('Bones in London', 'Edgar Wallace', [chapter_1, chapter_2])\n",
    "\n",
    "empty_book = Book('The Empty Book', 'Nobody')\n",
    "\n",
    "print(empty_book)\n",
    "print(book.chapters[1].paragraphs[0])\n",
    "\n",
    "book.chapters[1].paragraphs"
   ]
  },
  {
   "cell_type": "markdown",
   "metadata": {},
   "source": [
    "## Setting a Default Value for an Attribute\n",
    "\n",
    "Every attribute in a class needs an initial value, even if that value is 0 or an empty string. In some cases, such as when setting a default value, it makes sense to specify this initial value in the body of the `__init__()` method; if you do this for an attribute, you do not have to include a parameter for that attribute.\n",
    "\n",
    "Let’s add an attribute called `reading_position` that always starts with a value of `0`. We’ll also add a method `get_reading_position()` that returns a reader's current position in the text."
   ]
  },
  {
   "cell_type": "code",
   "execution_count": 15,
   "metadata": {
    "slideshow": {
     "slide_type": "slide"
    }
   },
   "outputs": [],
   "source": [
    "class Paragraph():\n",
    "    \"\"\"A paragraph consists of a list of lines.\"\"\"\n",
    "\n",
    "    def __init__(self, lines):\n",
    "        \"\"\"Initialize name and age attributes.\"\"\"\n",
    "        self.lines = lines\n",
    "        self.reading_position = 0\n",
    "        \n",
    "    def read(self):\n",
    "        \"\"\"Simulate reading a paragraph by printing its contents.\"\"\" \n",
    "        # for line in self.lines:\n",
    "        #     print(line)\n",
    "        print(self.lines[self.reading_position])\n",
    "            \n",
    "    def get_reading_position(self):\n",
    "        return self.reading_position"
   ]
  },
  {
   "cell_type": "code",
   "execution_count": 16,
   "metadata": {
    "slideshow": {
     "slide_type": "slide"
    }
   },
   "outputs": [
    {
     "data": {
      "text/plain": [
       "0"
      ]
     },
     "execution_count": 16,
     "metadata": {},
     "output_type": "execute_result"
    }
   ],
   "source": [
    "paragraph = Paragraph([])\n",
    "paragraph.reading_position"
   ]
  },
  {
   "cell_type": "code",
   "execution_count": 17,
   "metadata": {
    "slideshow": {
     "slide_type": "slide"
    }
   },
   "outputs": [],
   "source": [
    "class Paragraph():\n",
    "    \"\"\"A paragraph consists of a list of lines.\"\"\"\n",
    "\n",
    "    def __init__(self, lines):\n",
    "        \"\"\"Initialize name and age attributes.\"\"\"\n",
    "        self.lines = lines\n",
    "        self.reading_position = 0\n",
    "        \n",
    "    def read(self):\n",
    "        \"\"\"Simulate reading a paragraph by printing its contents.\"\"\" \n",
    "        # for line in self.lines:\n",
    "        #     print(line)\n",
    "        print(self.lines[self.reading_position])\n",
    "\n",
    "    def get_reading_position(self):\n",
    "        return self.reading_position"
   ]
  },
  {
   "cell_type": "code",
   "execution_count": 18,
   "metadata": {
    "slideshow": {
     "slide_type": "slide"
    }
   },
   "outputs": [
    {
     "data": {
      "text/plain": [
       "[]"
      ]
     },
     "execution_count": 18,
     "metadata": {},
     "output_type": "execute_result"
    }
   ],
   "source": [
    "paragraph = Paragraph([])\n",
    "paragraph.lines"
   ]
  },
  {
   "cell_type": "code",
   "execution_count": 19,
   "metadata": {
    "slideshow": {
     "slide_type": "slide"
    }
   },
   "outputs": [
    {
     "name": "stdout",
     "output_type": "stream",
     "text": [
      "Her second husband had begun life at the bottom of the ladder as a\n"
     ]
    }
   ],
   "source": [
    "fst_paragraph = Paragraph([\n",
    "    \"Mrs. Staleyborn's first husband was a dreamy Fellow of a Learned\", \n",
    "    'University.']),\n",
    "snd_paragraph = Paragraph([\n",
    "    'Her second husband had begun life at the bottom of the ladder as a', \n",
    "    'three-card trickster, and by strict attention to business and the', \n",
    "    'exercise of his natural genius, had attained to the proprietorship of a', \n",
    "    'bucket-shop.'])\n",
    "snd_paragraph.read()"
   ]
  },
  {
   "cell_type": "markdown",
   "metadata": {
    "slideshow": {
     "slide_type": "slide"
    }
   },
   "source": [
    "## Modifying Attribute Values\n",
    "\n",
    "You can change an attribute’s value in three ways: \n",
    "\n",
    "  * you can change the value directly through an instance, \n",
    "  * set the value through a method, \n",
    "  * or increment the value (add a certain amount to it) through a method. \n",
    " \n",
    "Let’s look at each of these approaches.\n",
    "\n",
    "### Modifying an Attribute’s Value Directly\n",
    "\n",
    "The simplest way to modify the value of an attribute is to access the attribute directly through an instance. Here we set the `reading_position` to `3` directly."
   ]
  },
  {
   "cell_type": "code",
   "execution_count": 20,
   "metadata": {
    "slideshow": {
     "slide_type": "slide"
    }
   },
   "outputs": [
    {
     "data": {
      "text/plain": [
       "3"
      ]
     },
     "execution_count": 20,
     "metadata": {},
     "output_type": "execute_result"
    }
   ],
   "source": [
    "snd_paragraph.reading_position = 3\n",
    "snd_paragraph.get_reading_position()"
   ]
  },
  {
   "cell_type": "markdown",
   "metadata": {
    "slideshow": {
     "slide_type": "slide"
    }
   },
   "source": [
    "### Modifying an Attribute’s Value Through a Method\n",
    "\n",
    "It can be helpful to have methods that update certain attributes for you. Instead of accessing the attribute directly, you pass the new value to a method that handles the updating internally.\n",
    "\n",
    "We can extend the method `update_reading_position(self, new_position)` to do additional work every time the reading position is modified. Let’s add a little logic to make sure no one tries to set the reading position beyond a paragraph's limit."
   ]
  },
  {
   "cell_type": "code",
   "execution_count": 21,
   "metadata": {
    "slideshow": {
     "slide_type": "slide"
    }
   },
   "outputs": [],
   "source": [
    "class Paragraph():\n",
    "    \"\"\"A paragraph consists of a list of lines.\"\"\"\n",
    "\n",
    "    def __init__(self, lines):\n",
    "        \"\"\"Initialize name and age attributes.\"\"\"\n",
    "        self.lines = lines\n",
    "        self.reading_position = 0\n",
    "        \n",
    "    def read(self):\n",
    "        \"\"\"Simulate reading a paragraph by printing its contents.\"\"\" \n",
    "        # for line in self.lines:\n",
    "        #     print(line)\n",
    "        print(self.lines[self.reading_position])\n",
    "\n",
    "    def get_reading_position(self):\n",
    "        return self.reading_position\n",
    "    \n",
    "    def update_reading_position(self, new_position):\n",
    "        if new_position <= len(self.lines) - 1:\n",
    "            self.reading_position = new_position\n",
    "    \n",
    "    \n",
    "snd_paragraph = Paragraph([\n",
    "    'Her second husband had begun life at the bottom of the ladder as a', \n",
    "    'three-card trickster, and by strict attention to business and the', \n",
    "    'exercise of his natural genius, had attained to the proprietorship of a', \n",
    "    'bucket-shop.'])"
   ]
  },
  {
   "cell_type": "code",
   "execution_count": 22,
   "metadata": {
    "slideshow": {
     "slide_type": "slide"
    }
   },
   "outputs": [
    {
     "name": "stdout",
     "output_type": "stream",
     "text": [
      "0\n",
      "3\n",
      "bucket-shop.\n"
     ]
    }
   ],
   "source": [
    "print(snd_paragraph.get_reading_position())\n",
    "\n",
    "snd_paragraph.update_reading_position(3)\n",
    "\n",
    "print(snd_paragraph.get_reading_position())\n",
    "\n",
    "snd_paragraph.read()"
   ]
  },
  {
   "cell_type": "markdown",
   "metadata": {
    "slideshow": {
     "slide_type": "slide"
    }
   },
   "source": [
    "### Incrementing an Attribute’s Value Through a Method\n",
    "\n",
    "Sometimes you may want to increment an attribute’s value by a certain amount rather than set an entirely new value. Say we want to scroll through a paragraph, where a method allows us to pass to incrementally modify the reading position."
   ]
  },
  {
   "cell_type": "code",
   "execution_count": 23,
   "metadata": {
    "slideshow": {
     "slide_type": "slide"
    }
   },
   "outputs": [],
   "source": [
    "class Paragraph():\n",
    "    \"\"\"A paragraph consists of a list of lines.\"\"\"\n",
    "\n",
    "    def __init__(self, lines):\n",
    "        \"\"\"Initialize name and age attributes.\"\"\"\n",
    "        self.lines = lines\n",
    "        self.reading_position = 0\n",
    "        \n",
    "    def read(self):\n",
    "        \"\"\"Simulate reading a paragraph by printing its contents.\"\"\" \n",
    "        # for line in self.lines:\n",
    "        #     print(line)\n",
    "        print(self.lines[self.reading_position])\n",
    "\n",
    "    def get_reading_position(self):\n",
    "        return self.reading_position\n",
    "    \n",
    "    def update_reading_position(self, new_position):\n",
    "        if new_position <= len(self.lines) - 1:\n",
    "            self.reading_position = new_position\n",
    "            \n",
    "    def scroll_down(self):\n",
    "        if self.reading_position < len(self.lines) - 1:\n",
    "            self.reading_position += 1\n",
    "        else:\n",
    "            self.reading_position = 0\n",
    "            \n",
    "    def scroll_up(self):\n",
    "        if self.reading_position >= 1:\n",
    "            self.reading_position -= 1\n",
    "        else:\n",
    "            self.reading_position = len(self.lines) - 1\n",
    "    \n",
    "snd_paragraph = Paragraph([\n",
    "    'Her second husband had begun life at the bottom of the ladder as a', \n",
    "    'three-card trickster, and by strict attention to business and the', \n",
    "    'exercise of his natural genius, had attained to the proprietorship of a', \n",
    "    'bucket-shop.'])"
   ]
  },
  {
   "cell_type": "code",
   "execution_count": 24,
   "metadata": {
    "slideshow": {
     "slide_type": "slide"
    }
   },
   "outputs": [
    {
     "name": "stdout",
     "output_type": "stream",
     "text": [
      "Her second husband had begun life at the bottom of the ladder as a\n",
      "three-card trickster, and by strict attention to business and the\n",
      "exercise of his natural genius, had attained to the proprietorship of a\n",
      "bucket-shop.\n",
      "Her second husband had begun life at the bottom of the ladder as a\n"
     ]
    }
   ],
   "source": [
    "snd_paragraph.read()\n",
    "\n",
    "snd_paragraph.scroll_down()\n",
    "snd_paragraph.read()\n",
    "\n",
    "snd_paragraph.scroll_down()\n",
    "snd_paragraph.read()\n",
    "\n",
    "snd_paragraph.scroll_down()\n",
    "snd_paragraph.read()\n",
    "\n",
    "snd_paragraph.scroll_down()\n",
    "snd_paragraph.read()"
   ]
  },
  {
   "cell_type": "code",
   "execution_count": 25,
   "metadata": {
    "slideshow": {
     "slide_type": "slide"
    }
   },
   "outputs": [
    {
     "name": "stdout",
     "output_type": "stream",
     "text": [
      "Her second husband had begun life at the bottom of the ladder as a\n",
      "bucket-shop.\n",
      "exercise of his natural genius, had attained to the proprietorship of a\n",
      "three-card trickster, and by strict attention to business and the\n"
     ]
    }
   ],
   "source": [
    "snd_paragraph.read()\n",
    "\n",
    "snd_paragraph.scroll_up()\n",
    "snd_paragraph.read()\n",
    "\n",
    "snd_paragraph.scroll_up()\n",
    "snd_paragraph.read()\n",
    "\n",
    "snd_paragraph.scroll_up()\n",
    "snd_paragraph.read()"
   ]
  },
  {
   "cell_type": "markdown",
   "metadata": {
    "slideshow": {
     "slide_type": "slide"
    }
   },
   "source": [
    "### Private Attributes???\n",
    "\n",
    "You can use methods as shown above to control how users of your program update values, such as the reading position, but anyone with access to the program can set any attribute to any value by accessing it directly.\n",
    "\n",
    "In Python, there is no concept of private fields. That is, the interpreter will not stop you from modifying whatever you are 'touching'.\n",
    "\n",
    "A good practice is to *mark* your attributes and methodss as private by a leading underscore. However, this is only a visual marker for others using your code that you do not intend them to access the corresponding fields."
   ]
  },
  {
   "cell_type": "code",
   "execution_count": 26,
   "metadata": {
    "slideshow": {
     "slide_type": "slide"
    }
   },
   "outputs": [],
   "source": [
    "class Paragraph():\n",
    "    \"\"\"A paragraph consists of a list of lines.\"\"\"\n",
    "\n",
    "    def __init__(self, lines):\n",
    "        \"\"\"Initialize name and age attributes.\"\"\"\n",
    "        self.lines = lines\n",
    "        self._reading_position = 0\n",
    "        \n",
    "    def read(self):\n",
    "        \"\"\"Simulate reading a paragraph by printing its contents.\"\"\" \n",
    "        print(self.lines[self._reading_position])\n",
    "\n",
    "    def get_reading_position(self):\n",
    "        return self._reading_position\n",
    "    \n",
    "    def _update_reading_position(self, new_position):\n",
    "        if new_position <= len(self.lines) - 1:\n",
    "            self._reading_position = new_position\n",
    "            \n",
    "    def scroll_down(self):\n",
    "        if self._reading_position < len(self.lines) - 1:\n",
    "            self._reading_position += 1\n",
    "        else:\n",
    "            self._reading_position = 0\n",
    "            \n",
    "    def scroll_up(self):\n",
    "        if self._reading_position >= 1:\n",
    "            self._reading_position -= 1\n",
    "        else:\n",
    "            self._reading_position = len(self.lines) - 1\n",
    "    \n",
    "snd_paragraph = Paragraph([\n",
    "    'Her second husband had begun life at the bottom of the ladder as a', \n",
    "    'three-card trickster, and by strict attention to business and the', \n",
    "    'exercise of his natural genius, had attained to the proprietorship of a', \n",
    "    'bucket-shop.'])"
   ]
  },
  {
   "cell_type": "code",
   "execution_count": 27,
   "metadata": {
    "slideshow": {
     "slide_type": "slide"
    }
   },
   "outputs": [
    {
     "name": "stdout",
     "output_type": "stream",
     "text": [
      "0\n",
      "0\n",
      "3\n",
      "bucket-shop.\n"
     ]
    }
   ],
   "source": [
    "# This is now discouraged!\n",
    "print(snd_paragraph._reading_position)\n",
    "\n",
    "# Better use the 'public' methods\n",
    "print(snd_paragraph.get_reading_position())\n",
    "\n",
    "# discouraged too, but possible\n",
    "snd_paragraph._update_reading_position(3)\n",
    "\n",
    "print(snd_paragraph.get_reading_position())\n",
    "\n",
    "snd_paragraph.read()"
   ]
  },
  {
   "cell_type": "markdown",
   "metadata": {
    "slideshow": {
     "slide_type": "slide"
    }
   },
   "source": [
    "# Inheritance\n",
    "\n",
    "You do not always have to start from scratch when writing a class. If the class you are writing is a specialized version of another -readily available- class, you can use inheritance to implement your extensions. \n",
    "\n",
    "When one class inherits from another, it automatically takes on all the attributes and methods of the first class. The original class is called the *parent class*, and the new class is the *child class*. The child class inherits every attribute and method from its parent class but is also free to define new attributes and methods of its own.\n",
    "\n",
    "\n",
    "## The __init__() Method for a Child Class\n",
    "\n",
    "The first task Python has when creating an instance from a child class is to assign values to all attributes in the parent class. To do this, the `__init__()` method for a child class needs help from its parent class.\n",
    "\n",
    "As an example, let’s model a comic book. A comic book is just a specific kind of book, with less text and more images :). Consequently, we can base our new `ComicBook` class on the `Book` class we wrote earlier. Then we’ll only have to write code for the attributes and behavior specific to comic books.\n",
    "\n",
    "When you create a child class, the parent class **must be part of the current file and must appear before the child class in the file**. The name of the parent class must be included in parentheses in the definition of the child class. The `__init__()` method takes the information required to make a `ComicBook` instance.\n",
    "\n",
    "The `super()` function is a special function that helps Python make connections between the parent and child class. It tells Python to call the `__init__()` method from `ComicBook`’s parent class, which gives a `ComicBook` instance all the attributes of its parent class. The name super comes from a convention of calling the parent class a **superclass** and the child class a **subclass**."
   ]
  },
  {
   "cell_type": "code",
   "execution_count": 28,
   "metadata": {
    "slideshow": {
     "slide_type": "slide"
    }
   },
   "outputs": [],
   "source": [
    "class Book():\n",
    "    \"\"\"A simple book model consisting of chapters, which in \n",
    "    turn consist of paragraphs.\"\"\"\n",
    "\n",
    "    def __init__(self, title, author, chapters=[]):\n",
    "        \"\"\"Initialize title, the author, and the chapters.\"\"\"\n",
    "        self.title = title \n",
    "        self.author = author\n",
    "        self.chapters = chapters        \n",
    "    \n",
    "    def __repr__(self):\n",
    "        return 'Book(%r, %r, %r)' % (self.title, self.author, \n",
    "                                     self.chapters)\n",
    "    \n",
    "    def __str__(self):\n",
    "        return '{name} by {by} has {nr_chap} chapters.'.format(\n",
    "            name=self.title, by=self.author, nr_chap=len(self.chapters))\n",
    "    \n",
    "    \n",
    "    def read(self, chapter=1):\n",
    "        \"\"\"Simulate reading a chapter, by calling the reading \n",
    "        method of a chapter.\"\"\" \n",
    "        self.chapters[chapter - 1].read()\n",
    "        \n",
    "    def open_book(self, chapter=1):\n",
    "        \"\"\"Simulate opening a book, which returns a chapter \n",
    "        object.\"\"\" \n",
    "        return self.chapters[chapter - 1]\n",
    "    \n",
    "    \n",
    "class ComicBook(Book):\n",
    "    def __init__(self, title, author, chapters=[]):\n",
    "        \"\"\"Initialize attributes of the parent class.\"\"\"\n",
    "        super().__init__(title, author, chapters=chapters)"
   ]
  },
  {
   "cell_type": "code",
   "execution_count": 29,
   "metadata": {
    "slideshow": {
     "slide_type": "slide"
    }
   },
   "outputs": [
    {
     "data": {
      "text/plain": [
       "'Le Grand Mort'"
      ]
     },
     "execution_count": 29,
     "metadata": {},
     "output_type": "execute_result"
    }
   ],
   "source": [
    "comic = ComicBook('Le Grand Mort', 'Loisel')\n",
    "comic.title"
   ]
  },
  {
   "cell_type": "markdown",
   "metadata": {
    "slideshow": {
     "slide_type": "slide"
    }
   },
   "source": [
    "## Defining Attributes and Methods for the Child Class\n",
    "\n",
    "Once you have a child class that inherits from a parent class, you can add any new attributes and methods necessary to differentiate the child class from the parent class.\n",
    "\n",
    "Let’s add an attribute that is specific to comic books, such as, images, and a method to report on this attribute."
   ]
  },
  {
   "cell_type": "code",
   "execution_count": 30,
   "metadata": {
    "slideshow": {
     "slide_type": "slide"
    }
   },
   "outputs": [],
   "source": [
    "class ComicBook(Book):\n",
    "    def __init__(self, title, author, chapters=[]):\n",
    "        \"\"\"Initialize attributes of the parent class.\"\"\"\n",
    "        super().__init__(title, author, chapters=chapters)\n",
    "        self.images = []\n",
    "        \n",
    "    def get_images(self):\n",
    "        return self.images"
   ]
  },
  {
   "cell_type": "markdown",
   "metadata": {
    "slideshow": {
     "slide_type": "slide"
    }
   },
   "source": [
    "There is no limit to how much you can specialize the `ComicBook` class. You can add as many attributes and methods as you need to model acomic book to whatever degree of accuracy you need. An attribute or method that could belong to any book, rather than one that is specific to a comic book, should be added to the `Book` class instead of the `ComicBook` class. Then anyone who uses the `Book` class will have that functionality available as well, and the `ComicBook` class will only contain code for the information and behavior specific to comic books.\n",
    "\n",
    "## Overriding Methods from the Parent Class\n",
    "\n",
    "You can override any method from the parent class that does not fit what you are trying to model with the child class. To do this, you define a method in the child class with **the same name as the method you want to override in the parent class**. Python will disregard the parent class method and only pay attention to the method you define in the child class.\n",
    "\n",
    "In the above example, we have to override the method `__repr__` to get the correct representation of a comic book.\n",
    "\n",
    "Now if someone inspects or tries to call `__repr__()` with on a comic book, Python will ignore the method `__repr__()` in `Book` and run this code instead. When you use inheritance, you can make your child classes retain what you need and override anything you do not need from the parent class."
   ]
  },
  {
   "cell_type": "code",
   "execution_count": 31,
   "metadata": {
    "slideshow": {
     "slide_type": "slide"
    }
   },
   "outputs": [
    {
     "data": {
      "text/plain": [
       "Book('Le Grand Mort', 'Loisel', [])"
      ]
     },
     "execution_count": 31,
     "metadata": {},
     "output_type": "execute_result"
    }
   ],
   "source": [
    "comic = ComicBook('Le Grand Mort', 'Loisel')\n",
    "comic"
   ]
  },
  {
   "cell_type": "code",
   "execution_count": 32,
   "metadata": {
    "slideshow": {
     "slide_type": "slide"
    }
   },
   "outputs": [],
   "source": [
    "class ComicBook(Book):\n",
    "    def __init__(self, title, author, chapters=[]):\n",
    "        \"\"\"Initialize attributes of the parent class.\"\"\"\n",
    "        super().__init__(title, author, chapters=chapters)\n",
    "        self.images = []\n",
    "        \n",
    "    def get_images(self):\n",
    "        return self.images\n",
    "    \n",
    "    def __repr__(self):\n",
    "        return 'ComicBook(%r, %r, %r)' % (self.title, self.author, \n",
    "                                     self.chapters)"
   ]
  },
  {
   "cell_type": "code",
   "execution_count": 33,
   "metadata": {
    "slideshow": {
     "slide_type": "slide"
    }
   },
   "outputs": [
    {
     "data": {
      "text/plain": [
       "ComicBook('Le Grand Mort', 'Loisel', [])"
      ]
     },
     "execution_count": 33,
     "metadata": {},
     "output_type": "execute_result"
    }
   ],
   "source": [
    "comic = ComicBook('Le Grand Mort', 'Loisel')\n",
    "comic"
   ]
  },
  {
   "cell_type": "markdown",
   "metadata": {
    "slideshow": {
     "slide_type": "slide"
    }
   },
   "source": [
    "## Checking *instance of* Relationships\n",
    "\n",
    "Sometimes, during development, you would like to know of which class a certain variable is instance of. You can do so with the built-in method `isinstance()` as illustrated in the following. However, usually you will not need this function in your programs as Python supports *duck-typing*. "
   ]
  },
  {
   "cell_type": "code",
   "execution_count": 34,
   "metadata": {
    "slideshow": {
     "slide_type": "slide"
    }
   },
   "outputs": [
    {
     "data": {
      "text/plain": [
       "True"
      ]
     },
     "execution_count": 34,
     "metadata": {},
     "output_type": "execute_result"
    }
   ],
   "source": [
    "isinstance(ComicBook('Le Grand Mort', 'Loisel'), ComicBook)"
   ]
  },
  {
   "cell_type": "code",
   "execution_count": 35,
   "metadata": {
    "slideshow": {
     "slide_type": "slide"
    }
   },
   "outputs": [
    {
     "data": {
      "text/plain": [
       "True"
      ]
     },
     "execution_count": 35,
     "metadata": {},
     "output_type": "execute_result"
    }
   ],
   "source": [
    "isinstance(ComicBook('Le Grand Mort', 'Loisel'), Book)"
   ]
  },
  {
   "cell_type": "markdown",
   "metadata": {},
   "source": [
    "## Inheritance vs Composition\n",
    "[Read up on your own here](https://realpython.com/inheritance-composition-python/)"
   ]
  },
  {
   "cell_type": "markdown",
   "metadata": {
    "slideshow": {
     "slide_type": "slide"
    }
   },
   "source": [
    "# Importing Classes\n",
    "\n",
    "As you add more functionality to your classes, your files can get long, even when you use inheritance properly. In keeping with the overall philosophy of Python, you will want to keep your files as uncluttered as possible. To help, Python lets you store classes in modules and then import the classes you need into your main program.\n",
    "\n",
    "You can store as many classes as you need in a single module, although each class in a module should be related somehow.\n",
    "\n",
    "## Importing a Single Class or Multiple Classes\n",
    "\n",
    "We include a module-level docstring that briefly describes the contents of this module. You should write a docstring for each module you create.\n",
    "\n",
    "Now we make a separate file called `book.py`. From this file will import the `Book` class and then create an instance from that class.\n",
    "\n",
    "You can import as many classes as you need into a program file. If we want to make a regular car and an electric car in the same file, we need to import both classes, Car and ElectricCar\n",
    "\n",
    "\n"
   ]
  },
  {
   "cell_type": "code",
   "execution_count": 36,
   "metadata": {
    "slideshow": {
     "slide_type": "slide"
    }
   },
   "outputs": [],
   "source": [
    "%load_ext autoreload\n",
    "# reloads modules automatically before entering the execution of code typed at the IPython prompt"
   ]
  },
  {
   "cell_type": "code",
   "execution_count": 37,
   "metadata": {
    "slideshow": {
     "slide_type": "slide"
    }
   },
   "outputs": [],
   "source": [
    "%autoreload 2 # %autoreload 2 - Reload all modules (except those excluded by %aimport) every time before executing the Python code typed.\n",
    "\n",
    "from book import Book"
   ]
  },
  {
   "cell_type": "code",
   "execution_count": 38,
   "metadata": {
    "slideshow": {
     "slide_type": "slide"
    }
   },
   "outputs": [],
   "source": [
    "Book?"
   ]
  },
  {
   "cell_type": "code",
   "execution_count": 40,
   "metadata": {
    "slideshow": {
     "slide_type": "slide"
    }
   },
   "outputs": [
    {
     "data": {
      "text/plain": [
       "Book('Bones in London', 'Edgar Wallace', [Chapter(1, 'Bones and Big Business', [<book.Paragraph object at 0x7fd591804c50>, <book.Paragraph object at 0x7fd591804a90>, <book.Paragraph object at 0x7fd591804f50>, <book.Paragraph object at 0x7fd591804c90>, <book.Paragraph object at 0x7fd591804d10>, <book.Paragraph object at 0x7fd591804e50>, <book.Paragraph object at 0x7fd591804510>, <book.Paragraph object at 0x7fd591804410>, <book.Paragraph object at 0x7fd591804390>, <book.Paragraph object at 0x7fd591804650>, <book.Paragraph object at 0x7fd591804050>, <book.Paragraph object at 0x7fd591804ad0>, <book.Paragraph object at 0x7fd591804cd0>, <book.Paragraph object at 0x7fd591804ed0>, <book.Paragraph object at 0x7fd591804e10>, <book.Paragraph object at 0x7fd591804c10>, <book.Paragraph object at 0x7fd591804f10>, <book.Paragraph object at 0x7fd591804a10>, <book.Paragraph object at 0x7fd591804e90>, <book.Paragraph object at 0x7fd59180f250>, <book.Paragraph object at 0x7fd59180f510>, <book.Paragraph object at 0x7fd59180f210>, <book.Paragraph object at 0x7fd59180f150>, <book.Paragraph object at 0x7fd59180ff90>, <book.Paragraph object at 0x7fd59180fc90>, <book.Paragraph object at 0x7fd59180f410>, <book.Paragraph object at 0x7fd59180f790>, <book.Paragraph object at 0x7fd59180f9d0>, <book.Paragraph object at 0x7fd59180f710>, <book.Paragraph object at 0x7fd59180fa10>, <book.Paragraph object at 0x7fd59180f4d0>, <book.Paragraph object at 0x7fd59180f8d0>, <book.Paragraph object at 0x7fd59180f990>, <book.Paragraph object at 0x7fd59180f810>, <book.Paragraph object at 0x7fd59180f350>, <book.Paragraph object at 0x7fd59180f650>, <book.Paragraph object at 0x7fd59180fb50>, <book.Paragraph object at 0x7fd59180f050>, <book.Paragraph object at 0x7fd59180f950>, <book.Paragraph object at 0x7fd59180f190>, <book.Paragraph object at 0x7fd59180fc50>, <book.Paragraph object at 0x7fd59180f290>, <book.Paragraph object at 0x7fd59180f2d0>, <book.Paragraph object at 0x7fd59180fe50>, <book.Paragraph object at 0x7fd591ba7c10>, <book.Paragraph object at 0x7fd591a102d0>, <book.Paragraph object at 0x7fd591a108d0>, <book.Paragraph object at 0x7fd591a105d0>, <book.Paragraph object at 0x7fd591a10990>, <book.Paragraph object at 0x7fd591a107d0>, <book.Paragraph object at 0x7fd591a10a90>, <book.Paragraph object at 0x7fd591a100d0>, <book.Paragraph object at 0x7fd591a10650>, <book.Paragraph object at 0x7fd591a10b10>, <book.Paragraph object at 0x7fd591821d90>, <book.Paragraph object at 0x7fd591821650>, <book.Paragraph object at 0x7fd591821b90>, <book.Paragraph object at 0x7fd591821e50>, <book.Paragraph object at 0x7fd591821dd0>, <book.Paragraph object at 0x7fd591821a10>, <book.Paragraph object at 0x7fd591821050>, <book.Paragraph object at 0x7fd591b95f50>, <book.Paragraph object at 0x7fd591b95f10>, <book.Paragraph object at 0x7fd591b95a90>, <book.Paragraph object at 0x7fd591b95b10>, <book.Paragraph object at 0x7fd591b95610>, <book.Paragraph object at 0x7fd591b95a10>, <book.Paragraph object at 0x7fd591b95310>, <book.Paragraph object at 0x7fd591ba1450>, <book.Paragraph object at 0x7fd591ba1c90>, <book.Paragraph object at 0x7fd591ba1090>, <book.Paragraph object at 0x7fd591ba16d0>, <book.Paragraph object at 0x7fd591ba1c10>, <book.Paragraph object at 0x7fd591ba1d10>, <book.Paragraph object at 0x7fd591ba1e90>, <book.Paragraph object at 0x7fd591ba1d50>, <book.Paragraph object at 0x7fd591ba1e10>, <book.Paragraph object at 0x7fd591ba19d0>, <book.Paragraph object at 0x7fd591ba1a10>, <book.Paragraph object at 0x7fd591ba1350>, <book.Paragraph object at 0x7fd591ba13d0>, <book.Paragraph object at 0x7fd591ba14d0>, <book.Paragraph object at 0x7fd591ba1550>, <book.Paragraph object at 0x7fd591ba15d0>, <book.Paragraph object at 0x7fd591ba1110>, <book.Paragraph object at 0x7fd591ba1250>, <book.Paragraph object at 0x7fd591ba1850>, <book.Paragraph object at 0x7fd591ba17d0>, <book.Paragraph object at 0x7fd591ba1f50>, <book.Paragraph object at 0x7fd591ba1710>, <book.Paragraph object at 0x7fd591ba18d0>, <book.Paragraph object at 0x7fd591ba1990>, <book.Paragraph object at 0x7fd591ba1ad0>, <book.Paragraph object at 0x7fd591ba10d0>, <book.Paragraph object at 0x7fd591ba9950>, <book.Paragraph object at 0x7fd591ba9e90>, <book.Paragraph object at 0x7fd591ba9150>, <book.Paragraph object at 0x7fd591ba9f10>, <book.Paragraph object at 0x7fd591ba99d0>, <book.Paragraph object at 0x7fd591ba9e10>, <book.Paragraph object at 0x7fd59136bc50>, <book.Paragraph object at 0x7fd591699290>, <book.Paragraph object at 0x7fd591699190>, <book.Paragraph object at 0x7fd591699d50>, <book.Paragraph object at 0x7fd591699a90>, <book.Paragraph object at 0x7fd591b73610>, <book.Paragraph object at 0x7fd591b73310>, <book.Paragraph object at 0x7fd591b73990>, <book.Paragraph object at 0x7fd591b73fd0>, <book.Paragraph object at 0x7fd591b73690>, <book.Paragraph object at 0x7fd591b739d0>, <book.Paragraph object at 0x7fd591b73b50>, <book.Paragraph object at 0x7fd591b73b90>, <book.Paragraph object at 0x7fd5a036fa50>, <book.Paragraph object at 0x7fd5a036fbd0>, <book.Paragraph object at 0x7fd5a036f5d0>, <book.Paragraph object at 0x7fd5a036fc50>, <book.Paragraph object at 0x7fd591df8a50>, <book.Paragraph object at 0x7fd591df8090>, <book.Paragraph object at 0x7fd591df8b90>, <book.Paragraph object at 0x7fd5917803d0>, <book.Paragraph object at 0x7fd5917807d0>, <book.Paragraph object at 0x7fd5917806d0>, <book.Paragraph object at 0x7fd591780f90>, <book.Paragraph object at 0x7fd591780550>, <book.Paragraph object at 0x7fd59182be50>, <book.Paragraph object at 0x7fd59182b090>, <book.Paragraph object at 0x7fd59182b6d0>, <book.Paragraph object at 0x7fd59182bc50>, <book.Paragraph object at 0x7fd59182b4d0>, <book.Paragraph object at 0x7fd59182b490>, <book.Paragraph object at 0x7fd59182b550>, <book.Paragraph object at 0x7fd59182ba10>, <book.Paragraph object at 0x7fd5918fd250>, <book.Paragraph object at 0x7fd5918fdc10>, <book.Paragraph object at 0x7fd5918fd810>, <book.Paragraph object at 0x7fd5918fd9d0>, <book.Paragraph object at 0x7fd5918fd7d0>, <book.Paragraph object at 0x7fd5918fd190>, <book.Paragraph object at 0x7fd5918fd310>, <book.Paragraph object at 0x7fd5918fdd50>, <book.Paragraph object at 0x7fd5918fd650>, <book.Paragraph object at 0x7fd5918fdb90>, <book.Paragraph object at 0x7fd591853690>, <book.Paragraph object at 0x7fd591853cd0>, <book.Paragraph object at 0x7fd591853e50>, <book.Paragraph object at 0x7fd591853590>, <book.Paragraph object at 0x7fd591853390>, <book.Paragraph object at 0x7fd5918534d0>, <book.Paragraph object at 0x7fd591853110>, <book.Paragraph object at 0x7fd591853290>, <book.Paragraph object at 0x7fd591853750>, <book.Paragraph object at 0x7fd591853850>, <book.Paragraph object at 0x7fd591853ed0>, <book.Paragraph object at 0x7fd591853ad0>, <book.Paragraph object at 0x7fd591853a90>, <book.Paragraph object at 0x7fd5918538d0>, <book.Paragraph object at 0x7fd591853a50>, <book.Paragraph object at 0x7fd591853c90>, <book.Paragraph object at 0x7fd591853e10>, <book.Paragraph object at 0x7fd591853dd0>, <book.Paragraph object at 0x7fd591853f90>, <book.Paragraph object at 0x7fd591853c10>, <book.Paragraph object at 0x7fd591853fd0>, <book.Paragraph object at 0x7fd591853d90>, <book.Paragraph object at 0x7fd591853d10>, <book.Paragraph object at 0x7fd591853950>, <book.Paragraph object at 0x7fd591853990>, <book.Paragraph object at 0x7fd5918539d0>, <book.Paragraph object at 0x7fd591853e90>, <book.Paragraph object at 0x7fd591853c50>, <book.Paragraph object at 0x7fd591853b50>, <book.Paragraph object at 0x7fd591853b90>, <book.Paragraph object at 0x7fd591853bd0>, <book.Paragraph object at 0x7fd591853d50>, <book.Paragraph object at 0x7fd591853f50>, <book.Paragraph object at 0x7fd591853710>, <book.Paragraph object at 0x7fd591853490>, <book.Paragraph object at 0x7fd591853810>, <book.Paragraph object at 0x7fd5918536d0>, <book.Paragraph object at 0x7fd591853910>, <book.Paragraph object at 0x7fd591853b10>, <book.Paragraph object at 0x7fd591853a10>, <book.Paragraph object at 0x7fd5918537d0>, <book.Paragraph object at 0x7fd591853510>]), Chapter(2, 'Hidden Treassure', [<book.Paragraph object at 0x7fd591de9a90>, <book.Paragraph object at 0x7fd590ed5e90>, <book.Paragraph object at 0x7fd590ed5450>, <book.Paragraph object at 0x7fd590ed55d0>, <book.Paragraph object at 0x7fd590ed5bd0>, <book.Paragraph object at 0x7fd590ed5150>, <book.Paragraph object at 0x7fd590ed5810>, <book.Paragraph object at 0x7fd590ed5250>, <book.Paragraph object at 0x7fd590ed5f10>, <book.Paragraph object at 0x7fd590ed5710>, <book.Paragraph object at 0x7fd590ed5a10>, <book.Paragraph object at 0x7fd590ed5790>, <book.Paragraph object at 0x7fd590ed5fd0>, <book.Paragraph object at 0x7fd590ed5f50>, <book.Paragraph object at 0x7fd590ed5190>, <book.Paragraph object at 0x7fd590ed5a90>, <book.Paragraph object at 0x7fd590ed5090>, <book.Paragraph object at 0x7fd590ed5650>, <book.Paragraph object at 0x7fd590ed5d50>, <book.Paragraph object at 0x7fd590ed5050>, <book.Paragraph object at 0x7fd590ed5590>, <book.Paragraph object at 0x7fd590ed5e50>, <book.Paragraph object at 0x7fd590e94810>, <book.Paragraph object at 0x7fd590e94910>, <book.Paragraph object at 0x7fd591a14790>, <book.Paragraph object at 0x7fd591a14d10>, <book.Paragraph object at 0x7fd591a14f10>, <book.Paragraph object at 0x7fd591a14b50>, <book.Paragraph object at 0x7fd591a14fd0>, <book.Paragraph object at 0x7fd591a149d0>, <book.Paragraph object at 0x7fd591a14bd0>, <book.Paragraph object at 0x7fd591a14c50>, <book.Paragraph object at 0x7fd591a14390>, <book.Paragraph object at 0x7fd591a144d0>, <book.Paragraph object at 0x7fd5916b16d0>, <book.Paragraph object at 0x7fd5916b1b50>, <book.Paragraph object at 0x7fd5916b1fd0>, <book.Paragraph object at 0x7fd5916b1350>, <book.Paragraph object at 0x7fd5916b1d90>, <book.Paragraph object at 0x7fd5916b10d0>, <book.Paragraph object at 0x7fd591bb1610>, <book.Paragraph object at 0x7fd591bb1950>, <book.Paragraph object at 0x7fd591bb1290>, <book.Paragraph object at 0x7fd591bb1310>, <book.Paragraph object at 0x7fd591bb1f50>, <book.Paragraph object at 0x7fd591bb1390>, <book.Paragraph object at 0x7fd591bb1fd0>, <book.Paragraph object at 0x7fd591bb1a10>, <book.Paragraph object at 0x7fd591bb1dd0>, <book.Paragraph object at 0x7fd591bb1590>, <book.Paragraph object at 0x7fd591bb1e50>, <book.Paragraph object at 0x7fd591bb1510>, <book.Paragraph object at 0x7fd591bb1d50>, <book.Paragraph object at 0x7fd591bb1890>, <book.Paragraph object at 0x7fd591bb1490>, <book.Paragraph object at 0x7fd591bb1210>, <book.Paragraph object at 0x7fd591bb1c10>, <book.Paragraph object at 0x7fd5a4b059d0>, <book.Paragraph object at 0x7fd59181b3d0>, <book.Paragraph object at 0x7fd59181bcd0>, <book.Paragraph object at 0x7fd59181bad0>, <book.Paragraph object at 0x7fd59181b890>, <book.Paragraph object at 0x7fd59181b990>, <book.Paragraph object at 0x7fd59181bc10>, <book.Paragraph object at 0x7fd59181b410>, <book.Paragraph object at 0x7fd59181b710>, <book.Paragraph object at 0x7fd59181bf50>, <book.Paragraph object at 0x7fd59181b610>, <book.Paragraph object at 0x7fd59181bb90>, <book.Paragraph object at 0x7fd59181b110>, <book.Paragraph object at 0x7fd59181b050>, <book.Paragraph object at 0x7fd59181b2d0>, <book.Paragraph object at 0x7fd59181b550>, <book.Paragraph object at 0x7fd59181b4d0>, <book.Paragraph object at 0x7fd59168fd50>, <book.Paragraph object at 0x7fd59168f390>, <book.Paragraph object at 0x7fd59168f1d0>, <book.Paragraph object at 0x7fd59168fdd0>, <book.Paragraph object at 0x7fd59168fc10>, <book.Paragraph object at 0x7fd59168fe50>, <book.Paragraph object at 0x7fd59168f4d0>, <book.Paragraph object at 0x7fd59168fe10>, <book.Paragraph object at 0x7fd590ee1190>, <book.Paragraph object at 0x7fd590ee1210>, <book.Paragraph object at 0x7fd590ee1390>, <book.Paragraph object at 0x7fd590ee1110>, <book.Paragraph object at 0x7fd590ee12d0>, <book.Paragraph object at 0x7fd590ee1350>, <book.Paragraph object at 0x7fd590ee1290>, <book.Paragraph object at 0x7fd590ee11d0>, <book.Paragraph object at 0x7fd590ee1310>, <book.Paragraph object at 0x7fd590ee15d0>, <book.Paragraph object at 0x7fd59178dc50>, <book.Paragraph object at 0x7fd59178dad0>, <book.Paragraph object at 0x7fd59178d0d0>, <book.Paragraph object at 0x7fd59178da50>, <book.Paragraph object at 0x7fd59178da90>, <book.Paragraph object at 0x7fd59178db50>, <book.Paragraph object at 0x7fd59178d690>, <book.Paragraph object at 0x7fd59178dcd0>, <book.Paragraph object at 0x7fd59178dd10>, <book.Paragraph object at 0x7fd59178de50>, <book.Paragraph object at 0x7fd59178d310>, <book.Paragraph object at 0x7fd59178d390>, <book.Paragraph object at 0x7fd59178d2d0>, <book.Paragraph object at 0x7fd59178d090>, <book.Paragraph object at 0x7fd59178d110>, <book.Paragraph object at 0x7fd59178d190>, <book.Paragraph object at 0x7fd59178de10>, <book.Paragraph object at 0x7fd59178de90>, <book.Paragraph object at 0x7fd59178ded0>, <book.Paragraph object at 0x7fd59178df10>, <book.Paragraph object at 0x7fd59178df50>, <book.Paragraph object at 0x7fd59178df90>, <book.Paragraph object at 0x7fd59178dfd0>, <book.Paragraph object at 0x7fd5918d9f10>, <book.Paragraph object at 0x7fd5918d9f90>, <book.Paragraph object at 0x7fd5918d9890>, <book.Paragraph object at 0x7fd5918d9690>, <book.Paragraph object at 0x7fd5918d9050>, <book.Paragraph object at 0x7fd5918d9b10>, <book.Paragraph object at 0x7fd5918d9bd0>, <book.Paragraph object at 0x7fd5918d9f50>, <book.Paragraph object at 0x7fd5918d9dd0>, <book.Paragraph object at 0x7fd5918d9d10>, <book.Paragraph object at 0x7fd5918d9290>, <book.Paragraph object at 0x7fd5918d9a10>, <book.Paragraph object at 0x7fd5918d9d90>, <book.Paragraph object at 0x7fd5918d9c90>, <book.Paragraph object at 0x7fd5918d9e90>, <book.Paragraph object at 0x7fd5918d9910>, <book.Paragraph object at 0x7fd5918d9350>, <book.Paragraph object at 0x7fd5918d9810>, <book.Paragraph object at 0x7fd5918d9710>, <book.Paragraph object at 0x7fd5918d9950>, <book.Paragraph object at 0x7fd5918d9cd0>, <book.Paragraph object at 0x7fd5918d9a50>, <book.Paragraph object at 0x7fd5918d97d0>, <book.Paragraph object at 0x7fd5918d91d0>, <book.Paragraph object at 0x7fd5918d9610>, <book.Paragraph object at 0x7fd5918d9450>, <book.Paragraph object at 0x7fd5918d98d0>, <book.Paragraph object at 0x7fd5918d9b90>, <book.Paragraph object at 0x7fd5918d9990>, <book.Paragraph object at 0x7fd5918d9790>, <book.Paragraph object at 0x7fd5918d9150>, <book.Paragraph object at 0x7fd5918d9fd0>, <book.Paragraph object at 0x7fd5918d9e10>, <book.Paragraph object at 0x7fd5918d9250>, <book.Paragraph object at 0x7fd5918d96d0>, <book.Paragraph object at 0x7fd5918d9590>, <book.Paragraph object at 0x7fd5918d93d0>, <book.Paragraph object at 0x7fd5918d9ed0>, <book.Paragraph object at 0x7fd5918d9b50>, <book.Paragraph object at 0x7fd5918d99d0>, <book.Paragraph object at 0x7fd5918d9a90>, <book.Paragraph object at 0x7fd5918d9ad0>, <book.Paragraph object at 0x7fd5918d9c50>, <book.Paragraph object at 0x7fd5918d9e50>, <book.Paragraph object at 0x7fd5918d9d50>, <book.Paragraph object at 0x7fd5918d9c10>, <book.Paragraph object at 0x7fd5918d94d0>, <book.Paragraph object at 0x7fd5918d9490>, <book.Paragraph object at 0x7fd5918d9390>, <book.Paragraph object at 0x7fd5918d9550>, <book.Paragraph object at 0x7fd5918d9650>, <book.Paragraph object at 0x7fd5918d9850>, <book.Paragraph object at 0x7fd5918d9750>, <book.Paragraph object at 0x7fd5918d95d0>, <book.Paragraph object at 0x7fd5918d9210>, <book.Paragraph object at 0x7fd5918d9090>, <book.Paragraph object at 0x7fd5918d90d0>, <book.Paragraph object at 0x7fd5918d9190>, <book.Paragraph object at 0x7fd5918d9310>, <book.Paragraph object at 0x7fd5918d9510>, <book.Paragraph object at 0x7fd5918d9410>, <book.Paragraph object at 0x7fd5918d92d0>, <book.Paragraph object at 0x7fd5918d9110>, <book.Paragraph object at 0x7fd5918d3490>, <book.Paragraph object at 0x7fd5918d3390>, <book.Paragraph object at 0x7fd5918d3050>, <book.Paragraph object at 0x7fd5918d31d0>, <book.Paragraph object at 0x7fd5918d3110>, <book.Paragraph object at 0x7fd5918d3b50>, <book.Paragraph object at 0x7fd5918d39d0>, <book.Paragraph object at 0x7fd5918d3590>, <book.Paragraph object at 0x7fd5918d3f10>, <book.Paragraph object at 0x7fd5918d38d0>, <book.Paragraph object at 0x7fd5918d3a50>, <book.Paragraph object at 0x7fd5918d3f50>, <book.Paragraph object at 0x7fd5918d3ad0>, <book.Paragraph object at 0x7fd5918d3d90>, <book.Paragraph object at 0x7fd5918d3f90>, <book.Paragraph object at 0x7fd5918d3b10>, <book.Paragraph object at 0x7fd5918d3a10>, <book.Paragraph object at 0x7fd5918d3c90>])])"
      ]
     },
     "execution_count": 40,
     "metadata": {},
     "output_type": "execute_result"
    }
   ],
   "source": [
    "# import Book, Chapter and Paragraph from module: book\n",
    "from book import Book, Chapter, Paragraph\n",
    "\n",
    "chapter_1 = Chapter(1, 'Bones and Big Business', get_text(bones_book, 82, 762))\n",
    "chapter_2 = Chapter(2, 'Hidden Treassure', get_text(bones_book, 769, 1455))\n",
    "book = Book('Bones in London', 'Edgar Wallace', [chapter_1, chapter_2])\n",
    "\n",
    "book"
   ]
  },
  {
   "cell_type": "markdown",
   "metadata": {
    "collapsed": true,
    "slideshow": {
     "slide_type": "slide"
    }
   },
   "source": [
    "# Exercises\n",
    "\n",
    "  1. Create a Python module, which consists of a class TextContainer. The class shall implement methods for computing statistics on texts.\n",
    "    * Counting the amount of words used in a text.\n",
    "    * Counting the amount of chars used in a text.\n",
    "    * Counting the amount of letters, where letters are all ASCII letter characters, see \n",
    "    ```python\n",
    "    import string\n",
    "    string.ascii_letters  # returns 'abcdefghijklmnopqrstuvwxyzABCDEFGHIJKLMNOPQRSTUVWXYZ'\n",
    "    ```\n",
    "    * Remove all punctuation characters, see\n",
    "    ```python\n",
    "    import string\n",
    "    string.punctuation  # returns '!\"#$%&\\'()*+,-./:;<=>?@[\\\\]^_`{|}~'\n",
    "    ```"
   ]
  },
  {
   "cell_type": "code",
   "execution_count": 2,
   "metadata": {},
   "outputs": [
    {
     "name": "stdout",
     "output_type": "stream",
     "text": [
      "John Doe computer lab 1000\n",
      "['__class__', '__delattr__', '__dict__', '__dir__', '__doc__', '__eq__', '__format__', '__ge__', '__getattribute__', '__gt__', '__hash__', '__init__', '__init_subclass__', '__le__', '__lt__', '__module__', '__ne__', '__new__', '__reduce__', '__reduce_ex__', '__repr__', '__setattr__', '__sizeof__', '__str__', '__subclasshook__', '__weakref__', 'dept', 'name', 'salary']\n",
      "Error: attribute error\n"
     ]
    }
   ],
   "source": [
    "# Objects can be made even of classes with no content\n",
    "class Employee:\n",
    "    pass\n",
    "\n",
    "john = Employee()  # Create an empty employee record\n",
    "\n",
    "# Fill the fields of the record\n",
    "john.name = 'John Doe'\n",
    "john.dept = 'computer lab'\n",
    "john.salary = 1000\n",
    "\n",
    "print(john.name, john.dept, john.salary)\n",
    "print(dir(john))\n",
    "\n",
    "hanne = Employee()\n",
    "try:\n",
    "    print(hanne.name)\n",
    "except AttributeError:\n",
    "    print('Error: attribute error')"
   ]
  }
 ],
 "metadata": {
  "celltoolbar": "Slideshow",
  "kernelspec": {
   "display_name": "Python 3",
   "language": "python",
   "name": "python3"
  },
  "language_info": {
   "codemirror_mode": {
    "name": "ipython",
    "version": 3
   },
   "file_extension": ".py",
   "mimetype": "text/x-python",
   "name": "python",
   "nbconvert_exporter": "python",
   "pygments_lexer": "ipython3",
   "version": "3.7.4"
  },
  "varInspector": {
   "cols": {
    "lenName": 16,
    "lenType": 16,
    "lenVar": 40
   },
   "kernels_config": {
    "python": {
     "delete_cmd_postfix": "",
     "delete_cmd_prefix": "del ",
     "library": "var_list.py",
     "varRefreshCmd": "print(var_dic_list())"
    },
    "r": {
     "delete_cmd_postfix": ") ",
     "delete_cmd_prefix": "rm(",
     "library": "var_list.r",
     "varRefreshCmd": "cat(var_dic_list()) "
    }
   },
   "types_to_exclude": [
    "module",
    "function",
    "builtin_function_or_method",
    "instance",
    "_Feature"
   ],
   "window_display": false
  }
 },
 "nbformat": 4,
 "nbformat_minor": 2
}
