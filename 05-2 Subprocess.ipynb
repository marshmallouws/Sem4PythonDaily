{
 "cells": [
  {
   "cell_type": "markdown",
   "metadata": {},
   "source": [
    "\n",
    "### Collecting information on the CLI\n",
    "\n",
    "To see the header of the file that is of our interest, we can use the `head` command.\n",
    "1. `glob` python module to find files in the file system\n",
    "2. `%%bash` run bash commands directly in jupyter notebook cells\n",
    "3. `subprocess` module allows us to execute shell commands and to read what the process was writing to standard out and standard error\n"
   ]
  },
  {
   "cell_type": "code",
   "execution_count": 1,
   "metadata": {},
   "outputs": [],
   "source": [
    "import numpy as np\n",
    "import pandas as pd"
   ]
  },
  {
   "cell_type": "markdown",
   "metadata": {},
   "source": [
    "Additionally, you can make use of the `glob` module to glob for certain file patterns. We will store the filename of the CSV file we are interested in, in a variable called `local_file`."
   ]
  },
  {
   "cell_type": "code",
   "execution_count": 31,
   "metadata": {},
   "outputs": [
    {
     "data": {
      "text/plain": [
       "'./API_EN.ATM.CO2E.KT_DS2_en_csv_v2_10473877.csv'"
      ]
     },
     "execution_count": 31,
     "metadata": {},
     "output_type": "execute_result"
    }
   ],
   "source": [
    "from glob import glob\n",
    "# glob is useful in any situation where your program needs to look for a list of files on the filesystem with names matching a pattern. If you need a list of filenames that all have a certain extension, prefix, or any common string in the middle, use glob instead of writing code to scan the directory contents yourself.\n",
    "\n",
    "local_files = glob('./*API_EN*.csv')\n",
    "local_file = local_files[3]\n",
    "local_file"
   ]
  },
  {
   "cell_type": "code",
   "execution_count": 32,
   "metadata": {},
   "outputs": [
    {
     "name": "stdout",
     "output_type": "stream",
     "text": [
      "==> ./API_EN.ATM.CO2E.KT_DS2_en_csv_v2_10473877.csv <==\n",
      "﻿\"Data Source\",\"World Development Indicators\",\r\n",
      "\r\n",
      "\"Last Updated Date\",\"2019-01-30\",\r\n",
      "\r\n",
      "\"Country Name\",\"Country Code\",\"Indicator Name\",\"Indicator Code\",\"1960\",\"1961\",\"1962\",\"1963\",\"1964\",\"1965\",\"1966\",\"1967\",\"1968\",\"1969\",\"1970\",\"1971\",\"1972\",\"1973\",\"1974\",\"1975\",\"1976\",\"1977\",\"1978\",\"1979\",\"1980\",\"1981\",\"1982\",\"1983\",\"1984\",\"1985\",\"1986\",\"1987\",\"1988\",\"1989\",\"1990\",\"1991\",\"1992\",\"1993\",\"1994\",\"1995\",\"1996\",\"1997\",\"1998\",\"1999\",\"2000\",\"2001\",\"2002\",\"2003\",\"2004\",\"2005\",\"2006\",\"2007\",\"2008\",\"2009\",\"2010\",\"2011\",\"2012\",\"2013\",\"2014\",\"2015\",\"2016\",\"2017\",\"2018\",\r\n",
      "\"Aruba\",\"ABW\",\"CO2 emissions (kt)\",\"EN.ATM.CO2E.KT\",\"\",\"\",\"\",\"\",\"\",\"\",\"\",\"\",\"\",\"\",\"\",\"\",\"\",\"\",\"\",\"\",\"\",\"\",\"\",\"\",\"\",\"\",\"\",\"\",\"\",\"\",\"179.683\",\"447.374\",\"612.389\",\"649.059\",\"1639.149\",\"1683.153\",\"1463.133\",\"1595.145\",\"1613.48\",\"1668.485\",\"1690.487\",\"1745.492\",\"1796.83\",\"1807.831\",\"2379.883\",\"2409.219\",\"2438.555\",\"2563.233\",\"2618.238\",\"2720.914\",\"2717.247\",\"2823.59\",\"2658.575\",\"2629.239\",\"2508.228\",\"2500.894\",\"1349.456\",\"861.745\",\"872.746\",\"\",\"\",\"\",\"\",\r\n",
      "\"Afghanistan\",\"AFG\",\"CO2 emissions (kt)\",\"EN.ATM.CO2E.KT\",\"414.371\",\"491.378\",\"689.396\",\"707.731\",\"839.743\",\"1008.425\",\"1092.766\",\"1283.45\",\"1224.778\",\"942.419\",\"1672.152\",\"1895.839\",\"1532.806\",\"1639.149\",\"1917.841\",\"2126.86\",\"1987.514\",\"2390.884\",\"2159.863\",\"2240.537\",\"1760.16\",\"1983.847\",\"2101.191\",\"2522.896\",\"2830.924\",\"3509.319\",\"3142.619\",\"3124.284\",\"2867.594\",\"2775.919\",\"2614.571\",\"2438.555\",\"1393.46\",\"1345.789\",\"1294.451\",\"1243.113\",\"1177.107\",\"1096.433\",\"1041.428\",\"821.408\",\"773.737\",\"817.741\",\"1070.764\",\"1195.442\",\"949.753\",\"1327.454\",\"1650.15\",\"2273.54\",\"4206.049\",\"6769.282\",\"8463.436\",\"12240.446\",\"10755.311\",\"10014.577\",\"9809.225\",\"\",\"\",\"\",\"\",\r\n",
      "\"Angola\",\"AGO\",\"CO2 emissions (kt)\",\"EN.ATM.CO2E.KT\",\"550.05\",\"454.708\",\"1180.774\",\"1151.438\",\"1224.778\",\"1188.108\",\"1554.808\",\"993.757\",\"1672.152\",\"2786.92\",\"3582.659\",\"3410.31\",\"4506.743\",\"4880.777\",\"4873.443\",\"4415.068\",\"3285.632\",\"3534.988\",\"5412.492\",\"5504.167\",\"5346.486\",\"5280.48\",\"4649.756\",\"5115.465\",\"5009.122\",\"4701.094\",\"4660.757\",\"5815.862\",\"5130.133\",\"5009.122\",\"5115.465\",\"5089.796\",\"5196.139\",\"5775.525\",\"3890.687\",\"10975.331\",\"10458.284\",\"7381.671\",\"7308.331\",\"9156.499\",\"9541.534\",\"9732.218\",\"12665.818\",\"9064.824\",\"18793.375\",\"19156.408\",\"22266.024\",\"25151.953\",\"25709.337\",\"27792.193\",\"29057.308\",\"30340.758\",\"33399.036\",\"32617.965\",\"34763.16\",\"\",\"\",\"\",\"\",\r\n",
      "\"Albania\",\"ALB\",\"CO2 emissions (kt)\",\"EN.ATM.CO2E.KT\",\"2024.184\",\"2280.874\",\"2464.224\",\"2082.856\",\"2016.85\",\"2174.531\",\"2552.232\",\"2680.577\",\"3072.946\",\"3245.295\",\"3744.007\",\"4352.729\",\"5643.513\",\"5291.481\",\"4345.395\",\"4594.751\",\"4950.45\",\"5720.52\",\"6494.257\",\"7587.023\",\"5170.47\",\"7341.334\",\"7308.331\",\"7631.027\",\"7825.378\",\"7880.383\",\"8056.399\",\"7444.01\",\"7326.666\",\"8984.15\",\"5515.168\",\"4286.723\",\"2515.562\",\"2335.879\",\"1925.175\",\"2086.523\",\"2016.85\",\"1543.807\",\"1752.826\",\"2984.938\",\"3021.608\",\"3223.293\",\"3751.341\",\"4294.057\",\"4165.712\",\"4253.72\",\"3898.021\",\"3927.357\",\"4374.731\",\"4378.398\",\"4598.418\",\"5240.143\",\"4910.113\",\"5064.127\",\"5716.853\",\"\",\"\",\"\",\"\",\r\n",
      "\"Andorra\",\"AND\",\"CO2 emissions (kt)\",\"EN.ATM.CO2E.KT\",\"\",\"\",\"\",\"\",\"\",\"\",\"\",\"\",\"\",\"\",\"\",\"\",\"\",\"\",\"\",\"\",\"\",\"\",\"\",\"\",\"\",\"\",\"\",\"\",\"\",\"\",\"\",\"\",\"\",\"\",\"407.037\",\"407.037\",\"407.037\",\"410.704\",\"407.037\",\"425.372\",\"454.708\",\"465.709\",\"491.378\",\"513.38\",\"524.381\",\"524.381\",\"531.715\",\"535.382\",\"561.051\",\"575.719\",\"546.383\",\"539.049\",\"539.049\",\"517.047\",\"517.047\",\"491.378\",\"487.711\",\"476.71\",\"462.042\",\"\",\"\",\"\",\"\",\r\n",
      "\n",
      "==> ./API_EN.ATM.CO2E.KT_DS2_en_csv_v2_566461.csv <==\n",
      "﻿\"Data Source\",\"World Development Indicators\",\r\n",
      "\r\n",
      "\"Last Updated Date\",\"2019-10-28\",\r\n",
      "\r\n",
      "\"Country Name\",\"Country Code\",\"Indicator Name\",\"Indicator Code\",\"1960\",\"1961\",\"1962\",\"1963\",\"1964\",\"1965\",\"1966\",\"1967\",\"1968\",\"1969\",\"1970\",\"1971\",\"1972\",\"1973\",\"1974\",\"1975\",\"1976\",\"1977\",\"1978\",\"1979\",\"1980\",\"1981\",\"1982\",\"1983\",\"1984\",\"1985\",\"1986\",\"1987\",\"1988\",\"1989\",\"1990\",\"1991\",\"1992\",\"1993\",\"1994\",\"1995\",\"1996\",\"1997\",\"1998\",\"1999\",\"2000\",\"2001\",\"2002\",\"2003\",\"2004\",\"2005\",\"2006\",\"2007\",\"2008\",\"2009\",\"2010\",\"2011\",\"2012\",\"2013\",\"2014\",\"2015\",\"2016\",\"2017\",\"2018\",\"2019\",\r\n",
      "\"Aruba\",\"ABW\",\"CO2 emissions (kt)\",\"EN.ATM.CO2E.KT\",\"\",\"\",\"\",\"\",\"\",\"\",\"\",\"\",\"\",\"\",\"\",\"\",\"\",\"\",\"\",\"\",\"\",\"\",\"\",\"\",\"\",\"\",\"\",\"\",\"\",\"\",\"179.683\",\"447.374\",\"612.389\",\"649.059\",\"1639.149\",\"1683.153\",\"1463.133\",\"1595.145\",\"1613.48\",\"1668.485\",\"1690.487\",\"1745.492\",\"1796.83\",\"1807.831\",\"2379.883\",\"2409.219\",\"2438.555\",\"2563.233\",\"2618.238\",\"2720.914\",\"2717.247\",\"2823.59\",\"2658.575\",\"2629.239\",\"2508.228\",\"2500.894\",\"1349.456\",\"861.745\",\"872.746\",\"\",\"\",\"\",\"\",\"\",\r\n",
      "\"Afghanistan\",\"AFG\",\"CO2 emissions (kt)\",\"EN.ATM.CO2E.KT\",\"414.371\",\"491.378\",\"689.396\",\"707.731\",\"839.743\",\"1008.425\",\"1092.766\",\"1283.45\",\"1224.778\",\"942.419\",\"1672.152\",\"1895.839\",\"1532.806\",\"1639.149\",\"1917.841\",\"2126.86\",\"1987.514\",\"2390.884\",\"2159.863\",\"2240.537\",\"1760.16\",\"1983.847\",\"2101.191\",\"2522.896\",\"2830.924\",\"3509.319\",\"3142.619\",\"3124.284\",\"2867.594\",\"2775.919\",\"2614.571\",\"2438.555\",\"1393.46\",\"1345.789\",\"1294.451\",\"1243.113\",\"1177.107\",\"1096.433\",\"1041.428\",\"821.408\",\"773.737\",\"817.741\",\"1070.764\",\"1195.442\",\"949.753\",\"1327.454\",\"1650.15\",\"2273.54\",\"4206.049\",\"6769.282\",\"8463.436\",\"12240.446\",\"10755.311\",\"10014.577\",\"9809.225\",\"\",\"\",\"\",\"\",\"\",\r\n",
      "\"Angola\",\"AGO\",\"CO2 emissions (kt)\",\"EN.ATM.CO2E.KT\",\"550.05\",\"454.708\",\"1180.774\",\"1151.438\",\"1224.778\",\"1188.108\",\"1554.808\",\"993.757\",\"1672.152\",\"2786.92\",\"3582.659\",\"3410.31\",\"4506.743\",\"4880.777\",\"4873.443\",\"4415.068\",\"3285.632\",\"3534.988\",\"5412.492\",\"5504.167\",\"5346.486\",\"5280.48\",\"4649.756\",\"5115.465\",\"5009.122\",\"4701.094\",\"4660.757\",\"5815.862\",\"5130.133\",\"5009.122\",\"5115.465\",\"5089.796\",\"5196.139\",\"5775.525\",\"3890.687\",\"10975.331\",\"10458.284\",\"7381.671\",\"7308.331\",\"9156.499\",\"9541.534\",\"9732.218\",\"12665.818\",\"9064.824\",\"18793.375\",\"19156.408\",\"22266.024\",\"25151.953\",\"25709.337\",\"27792.193\",\"29057.308\",\"30340.758\",\"33399.036\",\"32617.965\",\"34763.16\",\"\",\"\",\"\",\"\",\"\",\r\n",
      "\"Albania\",\"ALB\",\"CO2 emissions (kt)\",\"EN.ATM.CO2E.KT\",\"2024.184\",\"2280.874\",\"2464.224\",\"2082.856\",\"2016.85\",\"2174.531\",\"2552.232\",\"2680.577\",\"3072.946\",\"3245.295\",\"3744.007\",\"4352.729\",\"5643.513\",\"5291.481\",\"4345.395\",\"4594.751\",\"4950.45\",\"5720.52\",\"6494.257\",\"7587.023\",\"5170.47\",\"7341.334\",\"7308.331\",\"7631.027\",\"7825.378\",\"7880.383\",\"8056.399\",\"7444.01\",\"7326.666\",\"8984.15\",\"5515.168\",\"4286.723\",\"2515.562\",\"2335.879\",\"1925.175\",\"2086.523\",\"2016.85\",\"1543.807\",\"1752.826\",\"2984.938\",\"3021.608\",\"3223.293\",\"3751.341\",\"4294.057\",\"4165.712\",\"4253.72\",\"3898.021\",\"3927.357\",\"4374.731\",\"4378.398\",\"4598.418\",\"5240.143\",\"4910.113\",\"5064.127\",\"5716.853\",\"\",\"\",\"\",\"\",\"\",\r\n",
      "\"Andorra\",\"AND\",\"CO2 emissions (kt)\",\"EN.ATM.CO2E.KT\",\"\",\"\",\"\",\"\",\"\",\"\",\"\",\"\",\"\",\"\",\"\",\"\",\"\",\"\",\"\",\"\",\"\",\"\",\"\",\"\",\"\",\"\",\"\",\"\",\"\",\"\",\"\",\"\",\"\",\"\",\"407.037\",\"407.037\",\"407.037\",\"410.704\",\"407.037\",\"425.372\",\"454.708\",\"465.709\",\"491.378\",\"513.38\",\"524.381\",\"524.381\",\"531.715\",\"535.382\",\"561.051\",\"575.719\",\"546.383\",\"539.049\",\"539.049\",\"517.047\",\"517.047\",\"491.378\",\"487.711\",\"476.71\",\"462.042\",\"\",\"\",\"\",\"\",\"\",\r\n",
      "\n",
      "==> ./Metadata_Country_API_EN.ATM.CO2E.KT_DS2_en_csv_v2_566461.csv <==\n",
      "﻿\"Country Code\",\"Region\",\"IncomeGroup\",\"SpecialNotes\",\"TableName\",\r\n",
      "\"ABW\",\"Latin America & Caribbean\",\"High income\",\"\",\"Aruba\",\r\n",
      "\"AFG\",\"South Asia\",\"Low income\",\"\",\"Afghanistan\",\r\n",
      "\"AGO\",\"Sub-Saharan Africa\",\"Lower middle income\",\"\",\"Angola\",\r\n",
      "\"ALB\",\"Europe & Central Asia\",\"Upper middle income\",\"\",\"Albania\",\r\n",
      "\"AND\",\"Europe & Central Asia\",\"High income\",\"\",\"Andorra\",\r\n",
      "\"ARB\",\"\",\"\",\"Arab World aggregate. Arab World is composed of members of the League of Arab States.\",\"Arab World\",\r\n",
      "\"ARE\",\"Middle East & North Africa\",\"High income\",\"\",\"United Arab Emirates\",\r\n",
      "\"ARG\",\"Latin America & Caribbean\",\"Upper middle income\",\"\",\"Argentina\",\r\n",
      "\"ARM\",\"Europe & Central Asia\",\"Upper middle income\",\"\",\"Armenia\",\r\n",
      "\n",
      "==> ./Metadata_Indicator_API_EN.ATM.CO2E.KT_DS2_en_csv_v2_566461.csv <==\n",
      "﻿\"INDICATOR_CODE\",\"INDICATOR_NAME\",\"SOURCE_NOTE\",\"SOURCE_ORGANIZATION\",\r\n",
      "\"EN.ATM.CO2E.KT\",\"CO2 emissions (kt)\",\"Carbon dioxide emissions are those stemming from the burning of fossil fuels and the manufacture of cement. They include carbon dioxide produced during consumption of solid, liquid, and gas fuels and gas flaring.\",\"Carbon Dioxide Information Analysis Center, Environmental Sciences Division, Oak Ridge National Laboratory, Tennessee, United States.\",\r\n"
     ]
    }
   ],
   "source": [
    "%%bash\n",
    "head ./*API_EN.ATM.CO2*.csv"
   ]
  },
  {
   "cell_type": "markdown",
   "metadata": {},
   "source": [
    "We can see that the actual CSV header is on line five. To extract only the header row, we can use the stream editor *sed*, see `man sed`. The argument `'5!d'` tells `sed`, that we are only interested in the fifth line."
   ]
  },
  {
   "cell_type": "code",
   "execution_count": 27,
   "metadata": {},
   "outputs": [
    {
     "name": "stdout",
     "output_type": "stream",
     "text": [
      "\"Country Name\",\"Country Code\",\"Indicator Name\",\"Indicator Code\",\"1960\",\"1961\",\"1962\",\"1963\",\"1964\",\"1965\",\"1966\",\"1967\",\"1968\",\"1969\",\"1970\",\"1971\",\"1972\",\"1973\",\"1974\",\"1975\",\"1976\",\"1977\",\"1978\",\"1979\",\"1980\",\"1981\",\"1982\",\"1983\",\"1984\",\"1985\",\"1986\",\"1987\",\"1988\",\"1989\",\"1990\",\"1991\",\"1992\",\"1993\",\"1994\",\"1995\",\"1996\",\"1997\",\"1998\",\"1999\",\"2000\",\"2001\",\"2002\",\"2003\",\"2004\",\"2005\",\"2006\",\"2007\",\"2008\",\"2009\",\"2010\",\"2011\",\"2012\",\"2013\",\"2014\",\"2015\",\"2016\",\"2017\",\"2018\",\r\n"
     ]
    }
   ],
   "source": [
    "%%bash\n",
    "# sed is a cli application that can filter text from pipeline (inputstream or a file)\n",
    "# Sed Linux command doesn’t update your data. It only sends the changed text to STDOUT\n",
    "# To know more about the sed tool: https://www.geeksforgeeks.org/sed-command-in-linux-unix-with-examples/\n",
    "sed '5!d' API_EN.ATM.CO2E.KT_DS2_en_csv_v2_10473877.csv # sed delete all lines except line 5 (sed '5d' filename.ext (would delete only line 5))"
   ]
  },
  {
   "cell_type": "markdown",
   "metadata": {},
   "source": [
    "To get the two lines -one for Denmark and one for Uruguay repectively- holding the CO2 emission in tons, we can use the grep command, see `man grep`."
   ]
  },
  {
   "cell_type": "code",
   "execution_count": 33,
   "metadata": {},
   "outputs": [
    {
     "name": "stdout",
     "output_type": "stream",
     "text": [
      "\"Denmark\",\"DNK\",\"CO2 emissions (kt)\",\"EN.ATM.CO2E.KT\",\"29779.707\",\"31734.218\",\"36926.69\",\"40707.367\",\"43189.926\",\"44337.697\",\"50127.89\",\"49075.461\",\"53325.514\",\"59401.733\",\"62100.645\",\"57062.187\",\"59643.755\",\"59266.054\",\"55078.34\",\"55778.737\",\"60135.133\",\"61847.622\",\"61117.889\",\"62999.06\",\"60369.821\",\"51789.041\",\"53695.881\",\"50175.561\",\"50861.29\",\"60072.794\",\"58903.021\",\"58341.97\",\"55107.676\",\"48785.768\",\"50230.566\",\"60270.812\",\"54322.938\",\"57065.854\",\"61000.545\",\"57172.197\",\"72181.228\",\"61557.929\",\"59552.08\",\"55148.013\",\"51330.666\",\"52918.477\",\"52049.398\",\"55998.757\",\"50600.933\",\"47095.281\",\"54986.665\",\"50256.235\",\"46933.933\",\"44510.046\",\"46640.573\",\"40645.028\",\"36427.978\",\"38532.836\",\"33498.045\",\"\",\"\",\"\",\"\",\r\n",
      "\"Uruguay\",\"URY\",\"CO2 emissions (kt)\",\"EN.ATM.CO2E.KT\",\"4319.726\",\"4121.708\",\"4011.698\",\"4319.726\",\"4558.081\",\"5522.502\",\"5405.158\",\"4884.444\",\"4884.444\",\"5595.842\",\"5742.522\",\"5808.528\",\"6076.219\",\"5775.525\",\"5683.85\",\"5969.876\",\"5896.536\",\"5650.847\",\"5742.522\",\"6277.904\",\"5837.864\",\"5375.822\",\"4873.443\",\"3817.347\",\"3450.647\",\"3296.633\",\"3179.289\",\"3560.657\",\"4807.437\",\"4880.777\",\"3993.363\",\"4554.414\",\"5170.47\",\"4466.406\",\"4066.703\",\"4591.084\",\"5441.828\",\"5555.505\",\"5687.517\",\"6725.278\",\"5306.149\",\"5089.796\",\"4620.42\",\"4598.418\",\"5610.51\",\"5775.525\",\"6648.271\",\"6002.879\",\"8265.418\",\"8060.066\",\"6387.914\",\"7763.039\",\"8694.457\",\"7587.023\",\"6747.28\",\"\",\"\",\"\",\"\",\r\n"
     ]
    }
   ],
   "source": [
    "%%bash\n",
    "grep -E \"DNK|URY\" API_EN.ATM.CO2E.KT_DS2_en_csv_v2_10473877.csv"
   ]
  },
  {
   "cell_type": "markdown",
   "metadata": {},
   "source": [
    "### Executing OS Commands from Python\n",
    "\n",
    "\n",
    "With the help of the `subprocess` module allows us to execute shell commands and to read what the process was writing to standard out and standard error.\n",
    "\n",
    "https://docs.python.org/3/library/subprocess.html"
   ]
  },
  {
   "cell_type": "code",
   "execution_count": 35,
   "metadata": {},
   "outputs": [
    {
     "data": {
      "text/plain": [
       "['Country Name',\n",
       " 'Country Code',\n",
       " 'Indicator Name',\n",
       " 'Indicator Code',\n",
       " '1960',\n",
       " '1961',\n",
       " '1962',\n",
       " '1963',\n",
       " '1964',\n",
       " '1965',\n",
       " '1966',\n",
       " '1967',\n",
       " '1968',\n",
       " '1969',\n",
       " '1970',\n",
       " '1971',\n",
       " '1972',\n",
       " '1973',\n",
       " '1974',\n",
       " '1975',\n",
       " '1976',\n",
       " '1977',\n",
       " '1978',\n",
       " '1979',\n",
       " '1980',\n",
       " '1981',\n",
       " '1982',\n",
       " '1983',\n",
       " '1984',\n",
       " '1985',\n",
       " '1986',\n",
       " '1987',\n",
       " '1988',\n",
       " '1989',\n",
       " '1990',\n",
       " '1991',\n",
       " '1992',\n",
       " '1993',\n",
       " '1994',\n",
       " '1995',\n",
       " '1996',\n",
       " '1997',\n",
       " '1998',\n",
       " '1999',\n",
       " '2000',\n",
       " '2001',\n",
       " '2002',\n",
       " '2003',\n",
       " '2004',\n",
       " '2005',\n",
       " '2006',\n",
       " '2007',\n",
       " '2008',\n",
       " '2009',\n",
       " '2010',\n",
       " '2011',\n",
       " '2012',\n",
       " '2013',\n",
       " '2014',\n",
       " '2015',\n",
       " '2016',\n",
       " '2017',\n",
       " '2018',\n",
       " '']"
      ]
     },
     "execution_count": 35,
     "metadata": {},
     "output_type": "execute_result"
    }
   ],
   "source": [
    "import subprocess\n",
    "\n",
    "\n",
    "cmd = 'sed 5!d {}'.format(local_file).split()\n",
    "\n",
    "out, err = subprocess.Popen(cmd, stdout=subprocess.PIPE, \n",
    "                            stderr=subprocess.STDOUT).communicate()\n",
    "# Since we are getting the output as a byte literal, we have to decode it into string\n",
    "header_cols = out.splitlines()[0].decode('UTF-8').split(',')\n",
    "header_cols = [h.replace('\"', '') for h in header_cols]\n",
    "header_cols"
   ]
  },
  {
   "cell_type": "code",
   "execution_count": 36,
   "metadata": {
    "scrolled": true
   },
   "outputs": [
    {
     "name": "stdout",
     "output_type": "stream",
     "text": [
      "-rw-rw-r-- 1 tha tha     270 Nov 12 15:25 teams.csv\n",
      "-rw-rw-r-- 1 tha tha  371300 Dec  3 16:06 cphledighed.csv\n",
      "-rwx------ 1 tha tha 9852462 Dec 12 19:04 befkbhalderstatkode.csv\n",
      "-rwx------ 1 tha tha  177069 Dec 15 23:34 API_EN.ATM.CO2E.KT_DS2_en_csv_v2_10473877.csv\n",
      "-rw-rw-r-- 1 tha tha     466 Dec 17 11:33 Metadata_Indicator_API_EN.ATM.CO2E.KT_DS2_en_csv_v2_566461.csv\n",
      "-rw-rw-r-- 1 tha tha  177911 Dec 17 11:33 API_EN.ATM.CO2E.KT_DS2_en_csv_v2_566461.csv\n",
      "-rw-rw-r-- 1 tha tha   31364 Dec 17 11:33 Metadata_Country_API_EN.ATM.CO2E.KT_DS2_en_csv_v2_566461.csv\n"
     ]
    }
   ],
   "source": [
    "%%bash\n",
    "ls -ltr *.csv"
   ]
  },
  {
   "cell_type": "code",
   "execution_count": 37,
   "metadata": {},
   "outputs": [
    {
     "name": "stdout",
     "output_type": "stream",
     "text": [
      "-rw-rw-r-- 1 tha tha  42K Dec 15 23:58 04xNumpy.ipynb\n",
      "-rwx------ 1 tha tha 117K Dec 15 23:58 04 Numpy.ipynb\n",
      "-rw-rw-r-- 1 tha tha 8.8K Dec 17 00:02 08 Data Persistence.ipynb\n",
      "-rw-rw-r-- 1 tha tha  18K Dec 17 11:03 05 DateTime.ipynb\n",
      "-rw-rw-r-- 1 tha tha  72K Dec 17 11:32 API_EN.ATM.CO2E.KT_DS2_en_csv_v2_566461.zip\n",
      "-rw-rw-r-- 1 tha tha  466 Dec 17 11:33 Metadata_Indicator_API_EN.ATM.CO2E.KT_DS2_en_csv_v2_566461.csv\n",
      "-rw-rw-r-- 1 tha tha 174K Dec 17 11:33 API_EN.ATM.CO2E.KT_DS2_en_csv_v2_566461.csv\n",
      "-rw-rw-r-- 1 tha tha  31K Dec 17 11:33 Metadata_Country_API_EN.ATM.CO2E.KT_DS2_en_csv_v2_566461.csv\n",
      "-rwx------ 1 tha tha  56K Dec 17 12:51 05 pandas.ipynb\n",
      "-rw-rw-r-- 1 tha tha  26K Dec 17 13:13 05 Subprocess.ipynb\n"
     ]
    }
   ],
   "source": [
    "%%bash\n",
    "\n",
    "ls -ltrh | tail"
   ]
  },
  {
   "cell_type": "markdown",
   "metadata": {},
   "source": [
    "Now, let's get in a similar way the line of the CSV file containing the time series corresponding to Danmark's and Uruguay's CO2 emissions."
   ]
  },
  {
   "cell_type": "code",
   "execution_count": 38,
   "metadata": {},
   "outputs": [],
   "source": [
    "cmd = ['grep', '-E', 'DNK|URY', local_file]\n",
    "out, err = subprocess.Popen(cmd, stdout=subprocess.PIPE, \n",
    "                            stderr=subprocess.STDOUT).communicate()"
   ]
  },
  {
   "cell_type": "code",
   "execution_count": 39,
   "metadata": {},
   "outputs": [
    {
     "name": "stdout",
     "output_type": "stream",
     "text": [
      "['\"Denmark\",\"DNK\",\"CO2 emissions (kt)\",\"EN.ATM.CO2E.KT\",\"29779.707\",\"31734.218\",\"36926.69\",\"40707.367\",\"43189.926\",\"44337.697\",\"50127.89\",\"49075.461\",\"53325.514\",\"59401.733\",\"62100.645\",\"57062.187\",\"59643.755\",\"59266.054\",\"55078.34\",\"55778.737\",\"60135.133\",\"61847.622\",\"61117.889\",\"62999.06\",\"60369.821\",\"51789.041\",\"53695.881\",\"50175.561\",\"50861.29\",\"60072.794\",\"58903.021\",\"58341.97\",\"55107.676\",\"48785.768\",\"50230.566\",\"60270.812\",\"54322.938\",\"57065.854\",\"61000.545\",\"57172.197\",\"72181.228\",\"61557.929\",\"59552.08\",\"55148.013\",\"51330.666\",\"52918.477\",\"52049.398\",\"55998.757\",\"50600.933\",\"47095.281\",\"54986.665\",\"50256.235\",\"46933.933\",\"44510.046\",\"46640.573\",\"40645.028\",\"36427.978\",\"38532.836\",\"33498.045\",\"\",\"\",\"\",\"\",', '\"Uruguay\",\"URY\",\"CO2 emissions (kt)\",\"EN.ATM.CO2E.KT\",\"4319.726\",\"4121.708\",\"4011.698\",\"4319.726\",\"4558.081\",\"5522.502\",\"5405.158\",\"4884.444\",\"4884.444\",\"5595.842\",\"5742.522\",\"5808.528\",\"6076.219\",\"5775.525\",\"5683.85\",\"5969.876\",\"5896.536\",\"5650.847\",\"5742.522\",\"6277.904\",\"5837.864\",\"5375.822\",\"4873.443\",\"3817.347\",\"3450.647\",\"3296.633\",\"3179.289\",\"3560.657\",\"4807.437\",\"4880.777\",\"3993.363\",\"4554.414\",\"5170.47\",\"4466.406\",\"4066.703\",\"4591.084\",\"5441.828\",\"5555.505\",\"5687.517\",\"6725.278\",\"5306.149\",\"5089.796\",\"4620.42\",\"4598.418\",\"5610.51\",\"5775.525\",\"6648.271\",\"6002.879\",\"8265.418\",\"8060.066\",\"6387.914\",\"7763.039\",\"8694.457\",\"7587.023\",\"6747.28\",\"\",\"\",\"\",\"\",']\n"
     ]
    },
    {
     "data": {
      "text/plain": [
       "[['Denmark',\n",
       "  'DNK',\n",
       "  'CO2 emissions (kt)',\n",
       "  'EN.ATM.CO2E.KT',\n",
       "  '29779.707',\n",
       "  '31734.218',\n",
       "  '36926.69',\n",
       "  '40707.367',\n",
       "  '43189.926',\n",
       "  '44337.697',\n",
       "  '50127.89',\n",
       "  '49075.461',\n",
       "  '53325.514',\n",
       "  '59401.733',\n",
       "  '62100.645',\n",
       "  '57062.187',\n",
       "  '59643.755',\n",
       "  '59266.054',\n",
       "  '55078.34',\n",
       "  '55778.737',\n",
       "  '60135.133',\n",
       "  '61847.622',\n",
       "  '61117.889',\n",
       "  '62999.06',\n",
       "  '60369.821',\n",
       "  '51789.041',\n",
       "  '53695.881',\n",
       "  '50175.561',\n",
       "  '50861.29',\n",
       "  '60072.794',\n",
       "  '58903.021',\n",
       "  '58341.97',\n",
       "  '55107.676',\n",
       "  '48785.768',\n",
       "  '50230.566',\n",
       "  '60270.812',\n",
       "  '54322.938',\n",
       "  '57065.854',\n",
       "  '61000.545',\n",
       "  '57172.197',\n",
       "  '72181.228',\n",
       "  '61557.929',\n",
       "  '59552.08',\n",
       "  '55148.013',\n",
       "  '51330.666',\n",
       "  '52918.477',\n",
       "  '52049.398',\n",
       "  '55998.757',\n",
       "  '50600.933',\n",
       "  '47095.281',\n",
       "  '54986.665',\n",
       "  '50256.235',\n",
       "  '46933.933',\n",
       "  '44510.046',\n",
       "  '46640.573',\n",
       "  '40645.028',\n",
       "  '36427.978',\n",
       "  '38532.836',\n",
       "  '33498.045',\n",
       "  '',\n",
       "  '',\n",
       "  '',\n",
       "  '',\n",
       "  ''],\n",
       " ['Uruguay',\n",
       "  'URY',\n",
       "  'CO2 emissions (kt)',\n",
       "  'EN.ATM.CO2E.KT',\n",
       "  '4319.726',\n",
       "  '4121.708',\n",
       "  '4011.698',\n",
       "  '4319.726',\n",
       "  '4558.081',\n",
       "  '5522.502',\n",
       "  '5405.158',\n",
       "  '4884.444',\n",
       "  '4884.444',\n",
       "  '5595.842',\n",
       "  '5742.522',\n",
       "  '5808.528',\n",
       "  '6076.219',\n",
       "  '5775.525',\n",
       "  '5683.85',\n",
       "  '5969.876',\n",
       "  '5896.536',\n",
       "  '5650.847',\n",
       "  '5742.522',\n",
       "  '6277.904',\n",
       "  '5837.864',\n",
       "  '5375.822',\n",
       "  '4873.443',\n",
       "  '3817.347',\n",
       "  '3450.647',\n",
       "  '3296.633',\n",
       "  '3179.289',\n",
       "  '3560.657',\n",
       "  '4807.437',\n",
       "  '4880.777',\n",
       "  '3993.363',\n",
       "  '4554.414',\n",
       "  '5170.47',\n",
       "  '4466.406',\n",
       "  '4066.703',\n",
       "  '4591.084',\n",
       "  '5441.828',\n",
       "  '5555.505',\n",
       "  '5687.517',\n",
       "  '6725.278',\n",
       "  '5306.149',\n",
       "  '5089.796',\n",
       "  '4620.42',\n",
       "  '4598.418',\n",
       "  '5610.51',\n",
       "  '5775.525',\n",
       "  '6648.271',\n",
       "  '6002.879',\n",
       "  '8265.418',\n",
       "  '8060.066',\n",
       "  '6387.914',\n",
       "  '7763.039',\n",
       "  '8694.457',\n",
       "  '7587.023',\n",
       "  '6747.28',\n",
       "  '',\n",
       "  '',\n",
       "  '',\n",
       "  '',\n",
       "  '']]"
      ]
     },
     "execution_count": 39,
     "metadata": {},
     "output_type": "execute_result"
    }
   ],
   "source": [
    "lines = out.decode('UTF-8').splitlines()\n",
    "print(lines)\n",
    "lines = [l.split(',') for l in lines]\n",
    "lines = [[c.replace('\"', '') for c in l] for l in lines]\n",
    "lines"
   ]
  },
  {
   "cell_type": "markdown",
   "metadata": {},
   "source": [
    "We are now ready to go to create two time series of CO2 emissions for Danmark and Uruguay repectively.\n",
    "We are going to use Pandas `Series`, since they are one-dimensional labeled arrays, and thus we can create one for Denmark and Uruquay respectively."
   ]
  },
  {
   "cell_type": "code",
   "execution_count": 40,
   "metadata": {},
   "outputs": [
    {
     "name": "stdout",
     "output_type": "stream",
     "text": [
      "header_cols:\n",
      " ['Country Name', 'Country Code', 'Indicator Name', 'Indicator Code', '1960', '1961', '1962', '1963', '1964', '1965', '1966', '1967', '1968', '1969', '1970', '1971', '1972', '1973', '1974', '1975', '1976', '1977', '1978', '1979', '1980', '1981', '1982', '1983', '1984', '1985', '1986', '1987', '1988', '1989', '1990', '1991', '1992', '1993', '1994', '1995', '1996', '1997', '1998', '1999', '2000', '2001', '2002', '2003', '2004', '2005', '2006', '2007', '2008', '2009', '2010', '2011', '2012', '2013', '2014', '2015', '2016', '2017', '2018', '']\n",
      "lines:\n",
      " [['Denmark', 'DNK', 'CO2 emissions (kt)', 'EN.ATM.CO2E.KT', '29779.707', '31734.218', '36926.69', '40707.367', '43189.926', '44337.697', '50127.89', '49075.461', '53325.514', '59401.733', '62100.645', '57062.187', '59643.755', '59266.054', '55078.34', '55778.737', '60135.133', '61847.622', '61117.889', '62999.06', '60369.821', '51789.041', '53695.881', '50175.561', '50861.29', '60072.794', '58903.021', '58341.97', '55107.676', '48785.768', '50230.566', '60270.812', '54322.938', '57065.854', '61000.545', '57172.197', '72181.228', '61557.929', '59552.08', '55148.013', '51330.666', '52918.477', '52049.398', '55998.757', '50600.933', '47095.281', '54986.665', '50256.235', '46933.933', '44510.046', '46640.573', '40645.028', '36427.978', '38532.836', '33498.045', '', '', '', '', ''], ['Uruguay', 'URY', 'CO2 emissions (kt)', 'EN.ATM.CO2E.KT', '4319.726', '4121.708', '4011.698', '4319.726', '4558.081', '5522.502', '5405.158', '4884.444', '4884.444', '5595.842', '5742.522', '5808.528', '6076.219', '5775.525', '5683.85', '5969.876', '5896.536', '5650.847', '5742.522', '6277.904', '5837.864', '5375.822', '4873.443', '3817.347', '3450.647', '3296.633', '3179.289', '3560.657', '4807.437', '4880.777', '3993.363', '4554.414', '5170.47', '4466.406', '4066.703', '4591.084', '5441.828', '5555.505', '5687.517', '6725.278', '5306.149', '5089.796', '4620.42', '4598.418', '5610.51', '5775.525', '6648.271', '6002.879', '8265.418', '8060.066', '6387.914', '7763.039', '8694.457', '7587.023', '6747.28', '', '', '', '', '']]\n"
     ]
    }
   ],
   "source": [
    "print('header_cols:\\n',header_cols)\n",
    "print('lines:\\n',lines)"
   ]
  },
  {
   "cell_type": "markdown",
   "metadata": {},
   "source": [
    "Since our data and the corresponding indexes are still all strings we have to convert them to floats and integers repectively. We do so using two different mechanisms. Once, creation of typed NumPy arrays and on the other hand via a Pandas method `convert_objects`, which converts strings to numerical values of a suitable type."
   ]
  },
  {
   "cell_type": "code",
   "execution_count": 52,
   "metadata": {},
   "outputs": [
    {
     "name": "stdout",
     "output_type": "stream",
     "text": [
      "['1960', '1961', '1962', '1963', '1964', '1965', '1966', '1967', '1968', '1969', '1970', '1971', '1972', '1973', '1974', '1975', '1976', '1977', '1978', '1979', '1980', '1981', '1982', '1983', '1984', '1985', '1986', '1987', '1988', '1989', '1990', '1991', '1992', '1993', '1994', '1995', '1996', '1997', '1998', '1999', '2000', '2001', '2002', '2003', '2004', '2005', '2006', '2007', '2008', '2009', '2010', '2011', '2012', '2013', '2014', '2015', '2016', '2017', '2018'] \n",
      "\n",
      "\n",
      "['29779.707', '31734.218', '36926.69', '40707.367', '43189.926', '44337.697', '50127.89', '49075.461', '53325.514', '59401.733', '62100.645', '57062.187', '59643.755', '59266.054', '55078.34', '55778.737', '60135.133', '61847.622', '61117.889', '62999.06', '60369.821', '51789.041', '53695.881', '50175.561', '50861.29', '60072.794', '58903.021', '58341.97', '55107.676', '48785.768', '50230.566', '60270.812', '54322.938', '57065.854', '61000.545', '57172.197', '72181.228', '61557.929', '59552.08', '55148.013', '51330.666', '52918.477', '52049.398', '55998.757', '50600.933', '47095.281', '54986.665', '50256.235', '46933.933', '44510.046', '46640.573', '40645.028', '36427.978', '38532.836', '33498.045', '', '', '', '']\n",
      "\\Danish CO2 Emissions:\n",
      " 1960    29779.707\n",
      "1961    31734.218\n",
      "1962    36926.690\n",
      "1963    40707.367\n",
      "1964    43189.926\n",
      "1965    44337.697\n",
      "1966    50127.890\n",
      "1967    49075.461\n",
      "1968    53325.514\n",
      "1969    59401.733\n",
      "1970    62100.645\n",
      "1971    57062.187\n",
      "1972    59643.755\n",
      "1973    59266.054\n",
      "1974    55078.340\n",
      "1975    55778.737\n",
      "1976    60135.133\n",
      "1977    61847.622\n",
      "1978    61117.889\n",
      "1979    62999.060\n",
      "1980    60369.821\n",
      "1981    51789.041\n",
      "1982    53695.881\n",
      "1983    50175.561\n",
      "1984    50861.290\n",
      "1985    60072.794\n",
      "1986    58903.021\n",
      "1987    58341.970\n",
      "1988    55107.676\n",
      "1989    48785.768\n",
      "1990    50230.566\n",
      "1991    60270.812\n",
      "1992    54322.938\n",
      "1993    57065.854\n",
      "1994    61000.545\n",
      "1995    57172.197\n",
      "1996    72181.228\n",
      "1997    61557.929\n",
      "1998    59552.080\n",
      "1999    55148.013\n",
      "2000    51330.666\n",
      "2001    52918.477\n",
      "2002    52049.398\n",
      "2003    55998.757\n",
      "2004    50600.933\n",
      "2005    47095.281\n",
      "2006    54986.665\n",
      "2007    50256.235\n",
      "2008    46933.933\n",
      "2009    44510.046\n",
      "2010    46640.573\n",
      "2011    40645.028\n",
      "2012    36427.978\n",
      "2013    38532.836\n",
      "2014    33498.045\n",
      "2015          NaN\n",
      "2016          NaN\n",
      "2017          NaN\n",
      "2018          NaN\n",
      "dtype: float64\n"
     ]
    }
   ],
   "source": [
    "# reference to check graph: https://www.klimadebat.dk/grafer_co2udledning.php\n",
    "years = header_cols[4:-1]\n",
    "print(years,'\\n\\n')\n",
    "danish_emissions = lines[0][4:-1]\n",
    "print(danish_emissions)\n",
    "ts_dk = pd.Series(danish_emissions, index=np.asarray(years, dtype=int))\n",
    "ts_dk = pd.to_numeric(ts_dk)\n",
    "ts_dk.loc[1960]\n",
    "print('\\Danish CO2 Emissions:\\n',ts_dk)"
   ]
  },
  {
   "cell_type": "code",
   "execution_count": 55,
   "metadata": {},
   "outputs": [
    {
     "data": {
      "text/plain": [
       "<matplotlib.axes._subplots.AxesSubplot at 0x7f1b15889f10>"
      ]
     },
     "execution_count": 55,
     "metadata": {},
     "output_type": "execute_result"
    },
    {
     "data": {
      "image/png": "[encoded data removed]",
      "text/plain": [
       "<Figure size 432x288 with 1 Axes>"
      ]
     },
     "metadata": {
      "needs_background": "light"
     },
     "output_type": "display_data"
    }
   ],
   "source": [
    "ts_dk.plot()"
   ]
  },
  {
   "cell_type": "markdown",
   "metadata": {},
   "source": [
    "Now we create a time series for the corresponding Uruguaian time series."
   ]
  },
  {
   "cell_type": "code",
   "execution_count": 54,
   "metadata": {},
   "outputs": [
    {
     "data": {
      "text/plain": [
       "<matplotlib.axes._subplots.AxesSubplot at 0x7f1b158ca750>"
      ]
     },
     "execution_count": 54,
     "metadata": {},
     "output_type": "execute_result"
    },
    {
     "data": {
      "image/png": "[encoded data removed]",
      "text/plain": [
       "<Figure size 432x288 with 1 Axes>"
      ]
     },
     "metadata": {
      "needs_background": "light"
     },
     "output_type": "display_data"
    }
   ],
   "source": [
    "ts_ury = pd.Series(lines[1][4:-1], index=np.asarray(header_cols[4:-1], dtype=int))\n",
    "ts_ury = pd.to_numeric(ts_ury)\n",
    "ts_ury.plot()"
   ]
  }
 ],
 "metadata": {
  "kernelspec": {
   "display_name": "Python 3",
   "language": "python",
   "name": "python3"
  },
  "language_info": {
   "codemirror_mode": {
    "name": "ipython",
    "version": 3
   },
   "file_extension": ".py",
   "mimetype": "text/x-python",
   "name": "python",
   "nbconvert_exporter": "python",
   "pygments_lexer": "ipython3",
   "version": "3.7.4"
  }
 },
 "nbformat": 4,
 "nbformat_minor": 2
}
