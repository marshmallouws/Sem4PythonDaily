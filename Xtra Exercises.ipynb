{
 "cells": [
  {
   "cell_type": "markdown",
   "metadata": {},
   "source": [
    "# Extra exercises"
   ]
  },
  {
   "cell_type": "markdown",
   "metadata": {},
   "source": [
    "## Exercise with dictionary and recursion\n",
    "1. Write a program that creates gramatically valid English sentences, where the grammar is defined via a dictionary, for example as in the following.\n",
    "   \n",
    "   \n",
    "  ```python\n",
    "  grammar = {\n",
    "      \"_S\"  : [\"_NP _VP\"],\n",
    "      \"_NP\" : [\"_N\",\n",
    "               \"_A _NP _P _A _N\"],\n",
    "      \"_VP\" : [\"_V\",\n",
    "               \"_V _NP\"],\n",
    "      \"_N\"  : [\"developer\", \"teacher\", \"student\"],\n",
    "      \"_A\"  : [\"smart\", \"interesting\", \"nice\", \"desperate\", \"anoying\"],\n",
    "      \"_P\"  : [\"about\", \"near\"],\n",
    "      \"_V\"  : [\"learns\", \"trains\", \"tests\", \"is\", \"studies\", \"asks\"]\n",
    "  }\n",
    "  ```\n",
    "  \n",
    "  **Hint** If you think the above task is too complex, start with a more simple grammar:\n",
    "  \n",
    "  ```python\n",
    "  grammar = {\n",
    "      \"_S\"  : [\"_N _V\"],\n",
    "      \"_N\"  : [\"developer\", \"teacher\", \"student\"],\n",
    "      \"_V\"  : [\"learns\", \"trains\", \"tests\", \"is\", \"studies\", \"asks\"]\n",
    "  }\n",
    "  ```\n",
    "    \n",
    "    \n",
    "  And write a program, which replaces `\"_N\"` with a random noun out of `grammar['_N']` and `\"_V\"` with a random verb out of `grammar['_V']` to generate a sentence. Subsequently scale-up your program."
   ]
  }
 ],
 "metadata": {
  "kernelspec": {
   "display_name": "Python 3",
   "language": "python",
   "name": "python3"
  },
  "language_info": {
   "codemirror_mode": {
    "name": "ipython",
    "version": 3
   },
   "file_extension": ".py",
   "mimetype": "text/x-python",
   "name": "python",
   "nbconvert_exporter": "python",
   "pygments_lexer": "ipython3",
   "version": "3.7.4"
  }
 },
 "nbformat": 4,
 "nbformat_minor": 2
}
