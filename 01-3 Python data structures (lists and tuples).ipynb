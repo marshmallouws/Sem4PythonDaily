{
 "cells": [
  {
   "cell_type": "markdown",
   "metadata": {
    "slideshow": {
     "slide_type": "slide"
    }
   },
   "source": [
    "## 4 Python build in data structures\n",
    "\n",
    "#### Sequence types:\n",
    "1. list    \n",
    "2. tupple  \n",
    "\n",
    "#### Collection types:\n",
    "3. dict   \n",
    "4. set  "
   ]
  },
  {
   "cell_type": "code",
   "execution_count": 4,
   "metadata": {},
   "outputs": [
    {
     "name": "stdout",
     "output_type": "stream",
     "text": [
      "[1, 2, 2, 3]\n",
      "{1, 2, 3}\n",
      "{3, 4}\n"
     ]
    }
   ],
   "source": [
    "my_list = [1,2,2,3]\n",
    "print(my_list)\n",
    "my_set = set(my_list)\n",
    "print(my_set)\n",
    "my_set = {3,4}\n",
    "print(my_set)"
   ]
  },
  {
   "cell_type": "markdown",
   "metadata": {
    "slideshow": {
     "slide_type": "slide"
    }
   },
   "source": [
    "## Members of the sequence types\n",
    "[article about sequences](https://data-flair.training/blogs/python-sequence/)  \n",
    "\n",
    "A sequence is a group of items with a deterministic ordering\n",
    "\n",
    "#### 6 types of Sequence in Python: \n",
    "1. String, \n",
    "2. list, \n",
    "3. tuple, (immutable list)\n",
    "4. Byte sequences, (immutable byte array)\n",
    "5. byte array, and \n",
    "6. range object"
   ]
  },
  {
   "cell_type": "markdown",
   "metadata": {
    "slideshow": {
     "slide_type": "subslide"
    }
   },
   "source": [
    "## Members of collection type\n",
    "\n",
    "collections in python are unordered data collections\n",
    "\n",
    "1. **Set**\n",
    "2. **Dictionary**"
   ]
  },
  {
   "cell_type": "markdown",
   "metadata": {
    "slideshow": {
     "slide_type": "slide"
    }
   },
   "source": [
    "### 6 Sequence type data structures"
   ]
  },
  {
   "cell_type": "code",
   "execution_count": 18,
   "metadata": {
    "slideshow": {
     "slide_type": "subslide"
    }
   },
   "outputs": [
    {
     "data": {
      "text/plain": [
       "b'hello'"
      ]
     },
     "execution_count": 18,
     "metadata": {},
     "output_type": "execute_result"
    }
   ],
   "source": [
    "# the 6 sequence types\n",
    "string_object = str()      # or str(\"some string content here\") or str(34)\n",
    "list_object = list()       # or listObject = [\"one\", \"two\", \"three\"]\n",
    "tuple_object = tuple()     # or tupleObject = (\"one\", \"two\", \"three\") or tuple([\"one\", \"two\"])\n",
    "byte_sequence = bytes()    # or bytes(\"hello world\", \"utf-8\")\n",
    "byte_array = bytearray(4)  # or bytearray([1,2,3,4])\n",
    "range_object = range(5)    # or range(start_index, end_index, step_which_can_be_negative) like range(10, 4, -2)\n",
    "\n",
    "bytes(\"hello\",\"utf-8\")"
   ]
  },
  {
   "cell_type": "markdown",
   "metadata": {
    "slideshow": {
     "slide_type": "slide"
    }
   },
   "source": [
    "### Sequence operators\n",
    "- **Concatenation**\n",
    "  - \"hello\" + \" \" + \"world\"\n",
    "  - [\"one\", \"two\"] + [\"three\", \"four\"]\n",
    "- **multiplication**\n",
    "  - \"ba\" + \"na\" * 2 (makes \"banana\")\n",
    "- **membership** (using the \"in\" operator)\n",
    "  - \"hello\" in \"hello world\""
   ]
  },
  {
   "cell_type": "code",
   "execution_count": 7,
   "metadata": {
    "slideshow": {
     "slide_type": "subslide"
    }
   },
   "outputs": [
    {
     "name": "stdout",
     "output_type": "stream",
     "text": [
      "banana\n",
      "there is 'na1' in banana: False\n"
     ]
    }
   ],
   "source": [
    "# multiply string with scalar value\n",
    "fruit_str = \"ba\"+\"na\"*2\n",
    "print(fruit_str)\n",
    "print(\"there is 'na' in banana:\", \"na1\" in fruit_str)"
   ]
  },
  {
   "cell_type": "code",
   "execution_count": 31,
   "metadata": {},
   "outputs": [
    {
     "name": "stdout",
     "output_type": "stream",
     "text": [
      "<class 'list'>\n"
     ]
    }
   ],
   "source": [
    "my_list = [1,3,4]\n",
    "print(type(my_list))"
   ]
  },
  {
   "cell_type": "code",
   "execution_count": 10,
   "metadata": {
    "slideshow": {
     "slide_type": "slide"
    }
   },
   "outputs": [
    {
     "name": "stdout",
     "output_type": "stream",
     "text": [
      "True True True False\n"
     ]
    }
   ],
   "source": [
    "# the 'in' operator used on sequences\n",
    "strInString = \"hello\" in \"hello world\"\n",
    "elementInList = 2 in [1,2,3,4,5,6,7]\n",
    "\n",
    "\n",
    "anyElementlistInList = any(element in [7,6,5] for element in [1,2,3,4,5,6,7])\n",
    "allElementsInList = all(element in [7,6,5] for element in [1,2,3,4,5,6,7])\n",
    "print(strInString, elementInList, anyElementlistInList,allElementsInList)"
   ]
  },
  {
   "cell_type": "markdown",
   "metadata": {
    "slideshow": {
     "slide_type": "slide"
    }
   },
   "source": [
    "### Sequence functions\n",
    "- **len**(\"hello\") - produces the number of elements in a sequence\n",
    "- **min**() and max() - produces the lowest and highest value in the sequence"
   ]
  },
  {
   "cell_type": "markdown",
   "metadata": {
    "slideshow": {
     "slide_type": "slide"
    }
   },
   "source": [
    "### Sequence methods\n",
    "- my_sequence.**index**(element) - returns the index of the first element matching\n",
    "- my_sequence.**count**(element) - returns number of elements matching"
   ]
  },
  {
   "cell_type": "markdown",
   "metadata": {
    "slideshow": {
     "slide_type": "slide"
    }
   },
   "source": [
    "## 2 collection type data structures:\n",
    "Set and Dictionary"
   ]
  },
  {
   "cell_type": "code",
   "execution_count": 32,
   "metadata": {},
   "outputs": [],
   "source": [
    "my_list = [2]\n",
    "my_set = {2}\n",
    "my_tuple = (2)"
   ]
  },
  {
   "cell_type": "code",
   "execution_count": 15,
   "metadata": {
    "slideshow": {
     "slide_type": "slide"
    }
   },
   "outputs": [
    {
     "name": "stdout",
     "output_type": "stream",
     "text": [
      "{3, 4, 6, 7} dublicates are case away\n",
      "{1, 2, 3, 4}\n"
     ]
    }
   ],
   "source": [
    "# A set is an unordered collection of unique elements\n",
    "my_set = {3,7,6,3,4}  # or \n",
    "print(my_set,'dublicates are cast away')\n",
    "my_set = set([1,3,4,2,3,3,2,4])\n",
    "print(my_set)"
   ]
  },
  {
   "cell_type": "code",
   "execution_count": 18,
   "metadata": {
    "slideshow": {
     "slide_type": "slide"
    }
   },
   "outputs": [
    {
     "name": "stdout",
     "output_type": "stream",
     "text": [
      "4\n",
      "8\n"
     ]
    }
   ],
   "source": [
    "# A dictionary is an unordered collection of key, value pairs like a **map** in java and like **object** in javascript\n",
    "my_dictionary = {'otto':4,'beate':9}\n",
    "print(my_dictionary['otto'])\n",
    "my_dictionary['beate'] = 8\n",
    "print(my_dictionary['beate'])\n"
   ]
  },
  {
   "cell_type": "markdown",
   "metadata": {
    "slideshow": {
     "slide_type": "slide"
    }
   },
   "source": [
    "### Lists\n",
    "\n",
    "A list is like an array in e.g. javascript and java\n",
    "\n",
    "Square brackets (`[]`) indicate a list, and individual elements in the list are separated by commas."
   ]
  },
  {
   "cell_type": "code",
   "execution_count": null,
   "metadata": {
    "slideshow": {
     "slide_type": "subslide"
    }
   },
   "outputs": [],
   "source": [
    "[1, 2, 3, 1 , 2]"
   ]
  },
  {
   "cell_type": "code",
   "execution_count": null,
   "metadata": {
    "slideshow": {
     "slide_type": "subslide"
    }
   },
   "outputs": [],
   "source": [
    "numbers = [1, 2, 3]\n",
    "type(numbers)"
   ]
  },
  {
   "cell_type": "code",
   "execution_count": 33,
   "metadata": {
    "slideshow": {
     "slide_type": "slide"
    }
   },
   "outputs": [
    {
     "data": {
      "text/plain": [
       "['cat', 'bat', 'rat', 'elephant']"
      ]
     },
     "execution_count": 33,
     "metadata": {},
     "output_type": "execute_result"
    }
   ],
   "source": [
    "words = ['cat', 'bat', 'rat', 'elephant']\n",
    "words"
   ]
  },
  {
   "cell_type": "code",
   "execution_count": 13,
   "metadata": {
    "slideshow": {
     "slide_type": "slide"
    }
   },
   "outputs": [
    {
     "name": "stdout",
     "output_type": "stream",
     "text": [
      "hello\n"
     ]
    }
   ],
   "source": [
    "\n",
    "mixed_elements = ['hello', 3.1415, True, None, 42]\n",
    "mixed_elements\n",
    "print(mixed_elements[0])"
   ]
  },
  {
   "cell_type": "code",
   "execution_count": 4,
   "metadata": {
    "slideshow": {
     "slide_type": "subslide"
    }
   },
   "outputs": [
    {
     "data": {
      "text/plain": [
       "[]"
      ]
     },
     "execution_count": 4,
     "metadata": {},
     "output_type": "execute_result"
    }
   ],
   "source": [
    "empty_list = []\n",
    "empty_list"
   ]
  },
  {
   "cell_type": "markdown",
   "metadata": {},
   "source": [
    "## Accessing Elements"
   ]
  },
  {
   "cell_type": "code",
   "execution_count": 15,
   "metadata": {
    "slideshow": {
     "slide_type": "fragment"
    }
   },
   "outputs": [],
   "source": [
    "animals = ['cat', 'bat', 'rat', 'elephant', 'Gorilla', 'Hipo']"
   ]
  },
  {
   "cell_type": "code",
   "execution_count": 41,
   "metadata": {
    "slideshow": {
     "slide_type": "fragment"
    }
   },
   "outputs": [
    {
     "name": "stdout",
     "output_type": "stream",
     "text": [
      "['cat', 'bat', 'rat', 'ant', 'Gorilla', 'Hipo']\n"
     ]
    }
   ],
   "source": [
    "animals[3]\n",
    "animals[3] = 'ant'\n",
    "print(animals)\n",
    "animals.append('elephant')"
   ]
  },
  {
   "cell_type": "raw",
   "metadata": {
    "slideshow": {
     "slide_type": "fragment"
    }
   },
   "source": [
    "animals[0] + 'woman and ' + animals[1] + 'man'"
   ]
  },
  {
   "cell_type": "markdown",
   "metadata": {
    "slideshow": {
     "slide_type": "slide"
    }
   },
   "source": [
    "### Negative Indexes\n",
    "\n",
    "How to get the last element of a list?"
   ]
  },
  {
   "cell_type": "code",
   "execution_count": 16,
   "metadata": {
    "slideshow": {
     "slide_type": "subslide"
    }
   },
   "outputs": [
    {
     "data": {
      "text/plain": [
       "'Hipo'"
      ]
     },
     "execution_count": 16,
     "metadata": {},
     "output_type": "execute_result"
    }
   ],
   "source": [
    "animals[-1]"
   ]
  },
  {
   "cell_type": "code",
   "execution_count": 18,
   "metadata": {
    "slideshow": {
     "slide_type": "subslide"
    }
   },
   "outputs": [
    {
     "data": {
      "text/plain": [
       "'elephant'"
      ]
     },
     "execution_count": 18,
     "metadata": {},
     "output_type": "execute_result"
    }
   ],
   "source": [
    "animals[-3]"
   ]
  },
  {
   "cell_type": "code",
   "execution_count": 7,
   "metadata": {
    "slideshow": {
     "slide_type": "subslide"
    }
   },
   "outputs": [
    {
     "name": "stdout",
     "output_type": "stream",
     "text": [
      "cat\n",
      "bat\n",
      "rat\n",
      "elephant\n"
     ]
    }
   ],
   "source": [
    "# using range(n) to create a sequence from 0 to n.\n",
    "for i in range(len(animals)):\n",
    "    print(animals[i])"
   ]
  },
  {
   "cell_type": "code",
   "execution_count": 19,
   "metadata": {
    "slideshow": {
     "slide_type": "subslide"
    }
   },
   "outputs": [
    {
     "name": "stdout",
     "output_type": "stream",
     "text": [
      "0 cat\n",
      "1 bat\n",
      "2 rat\n",
      "3 elephant\n",
      "4 Gorilla\n",
      "5 Hipo\n"
     ]
    }
   ],
   "source": [
    "# using enumerate to get the index and value of each elements\n",
    "for idx, val in enumerate(animals):\n",
    "    print(idx, val)"
   ]
  },
  {
   "cell_type": "markdown",
   "metadata": {
    "slideshow": {
     "slide_type": "slide"
    }
   },
   "source": [
    "### Getting Sublists with *Slices*\n",
    "\n",
    "  * `animals[2]`is a list with an index (one integer)\n",
    "  * `animals[1:4]` is a list with a slice (two integers)\n",
    "  \n",
    "In a slice, the  first integer is the index where the slice starts. The second integer is the index where the slice ends. A slice goes up to, but will not include, the value at the second index. A slice evaluates to a new list value.\n"
   ]
  },
  {
   "cell_type": "code",
   "execution_count": 18,
   "metadata": {
    "slideshow": {
     "slide_type": "subslide"
    }
   },
   "outputs": [
    {
     "data": {
      "text/plain": [
       "['bat', 'rat', 'elephant']"
      ]
     },
     "execution_count": 18,
     "metadata": {},
     "output_type": "execute_result"
    }
   ],
   "source": [
    "animals[1:4]"
   ]
  },
  {
   "cell_type": "code",
   "execution_count": 19,
   "metadata": {
    "slideshow": {
     "slide_type": "subslide"
    }
   },
   "outputs": [
    {
     "data": {
      "text/plain": [
       "['cat', 'bat', 'rat', 'elephant']"
      ]
     },
     "execution_count": 19,
     "metadata": {},
     "output_type": "execute_result"
    }
   ],
   "source": [
    "animals[0:-2]"
   ]
  },
  {
   "cell_type": "code",
   "execution_count": 20,
   "metadata": {
    "slideshow": {
     "slide_type": "subslide"
    }
   },
   "outputs": [
    {
     "data": {
      "text/plain": [
       "['Gorilla']"
      ]
     },
     "execution_count": 20,
     "metadata": {},
     "output_type": "execute_result"
    }
   ],
   "source": [
    "animals[-2:-1]"
   ]
  },
  {
   "cell_type": "markdown",
   "metadata": {
    "slideshow": {
     "slide_type": "slide"
    }
   },
   "source": [
    "As a shortcut, you can leave out one or both of the indexes on either side of the colon in the slice. Leaving out the  rst index is the same as using 0, or the beginning of the list. Leaving out the second index is the same as using the length of the list, which will slice to the end of the list."
   ]
  },
  {
   "cell_type": "code",
   "execution_count": 22,
   "metadata": {
    "slideshow": {
     "slide_type": "subslide"
    }
   },
   "outputs": [
    {
     "data": {
      "text/plain": [
       "['elephant', 'Gorilla', 'Hipo']"
      ]
     },
     "execution_count": 22,
     "metadata": {},
     "output_type": "execute_result"
    }
   ],
   "source": [
    "animals[3:]"
   ]
  },
  {
   "cell_type": "code",
   "execution_count": 23,
   "metadata": {
    "slideshow": {
     "slide_type": "subslide"
    }
   },
   "outputs": [
    {
     "name": "stdout",
     "output_type": "stream",
     "text": [
      "['cat', 'bat', 'rat', 'elephant', 'Gorilla', 'Hipo']\n"
     ]
    },
    {
     "data": {
      "text/plain": [
       "['cat', 'rat', 'Gorilla']"
      ]
     },
     "execution_count": 23,
     "metadata": {},
     "output_type": "execute_result"
    }
   ],
   "source": [
    "print(animals)\n",
    "animals[0:5:2]"
   ]
  },
  {
   "cell_type": "code",
   "execution_count": 24,
   "metadata": {
    "slideshow": {
     "slide_type": "subslide"
    }
   },
   "outputs": [
    {
     "data": {
      "text/plain": [
       "['cat', 'rat', 'Gorilla']"
      ]
     },
     "execution_count": 24,
     "metadata": {},
     "output_type": "execute_result"
    }
   ],
   "source": [
    "animals[::2]"
   ]
  },
  {
   "cell_type": "markdown",
   "metadata": {
    "slideshow": {
     "slide_type": "slide"
    }
   },
   "source": [
    "### Getting a List’s Length with `len()`\n"
   ]
  },
  {
   "cell_type": "code",
   "execution_count": 17,
   "metadata": {
    "slideshow": {
     "slide_type": "subslide"
    }
   },
   "outputs": [
    {
     "data": {
      "text/plain": [
       "3"
      ]
     },
     "execution_count": 17,
     "metadata": {},
     "output_type": "execute_result"
    }
   ],
   "source": [
    "fst_sentence = ['Call', 'me', 'Ishmael']\n",
    "len(fst_sentence)"
   ]
  },
  {
   "cell_type": "markdown",
   "metadata": {
    "slideshow": {
     "slide_type": "slide"
    }
   },
   "source": [
    "### Changing Values in a List with Indexes"
   ]
  },
  {
   "cell_type": "code",
   "execution_count": 59,
   "metadata": {
    "slideshow": {
     "slide_type": "subslide"
    }
   },
   "outputs": [
    {
     "data": {
      "text/plain": [
       "['Call', 'him', 'Ishmael']"
      ]
     },
     "execution_count": 59,
     "metadata": {},
     "output_type": "execute_result"
    }
   ],
   "source": [
    "fst_sentence = ['Call', 'me', 'Ishmael']\n",
    "\n",
    "fst_sentence[1] = 'him'\n",
    "fst_sentence"
   ]
  },
  {
   "cell_type": "code",
   "execution_count": null,
   "metadata": {
    "slideshow": {
     "slide_type": "subslide"
    }
   },
   "outputs": [],
   "source": [
    "fst_sentence[0] = fst_sentence[1]\n",
    "fst_sentence"
   ]
  },
  {
   "cell_type": "code",
   "execution_count": 60,
   "metadata": {
    "slideshow": {
     "slide_type": "subslide"
    }
   },
   "outputs": [
    {
     "data": {
      "text/plain": [
       "['Call', 'him', 1000]"
      ]
     },
     "execution_count": 60,
     "metadata": {},
     "output_type": "execute_result"
    }
   ],
   "source": [
    "fst_sentence[-1] = 1000\n",
    "fst_sentence"
   ]
  },
  {
   "cell_type": "markdown",
   "metadata": {
    "slideshow": {
     "slide_type": "slide"
    }
   },
   "source": [
    "### List Concatenation and List Replication\n",
    "\n",
    "  * `+` operator combines two lists to create a new list value\n",
    "  * `*` operator can also be used with a list and an integer value to replicate the list"
   ]
  },
  {
   "cell_type": "code",
   "execution_count": 26,
   "metadata": {
    "slideshow": {
     "slide_type": "slide"
    }
   },
   "outputs": [
    {
     "data": {
      "text/plain": [
       "['Call', 'me', 'Ishmael', 1, 2, 3, 4]"
      ]
     },
     "execution_count": 26,
     "metadata": {},
     "output_type": "execute_result"
    }
   ],
   "source": [
    "fst_sentence = ['Call', 'me', 'Ishmael']\n",
    "numbers = [1, 2, 3, 4]\n",
    "\n",
    "concat = fst_sentence + numbers\n",
    "concat"
   ]
  },
  {
   "cell_type": "code",
   "execution_count": 27,
   "metadata": {
    "slideshow": {
     "slide_type": "subslide"
    }
   },
   "outputs": [
    {
     "data": {
      "text/plain": [
       "['Call', 'me', 'Ishmael', 'Call', 'me', 'Ishmael', 'Call', 'me', 'Ishmael']"
      ]
     },
     "execution_count": 27,
     "metadata": {},
     "output_type": "execute_result"
    }
   ],
   "source": [
    "fst_sentence * 3"
   ]
  },
  {
   "cell_type": "code",
   "execution_count": 29,
   "metadata": {},
   "outputs": [
    {
     "data": {
      "text/plain": [
       "['Call', 'Ishmael', 1, 2, 3, 4]"
      ]
     },
     "execution_count": 29,
     "metadata": {},
     "output_type": "execute_result"
    }
   ],
   "source": [
    "concat2 = fst_sentence[::2]+numbers\n",
    "concat2"
   ]
  },
  {
   "cell_type": "markdown",
   "metadata": {
    "slideshow": {
     "slide_type": "slide"
    }
   },
   "source": [
    "### Removing Values from Lists with del Statements\n",
    "\n",
    "The `del` statement will delete values at an index in a list. All of the values\n",
    "in the list after the deleted value will be moved up one index."
   ]
  },
  {
   "cell_type": "code",
   "execution_count": 30,
   "metadata": {
    "slideshow": {
     "slide_type": "slide"
    }
   },
   "outputs": [
    {
     "data": {
      "text/plain": [
       "['Call', 'Ishmael']"
      ]
     },
     "execution_count": 30,
     "metadata": {},
     "output_type": "execute_result"
    }
   ],
   "source": [
    "fst_sentence = ['Call', 'me', 'Ishmael']\n",
    "\n",
    "del fst_sentence[1]\n",
    "fst_sentence"
   ]
  },
  {
   "cell_type": "markdown",
   "metadata": {
    "slideshow": {
     "slide_type": "slide"
    }
   },
   "source": [
    "### Copying a List"
   ]
  },
  {
   "cell_type": "code",
   "execution_count": 31,
   "metadata": {
    "slideshow": {
     "slide_type": "subslide"
    }
   },
   "outputs": [
    {
     "name": "stdout",
     "output_type": "stream",
     "text": [
      "['Call', 'us', 'Ishmael']\n",
      "['Call', 'him', 'Ishmael']\n",
      "['Call', 'us', 'Ishmael']\n"
     ]
    }
   ],
   "source": [
    "fst_sentence = ['Call', 'me', 'Ishmael']\n",
    "fst_sentence_2 = fst_sentence\n",
    "\n",
    "new_sentence = fst_sentence[:]\n",
    "new_sentence[1] = 'him'\n",
    "fst_sentence_2[1] = 'us'\n",
    "\n",
    "print(fst_sentence)\n",
    "print(new_sentence)\n",
    "print(fst_sentence_2)"
   ]
  },
  {
   "cell_type": "markdown",
   "metadata": {
    "slideshow": {
     "slide_type": "slide"
    }
   },
   "source": [
    "### Sorting the Values of a List with `sorted()`\n",
    "\n",
    "The `sorted()` function returns a sorted **copy** of the corresponding list."
   ]
  },
  {
   "cell_type": "code",
   "execution_count": 64,
   "metadata": {
    "slideshow": {
     "slide_type": "slide"
    }
   },
   "outputs": [
    {
     "name": "stdout",
     "output_type": "stream",
     "text": [
      "['Call', 'Ishmael', 'me']\n",
      "['Call', 'me', 'Ishmael']\n"
     ]
    }
   ],
   "source": [
    "fst_sentence = ['Call', 'me', 'Ishmael']\n",
    "sorted_sentence = sorted(fst_sentence)\n",
    "print(sorted_sentence)\n",
    "print(fst_sentence)"
   ]
  },
  {
   "cell_type": "code",
   "execution_count": null,
   "metadata": {
    "slideshow": {
     "slide_type": "slide"
    }
   },
   "outputs": [],
   "source": [
    "numbers = [2, 3, 1, -5]\n",
    "sorted_numbers = sorted(numbers)\n",
    "print(sorted_numbers)\n",
    "print(numbers)"
   ]
  },
  {
   "cell_type": "markdown",
   "metadata": {
    "slideshow": {
     "slide_type": "slide"
    }
   },
   "source": [
    "### Ranges"
   ]
  },
  {
   "cell_type": "code",
   "execution_count": 34,
   "metadata": {
    "slideshow": {
     "slide_type": "subslide"
    }
   },
   "outputs": [
    {
     "name": "stdout",
     "output_type": "stream",
     "text": [
      "0\n",
      "1\n",
      "2\n",
      "3\n",
      "4\n"
     ]
    }
   ],
   "source": [
    "range(5)"
   ]
  },
  {
   "cell_type": "code",
   "execution_count": null,
   "metadata": {
    "slideshow": {
     "slide_type": "subslide"
    }
   },
   "outputs": [],
   "source": [
    "list(range(5))"
   ]
  },
  {
   "cell_type": "code",
   "execution_count": 67,
   "metadata": {
    "slideshow": {
     "slide_type": "subslide"
    }
   },
   "outputs": [
    {
     "data": {
      "text/plain": [
       "[3, 4, 5, 6, 7, 8, 9]"
      ]
     },
     "execution_count": 67,
     "metadata": {},
     "output_type": "execute_result"
    }
   ],
   "source": [
    "list(range(3, 10))"
   ]
  },
  {
   "cell_type": "code",
   "execution_count": 68,
   "metadata": {
    "slideshow": {
     "slide_type": "subslide"
    }
   },
   "outputs": [
    {
     "data": {
      "text/plain": [
       "[3, 7, 11, 15, 19]"
      ]
     },
     "execution_count": 68,
     "metadata": {},
     "output_type": "execute_result"
    }
   ],
   "source": [
    "list(range(3, 20, 4))"
   ]
  },
  {
   "cell_type": "code",
   "execution_count": 69,
   "metadata": {
    "slideshow": {
     "slide_type": "subslide"
    }
   },
   "outputs": [
    {
     "data": {
      "text/plain": [
       "[30, 28, 26, 24, 22, 20, 18, 16, 14, 12]"
      ]
     },
     "execution_count": 69,
     "metadata": {},
     "output_type": "execute_result"
    }
   ],
   "source": [
    "list(range(30, 10, -2))"
   ]
  },
  {
   "cell_type": "markdown",
   "metadata": {
    "slideshow": {
     "slide_type": "slide"
    }
   },
   "source": [
    "### Checking Lists for Element Containment\n",
    "\n",
    "You can determine whether a value is or isn’t in a list with the `in` and `not in` operators. Like other operators, in and not in are used in expressions and connect two values: a value to look for in a list and the list where it may be found."
   ]
  },
  {
   "cell_type": "code",
   "execution_count": 23,
   "metadata": {
    "slideshow": {
     "slide_type": "subslide"
    }
   },
   "outputs": [
    {
     "data": {
      "text/plain": [
       "True"
      ]
     },
     "execution_count": 23,
     "metadata": {},
     "output_type": "execute_result"
    }
   ],
   "source": [
    "1 in [0, 1, 2, 3]"
   ]
  },
  {
   "cell_type": "code",
   "execution_count": 36,
   "metadata": {},
   "outputs": [
    {
     "data": {
      "text/plain": [
       "[4, 3, 2]"
      ]
     },
     "execution_count": 36,
     "metadata": {},
     "output_type": "execute_result"
    }
   ],
   "source": [
    "list(range(4,1,-1))"
   ]
  },
  {
   "cell_type": "code",
   "execution_count": 72,
   "metadata": {
    "slideshow": {
     "slide_type": "subslide"
    }
   },
   "outputs": [
    {
     "data": {
      "text/plain": [
       "False"
      ]
     },
     "execution_count": 72,
     "metadata": {},
     "output_type": "execute_result"
    }
   ],
   "source": [
    "1 in range(4, 6, -1)"
   ]
  },
  {
   "cell_type": "code",
   "execution_count": 71,
   "metadata": {
    "slideshow": {
     "slide_type": "subslide"
    }
   },
   "outputs": [
    {
     "data": {
      "text/plain": [
       "False"
      ]
     },
     "execution_count": 71,
     "metadata": {},
     "output_type": "execute_result"
    }
   ],
   "source": [
    "'Hej' in [0, 1, 2, 3]"
   ]
  },
  {
   "cell_type": "code",
   "execution_count": 20,
   "metadata": {
    "slideshow": {
     "slide_type": "subslide"
    }
   },
   "outputs": [
    {
     "data": {
      "text/plain": [
       "False"
      ]
     },
     "execution_count": 20,
     "metadata": {},
     "output_type": "execute_result"
    }
   ],
   "source": [
    "1 in ['Call', 'me', 'Ishmael']"
   ]
  },
  {
   "cell_type": "code",
   "execution_count": null,
   "metadata": {
    "slideshow": {
     "slide_type": "subslide"
    }
   },
   "outputs": [],
   "source": [
    "'Hej' in ['Call', 'me', 'Ishmael']"
   ]
  },
  {
   "cell_type": "code",
   "execution_count": 37,
   "metadata": {
    "slideshow": {
     "slide_type": "subslide"
    }
   },
   "outputs": [
    {
     "data": {
      "text/plain": [
       "True"
      ]
     },
     "execution_count": 37,
     "metadata": {},
     "output_type": "execute_result"
    }
   ],
   "source": [
    "1 not in ['Call', 'me', 'Ishmael']"
   ]
  },
  {
   "cell_type": "code",
   "execution_count": null,
   "metadata": {
    "slideshow": {
     "slide_type": "subslide"
    }
   },
   "outputs": [],
   "source": [
    "1 not in [0, 1, 2, 3]"
   ]
  },
  {
   "cell_type": "markdown",
   "metadata": {
    "slideshow": {
     "slide_type": "slide"
    }
   },
   "source": [
    "Make use of the **in** operator instead of iterating through lists. It is way more performant. See the following meassurements:"
   ]
  },
  {
   "cell_type": "code",
   "execution_count": 39,
   "metadata": {
    "slideshow": {
     "slide_type": "subslide"
    }
   },
   "outputs": [
    {
     "name": "stdout",
     "output_type": "stream",
     "text": [
      "414 ns ± 17.6 ns per loop (mean ± std. dev. of 7 runs, 1000000 loops each)\n"
     ]
    }
   ],
   "source": [
    "%timeit 55000 in range(1000000)"
   ]
  },
  {
   "cell_type": "code",
   "execution_count": 25,
   "metadata": {
    "slideshow": {
     "slide_type": "subslide"
    }
   },
   "outputs": [
    {
     "name": "stdout",
     "output_type": "stream",
     "text": [
      "1.42 ms ± 16.4 µs per loop (mean ± std. dev. of 7 runs, 1000 loops each)\n"
     ]
    }
   ],
   "source": [
    "def is_in(el, values):\n",
    "    for value in values:\n",
    "        if el == value:\n",
    "            return True\n",
    "        \n",
    "%timeit is_in(55000, range(1000000))"
   ]
  },
  {
   "cell_type": "code",
   "execution_count": 57,
   "metadata": {},
   "outputs": [
    {
     "name": "stdout",
     "output_type": "stream",
     "text": [
      "11.9 ms ± 208 µs per loop (mean ± std. dev. of 7 runs, 100 loops each)\n",
      "12.7 ms ± 407 µs per loop (mean ± std. dev. of 7 runs, 100 loops each)\n"
     ]
    }
   ],
   "source": [
    "#test\n",
    "lst = [num for num in range(2,1000001) if num%2 == 0]\n",
    "%timeit max(lst)\n",
    "%timeit min(lst)"
   ]
  },
  {
   "cell_type": "markdown",
   "metadata": {
    "slideshow": {
     "slide_type": "slide"
    }
   },
   "source": [
    "### Simple Statistics with a List of Numbers\n",
    "\n",
    "A few Python functions are specific to lists of numbers. For example, you can easily find the minimum, maximum, and sum of a list of numbers."
   ]
  },
  {
   "cell_type": "code",
   "execution_count": 76,
   "metadata": {
    "slideshow": {
     "slide_type": "slide"
    }
   },
   "outputs": [
    {
     "name": "stdout",
     "output_type": "stream",
     "text": [
      "0\n",
      "9\n",
      "45\n"
     ]
    }
   ],
   "source": [
    "values = list(range(10))\n",
    "\n",
    "print(min(values))\n",
    "print(max(values))\n",
    "print(sum(values))"
   ]
  },
  {
   "cell_type": "markdown",
   "metadata": {
    "slideshow": {
     "slide_type": "slide"
    }
   },
   "source": [
    "### Multiple Assignments\n",
    "\n",
    "The multiple assignment trick is a shortcut that lets you assign multiple variables with the values in a list in one line of code."
   ]
  },
  {
   "cell_type": "code",
   "execution_count": 78,
   "metadata": {
    "slideshow": {
     "slide_type": "subslide"
    }
   },
   "outputs": [
    {
     "name": "stdout",
     "output_type": "stream",
     "text": [
      "Call me Ishmael\n"
     ]
    }
   ],
   "source": [
    "# awkward way\n",
    "fst_sentence = ['Call', 'me', 'Ishmael']\n",
    "\n",
    "fst_word = fst_sentence[0]\n",
    "snd_word = fst_sentence[1]\n",
    "thrd_word = fst_sentence[2]\n",
    "\n",
    "print(fst_word, snd_word, thrd_word)"
   ]
  },
  {
   "cell_type": "code",
   "execution_count": 79,
   "metadata": {
    "slideshow": {
     "slide_type": "subslide"
    }
   },
   "outputs": [
    {
     "name": "stdout",
     "output_type": "stream",
     "text": [
      "Call me Ishmael\n"
     ]
    }
   ],
   "source": [
    "# shortcut way\n",
    "fst_sentence = ['Call', 'me', 'Ishmael']\n",
    "\n",
    "word1, word2, word3 = fst_sentence # multiple assignments\n",
    "print(word1,word2,word3)"
   ]
  },
  {
   "cell_type": "markdown",
   "metadata": {
    "slideshow": {
     "slide_type": "slide"
    }
   },
   "source": [
    "## Methods\n",
    "\n",
    "A method is the same thing as a function, except it is “called on” a value.\n",
    "For example, if a list value were stored in `fst_sentence`, you would call the `index()` list method on that list like so: `fst_sentence.index('hello')`. The method part comes after the value, separated by a period.\n",
    "Each data type has its own set of methods. The list data type, for example, has several useful methods for  finding, adding, removing, and otherwise manipulating values in a list.\n",
    "\n",
    "### Finding a Value in a List with the `index()` Method\n",
    "\n",
    "List values have an `index()` method that can be passed a value.\n",
    "\n",
    "  * If that value exists in the list, the index of the value is returned. \n",
    "  * If the value isn’t in the list, then Python produces a `ValueError` error.\n",
    "  * When there are duplicates of the value in the list, the index of its  first appearance is returned."
   ]
  },
  {
   "cell_type": "code",
   "execution_count": 80,
   "metadata": {
    "slideshow": {
     "slide_type": "subslide"
    }
   },
   "outputs": [
    {
     "data": {
      "text/plain": [
       "1"
      ]
     },
     "execution_count": 80,
     "metadata": {},
     "output_type": "execute_result"
    }
   ],
   "source": [
    "fst_sentence = ['Call', 'me', 'Ishmael']\n",
    "\n",
    "fst_sentence.index('me')"
   ]
  },
  {
   "cell_type": "code",
   "execution_count": 31,
   "metadata": {
    "slideshow": {
     "slide_type": "subslide"
    }
   },
   "outputs": [
    {
     "ename": "ValueError",
     "evalue": "'hello' is not in list",
     "output_type": "error",
     "traceback": [
      "\u001b[0;31m---------------------------------------------------------------------------\u001b[0m",
      "\u001b[0;31mValueError\u001b[0m                                Traceback (most recent call last)",
      "\u001b[0;32m<ipython-input-31-57de2e5b6b1e>\u001b[0m in \u001b[0;36m<module>\u001b[0;34m\u001b[0m\n\u001b[0;32m----> 1\u001b[0;31m \u001b[0mfst_sentence\u001b[0m\u001b[0;34m.\u001b[0m\u001b[0mindex\u001b[0m\u001b[0;34m(\u001b[0m\u001b[0;34m'hello'\u001b[0m\u001b[0;34m)\u001b[0m\u001b[0;34m\u001b[0m\u001b[0;34m\u001b[0m\u001b[0m\n\u001b[0m",
      "\u001b[0;31mValueError\u001b[0m: 'hello' is not in list"
     ]
    }
   ],
   "source": [
    "fst_sentence.index('hello')"
   ]
  },
  {
   "cell_type": "code",
   "execution_count": 32,
   "metadata": {
    "slideshow": {
     "slide_type": "subslide"
    }
   },
   "outputs": [
    {
     "data": {
      "text/plain": [
       "1"
      ]
     },
     "execution_count": 32,
     "metadata": {},
     "output_type": "execute_result"
    }
   ],
   "source": [
    "new_sentence = ['Call', 'me', 'me', 'Ishmael']\n",
    "\n",
    "fst_sentence.index('me')"
   ]
  },
  {
   "cell_type": "markdown",
   "metadata": {
    "slideshow": {
     "slide_type": "slide"
    }
   },
   "source": [
    "### Adding Values to Lists with the `append()` and `insert()` Methods\n",
    "\n",
    "To add new values to a list, use the `append()` and `insert()` methods. The `append()` method call adds the argument to the end of the list. The `insert()` method can insert a value at any index in the list. The first argument to `insert()` is the index for the new value, and the second argument is the new value to be inserted.\n",
    "\n",
    "**OBS!** `append()` and `insert()` modify the given list inplace. That is, no copy is generated."
   ]
  },
  {
   "cell_type": "code",
   "execution_count": null,
   "metadata": {
    "slideshow": {
     "slide_type": "subslide"
    }
   },
   "outputs": [],
   "source": [
    "fst_sentence = ['Call', 'me', 'Ishmael']\n",
    "fst_sentence.append('Holgerson')\n",
    "fst_sentence"
   ]
  },
  {
   "cell_type": "code",
   "execution_count": 42,
   "metadata": {
    "slideshow": {
     "slide_type": "subslide"
    }
   },
   "outputs": [
    {
     "data": {
      "text/plain": [
       "['Call', 'me', 'Ishmael', 'Holgerson']"
      ]
     },
     "execution_count": 42,
     "metadata": {},
     "output_type": "execute_result"
    }
   ],
   "source": [
    "fst_sentence = ['Call', 'me', 'Ishmael']\n",
    "fst_sentence.append('Holgerson')\n",
    "fst_sentence"
   ]
  },
  {
   "cell_type": "code",
   "execution_count": 43,
   "metadata": {
    "slideshow": {
     "slide_type": "subslide"
    }
   },
   "outputs": [
    {
     "data": {
      "text/plain": [
       "['Please', 'Call', 'me', 'Ishmael']"
      ]
     },
     "execution_count": 43,
     "metadata": {},
     "output_type": "execute_result"
    }
   ],
   "source": [
    "fst_sentence = ['Call', 'me', 'Ishmael']\n",
    "fst_sentence.insert(0, 'Please')\n",
    "fst_sentence"
   ]
  },
  {
   "cell_type": "markdown",
   "metadata": {
    "slideshow": {
     "slide_type": "slide"
    }
   },
   "source": [
    "### Removing Values from Lists with `remove()`\n",
    "\n",
    "The `remove()` method is passed the value to be removed from the list it is called on. Attempting to delete a value that does not exist in the list will result in a `ValueError` error."
   ]
  },
  {
   "cell_type": "code",
   "execution_count": 47,
   "metadata": {
    "slideshow": {
     "slide_type": "subslide"
    }
   },
   "outputs": [
    {
     "data": {
      "text/plain": [
       "['me', 'Ishmael']"
      ]
     },
     "execution_count": 47,
     "metadata": {},
     "output_type": "execute_result"
    }
   ],
   "source": [
    "fst_sentence = ['Call', 'me', 'Ishmael']\n",
    "fst_sentence.remove('Call')\n",
    "fst_sentence"
   ]
  },
  {
   "cell_type": "code",
   "execution_count": null,
   "metadata": {
    "slideshow": {
     "slide_type": "subslide"
    }
   },
   "outputs": [],
   "source": [
    "fst_sentence = ['Call', 'me', 'Ishmael']\n",
    "fst_sentence.remove('Ishmael')\n",
    "fst_sentence"
   ]
  },
  {
   "cell_type": "markdown",
   "metadata": {
    "collapsed": true,
    "slideshow": {
     "slide_type": "slide"
    }
   },
   "source": [
    "### Sorting the Values of a List with the `sort()` Method\n",
    "\n",
    "Lists of number values or lists of strings can be sorted with the `sort()` method.\n",
    "You can also pass `True` for the reverse keyword argument to have `sort()` sort the values in reverse order.\n",
    "\n",
    "There are three things you should note about the `sort()` method. First, the `sort()` method sorts the list in place; do not try to capture the return value by writing code like \n",
    "\n",
    "```python\n",
    "result = values.sort()\n",
    "```\n"
   ]
  },
  {
   "cell_type": "code",
   "execution_count": null,
   "metadata": {
    "slideshow": {
     "slide_type": "subslide"
    }
   },
   "outputs": [],
   "source": [
    "values = [2, 5, 3.14, 1, -7]\n",
    "values.sort()\n",
    "values"
   ]
  },
  {
   "cell_type": "code",
   "execution_count": null,
   "metadata": {
    "slideshow": {
     "slide_type": "subslide"
    }
   },
   "outputs": [],
   "source": [
    "fst_sentence = ['Call', 'me', 'Ishmael']\n",
    "fst_sentence.sort()\n",
    "fst_sentence"
   ]
  },
  {
   "cell_type": "code",
   "execution_count": null,
   "metadata": {
    "slideshow": {
     "slide_type": "subslide"
    }
   },
   "outputs": [],
   "source": [
    "values = [2, 5, 3.14, 1, -7]\n",
    "values.sort(reverse=True)\n",
    "values"
   ]
  },
  {
   "cell_type": "markdown",
   "metadata": {
    "slideshow": {
     "slide_type": "subslide"
    }
   },
   "source": [
    "You **cannot** sort lists that have both number values *and* string values in them, since Python does not know how to compare these values."
   ]
  },
  {
   "cell_type": "code",
   "execution_count": null,
   "metadata": {
    "slideshow": {
     "slide_type": "subslide"
    }
   },
   "outputs": [],
   "source": [
    "values = ['Call', 'me', 'Ishmael', 2, 5, 3.14, 1, -7]\n",
    "values.sort()\n",
    "values"
   ]
  },
  {
   "cell_type": "markdown",
   "metadata": {
    "slideshow": {
     "slide_type": "subslide"
    }
   },
   "source": [
    "`sort()` uses \"ASCIIbetical order\" rather than actual alphabetical order for sorting strings. This means uppercase letters come before lower- case letters. Therefore, the lowercase a is sorted so that it comes after the uppercase Z."
   ]
  },
  {
   "cell_type": "code",
   "execution_count": null,
   "metadata": {
    "slideshow": {
     "slide_type": "subslide"
    }
   },
   "outputs": [],
   "source": [
    "fst_sentence = ['Call', 'call', 'me', 'Me', 'ishmael', 'Ishmael']\n",
    "fst_sentence.sort()\n",
    "fst_sentence"
   ]
  },
  {
   "cell_type": "markdown",
   "metadata": {
    "slideshow": {
     "slide_type": "subslide"
    }
   },
   "source": [
    "If you need to sort the values in regular alphabetical order, pass `str.lower` for the `key` keyword argument in the `sort()` method call, causes the `sort()` function to treat all the items in the list as if they were lowercase without actually changing the values in the list."
   ]
  },
  {
   "cell_type": "code",
   "execution_count": null,
   "metadata": {
    "slideshow": {
     "slide_type": "subslide"
    }
   },
   "outputs": [],
   "source": [
    "fst_sentence = ['a', 'z', 'A', 'Z']\n",
    "fst_sentence.sort(key=str.lower)\n",
    "fst_sentence"
   ]
  },
  {
   "cell_type": "markdown",
   "metadata": {
    "slideshow": {
     "slide_type": "subslide"
    }
   },
   "source": [
    "#### sort criterias\n",
    "the sort() method can take a function to determine the sort order"
   ]
  },
  {
   "cell_type": "code",
   "execution_count": 21,
   "metadata": {
    "slideshow": {
     "slide_type": "subslide"
    }
   },
   "outputs": [
    {
     "name": "stdout",
     "output_type": "stream",
     "text": [
      "['bird', 'giraf', 'monkey', 'crocodile']\n"
     ]
    }
   ],
   "source": [
    "def myFunc(e):\n",
    "  return len(e)\n",
    "\n",
    "my_list = ['monkey','giraf','crocodile','bird']\n",
    "my_list.sort(key=myFunc)\n",
    "print(my_list)"
   ]
  },
  {
   "cell_type": "markdown",
   "metadata": {
    "slideshow": {
     "slide_type": "slide"
    }
   },
   "source": [
    "### Joining a List into a String\n",
    "\n",
    "Actually, `join` is a methond on strings. But you will see it often to join the values of a list into a single string."
   ]
  },
  {
   "cell_type": "code",
   "execution_count": 1,
   "metadata": {
    "slideshow": {
     "slide_type": "subslide"
    }
   },
   "outputs": [
    {
     "data": {
      "text/plain": [
       "'Call;me;Ishmael'"
      ]
     },
     "execution_count": 1,
     "metadata": {},
     "output_type": "execute_result"
    }
   ],
   "source": [
    "fst_sentence = ['Call', 'me', 'Ishmael']\n",
    "(';').join(fst_sentence)"
   ]
  },
  {
   "cell_type": "markdown",
   "metadata": {
    "slideshow": {
     "slide_type": "slide"
    }
   },
   "source": [
    "### Reversing a List"
   ]
  },
  {
   "cell_type": "code",
   "execution_count": 48,
   "metadata": {
    "slideshow": {
     "slide_type": "subslide"
    }
   },
   "outputs": [
    {
     "data": {
      "text/plain": [
       "['Ishmael', 'me', 'Call']"
      ]
     },
     "execution_count": 48,
     "metadata": {},
     "output_type": "execute_result"
    }
   ],
   "source": [
    "fst_sentence = ['Call', 'me', 'Ishmael']\n",
    "fst_sentence.reverse()\n",
    "fst_sentence"
   ]
  },
  {
   "cell_type": "markdown",
   "metadata": {
    "slideshow": {
     "slide_type": "slide"
    }
   },
   "source": [
    "## List Comprehensions\n",
    "\n",
    "A list comprehension allows you to generate arbitrary lists in just one line of code. A list comprehension combines the for loop and the creation of new elements into one line, and automatically appends each new element. List comprehensions are not always presented to beginners, but we have included them here because you’ll most likely see them as soon as you start looking at other people’s code, they may make your code more concise, and they have a **better performance** than normal loops.\n",
    "List comprehension consists of 2 to 3 parts:\n",
    "1. loop part\n",
    "2. element manipulation part\n",
    "3. optional: filter part  \n",
    "\n",
    "`new_list = [value * 2 for value in range(0,21) if value < 100]`\n",
    "part1 is in the midle: `for value in range(0,21)`\n",
    "part 2 is first: `value * 2`\n",
    "part 3 is last starting with if: `if value < 100`\n"
   ]
  },
  {
   "cell_type": "code",
   "execution_count": 51,
   "metadata": {},
   "outputs": [
    {
     "data": {
      "text/plain": [
       "[0, 1, 4, 9, 16]"
      ]
     },
     "execution_count": 51,
     "metadata": {},
     "output_type": "execute_result"
    }
   ],
   "source": [
    "lst_comp = [i**2 for i in range(5)]\n",
    "lst_comp"
   ]
  },
  {
   "cell_type": "code",
   "execution_count": 52,
   "metadata": {
    "slideshow": {
     "slide_type": "subslide"
    }
   },
   "outputs": [
    {
     "data": {
      "text/plain": [
       "[0, 4, 16, 36, 64, 100, 144, 196, 256, 324, 400]"
      ]
     },
     "execution_count": 52,
     "metadata": {},
     "output_type": "execute_result"
    }
   ],
   "source": [
    "squares = [idx ** 2 for idx, value in enumerate(range(0, 21))  if value%2 == 0]\n",
    "squares"
   ]
  },
  {
   "cell_type": "code",
   "execution_count": 53,
   "metadata": {},
   "outputs": [
    {
     "data": {
      "text/plain": [
       "[5, 4, 5, 4]"
      ]
     },
     "execution_count": 53,
     "metadata": {},
     "output_type": "execute_result"
    }
   ],
   "source": [
    "names = [\"Helle\",\"Hans\",\"Hanne\",\"Hugo\"]\n",
    "result = [len(name) for name in names]\n",
    "result"
   ]
  },
  {
   "cell_type": "code",
   "execution_count": 88,
   "metadata": {},
   "outputs": [
    {
     "data": {
      "text/plain": [
       "{0: 0,\n",
       " 2: 4,\n",
       " 4: 16,\n",
       " 6: 36,\n",
       " 8: 64,\n",
       " 10: 100,\n",
       " 12: 144,\n",
       " 14: 196,\n",
       " 16: 256,\n",
       " 18: 324,\n",
       " 20: 400}"
      ]
     },
     "execution_count": 88,
     "metadata": {},
     "output_type": "execute_result"
    }
   ],
   "source": [
    "dict_comp = {idx:value** 2 for idx, value in enumerate(range(0, 21))  if value%2 == 0}\n",
    "dict_comp"
   ]
  },
  {
   "cell_type": "markdown",
   "metadata": {
    "slideshow": {
     "slide_type": "slide"
    }
   },
   "source": [
    "# List-like Types: Strings, Tuples, and Sets\n",
    "\n",
    "Lists are not the only data types that represent ordered sequences of values. For example, strings and lists are actually similar, if you consider a string to be a \"list\" of single text characters. Many of the things you can do with lists can also be done with strings: indexing; slicing; and using them with for loops, with `len()`, and with the `in` and `not in` operators."
   ]
  },
  {
   "cell_type": "code",
   "execution_count": null,
   "metadata": {
    "slideshow": {
     "slide_type": "subslide"
    }
   },
   "outputs": [],
   "source": [
    "name = 'Ishmael'\n",
    "print(name[0])\n",
    "print(name[-2])\n",
    "\n",
    "print(name[0:4])\n",
    "print('Me' in name)\n",
    "print('s' in name)\n",
    "print('p' not in name)\n",
    "\n",
    "for i in name:\n",
    "    print('* * * ' + i + ' * * *')"
   ]
  },
  {
   "cell_type": "markdown",
   "metadata": {
    "slideshow": {
     "slide_type": "slide"
    }
   },
   "source": [
    "## Mutable and Immutable Data Types\n",
    "\n",
    "Lists and strings are different in an important way. A list value is a *mutable* data type: It can have values added, removed, or changed. However, a string is *immutable*: It cannot be changed. Trying to reassign a single character in a string results in a `TypeError` error.\n",
    "\n",
    "Consequently, the proper way to \"mutate\" a string is to use slicing and concatenation to build a new string by copying from parts of the old string."
   ]
  },
  {
   "cell_type": "code",
   "execution_count": null,
   "metadata": {
    "slideshow": {
     "slide_type": "subslide"
    }
   },
   "outputs": [],
   "source": [
    "name = 'Ishmael'\n",
    "name[3] = 'x'"
   ]
  },
  {
   "cell_type": "code",
   "execution_count": null,
   "metadata": {
    "slideshow": {
     "slide_type": "subslide"
    }
   },
   "outputs": [],
   "source": [
    "sentence = 'Ishmael a whaler'\n",
    "\n",
    "new_sentence = sentence[0:8] + 'the' + sentence[9:]\n",
    "print(new_sentence)"
   ]
  },
  {
   "cell_type": "markdown",
   "metadata": {
    "slideshow": {
     "slide_type": "slide"
    }
   },
   "source": [
    "We used `[0:8]` and `[9:]` to refer to the characters that we do not wish to replace. Notice that the original `'Ishmael a whaler'` string is not modified because strings are *immutable*.\n",
    "\n",
    "## The Tuple Data Type\n",
    "\n",
    "The tuple data type is almost identical to the list data type, except in two ways. First, tuples are typed with parentheses, `(` and `)`, instead of square brackets, `[` and `]`.\n",
    "\n",
    "The main way that tuples are different from lists is that tuples, like strings, are immutable. Tuples cannot have their values modified, appended, or removed.\n",
    "\n",
    "If you have only one value in your tuple, you can indicate this by placing a trailing comma after the value inside the parentheses. Otherwise, Python will think you’ve just typed a value inside regular parentheses. The comma is what lets Python know this is a tuple value. (Unlike some other programming languages, in Python it is  ne to have a trailing comma after the last item in a list or tuple.)"
   ]
  },
  {
   "cell_type": "code",
   "execution_count": null,
   "metadata": {
    "slideshow": {
     "slide_type": "subslide"
    }
   },
   "outputs": [],
   "source": [
    "earnings = ('Moby Dick', 150, 556)\n",
    "earnings[1] = 300"
   ]
  },
  {
   "cell_type": "code",
   "execution_count": null,
   "metadata": {
    "slideshow": {
     "slide_type": "subslide"
    }
   },
   "outputs": [],
   "source": [
    "earnings = ('Moby Dick',)\n",
    "earnings\n"
   ]
  },
  {
   "cell_type": "markdown",
   "metadata": {
    "slideshow": {
     "slide_type": "slide"
    }
   },
   "source": [
    "### Looping Through All Values in a Tuple\n",
    "\n",
    "You can loop over all the values in a tuple using a for loop, just as you did with a list."
   ]
  },
  {
   "cell_type": "code",
   "execution_count": null,
   "metadata": {
    "slideshow": {
     "slide_type": "subslide"
    }
   },
   "outputs": [],
   "source": [
    "earnings = ('Moby Dick', 150, 556)\n",
    "\n",
    "for element in earnings:\n",
    "    print(element)"
   ]
  },
  {
   "cell_type": "markdown",
   "metadata": {
    "slideshow": {
     "slide_type": "slide"
    }
   },
   "source": [
    "### Converting Types with the `list()` and `tuple()` Functions\n",
    "\n",
    "Just like how `str(42)` will return `'42'`, the string representation of the integer 42, the functions `list()` and `tuple()` will return list and tuple versions of the values passed to them. "
   ]
  },
  {
   "cell_type": "code",
   "execution_count": 21,
   "metadata": {},
   "outputs": [
    {
     "data": {
      "text/plain": [
       "['w', 'o', 'r', 'd']"
      ]
     },
     "execution_count": 21,
     "metadata": {},
     "output_type": "execute_result"
    }
   ],
   "source": [
    "list(\"word\")"
   ]
  },
  {
   "cell_type": "code",
   "execution_count": null,
   "metadata": {
    "slideshow": {
     "slide_type": "subslide"
    }
   },
   "outputs": [],
   "source": [
    "earnings = ('Moby Dick', 150, 556)\n",
    "earnings_list = list(earnings)\n",
    "\n",
    "fst_sentence = ['Call', 'me', 'Ishmael']\n",
    "fst_sentence_tuple = tuple(fst_sentence)\n",
    "\n",
    "print(earnings_list)\n",
    "print(fst_sentence_tuple)\n",
    "\n",
    "print(list('Ishmael'))"
   ]
  },
  {
   "cell_type": "markdown",
   "metadata": {
    "slideshow": {
     "slide_type": "slide"
    }
   },
   "source": [
    "## References\n",
    "\n",
    "You assign `'Ishmael'` to the `name` variable, and then you copy the value in `name` and assign it to the variable `other_name`. When you later change the value in `name` to `Ahab`, this does not affect the value in `other_name`. This is because `name` and `other_name` are different variables that store different values.\n",
    "\n",
    "\n",
    "But lists do not work this way! When you assign a list to a variable, you are actually assigning a list reference to the variable. A reference is a value that points to some bit of data, and a list reference is a value that points to a list.\n",
    "\n",
    "We can illustrate the different behaviour of the following two programs here:\n",
    "http://www.pythontutor.com/visualize.html"
   ]
  },
  {
   "cell_type": "code",
   "execution_count": null,
   "metadata": {
    "slideshow": {
     "slide_type": "subslide"
    }
   },
   "outputs": [],
   "source": [
    "name = 'Ishmael'\n",
    "other_name = name\n",
    "name = 'Ahab'\n",
    "print(name)\n",
    "print(other_name)"
   ]
  },
  {
   "cell_type": "code",
   "execution_count": null,
   "metadata": {
    "slideshow": {
     "slide_type": "subslide"
    }
   },
   "outputs": [],
   "source": [
    "fst_sentence = ['Call', 'me', 'Ishmael']\n",
    "\n",
    "new_sentence = fst_sentence\n",
    "new_sentence[1] = 'him'\n",
    "\n",
    "print(fst_sentence)"
   ]
  },
  {
   "cell_type": "markdown",
   "metadata": {
    "slideshow": {
     "slide_type": "slide"
    }
   },
   "source": [
    "### Passing References\n",
    "\n",
    "References are particularly important for understanding how arguments get passed to functions. When a function is called, the values of the arguments are copied to the parameter variables. For lists (and dictionaries, see next notebook), this means a copy of the reference is used for the parameter.\n",
    "\n",
    "Notice that when `rate(list_arg)` is called, a return value is not used to assign a new value to `fst_sentence`. Instead, it modifies the list in place, directly. When run, this program produces the following output:\n",
    "\n",
    "```python\n",
    "['Call', 'me', 'Ishmael', '... Nice!']\n",
    "```\n",
    "\n",
    "Even though `fst_sentence` and `list_arg` contain separate references, they both refer to the same list. This is why the `append('... Nice!')` method call inside the function affects the list even after the function call has returned.\n",
    "Keep this behavior in mind. Forgetting that Python handles list and dictionary variables this way can lead to confusing bug!\n",
    "\n"
   ]
  },
  {
   "cell_type": "code",
   "execution_count": 27,
   "metadata": {
    "slideshow": {
     "slide_type": "subslide"
    }
   },
   "outputs": [
    {
     "name": "stdout",
     "output_type": "stream",
     "text": [
      "['Call', 'me', 'Ishmael', '... Nice!']\n",
      "hello\n"
     ]
    }
   ],
   "source": [
    "def by_ref(list_arg):\n",
    "    list_arg.append('... Nice!')\n",
    "    \n",
    "fst_sentence = ['Call', 'me', 'Ishmael']\n",
    "\n",
    "by_ref(fst_sentence)\n",
    "print(fst_sentence)\n",
    "\n",
    "def by_val(w):\n",
    "    w = \"new\"\n",
    "    \n",
    "w = \"hello\"\n",
    "by_val(w)\n",
    "print(w)"
   ]
  },
  {
   "cell_type": "markdown",
   "metadata": {
    "slideshow": {
     "slide_type": "slide"
    }
   },
   "source": [
    "### The copy Module’s `copy()` and `deepcopy()` Functions\n",
    "\n",
    "Although passing around references is often the handiest way to deal with lists and dictionaries, if the function modifies the list or dictionary that is passed, you may not want these changes in the original list or dictionary value. \n",
    "\n",
    "For this, Python provides a module named copy that provides both the `copy()` and `deepcopy()` functions. The  first of these, `copy.copy()`, can be used to make a duplicate copy of a mutable value like a list or dictionary, not just a copy of a reference.\n",
    "\n",
    "If the list you need to copy contains lists, then use the `copy.deepcopy()` function instead of `copy.copy()`. The `deepcopy()` function will copy these inner lists as well."
   ]
  },
  {
   "cell_type": "code",
   "execution_count": null,
   "metadata": {
    "slideshow": {
     "slide_type": "subslide"
    }
   },
   "outputs": [],
   "source": [
    "import copy\n",
    "\n",
    "fst_sentence = ['Call', 'me', 'Ishmael']\n",
    "\n",
    "new_sentence = copy.copy(fst_sentence)\n",
    "new_sentence[1] = 'him'\n",
    "\n",
    "print(fst_sentence)\n",
    "print(new_sentence)"
   ]
  },
  {
   "cell_type": "markdown",
   "metadata": {
    "slideshow": {
     "slide_type": "slide"
    }
   },
   "source": [
    "## Sets\n",
    "\n",
    "Sets are like lists, only that every element is unique."
   ]
  },
  {
   "cell_type": "code",
   "execution_count": 11,
   "metadata": {
    "slideshow": {
     "slide_type": "subslide"
    }
   },
   "outputs": [
    {
     "data": {
      "text/plain": [
       "{1, 2, 3, 4, 'Hej'}"
      ]
     },
     "execution_count": 11,
     "metadata": {},
     "output_type": "execute_result"
    }
   ],
   "source": [
    "set(['Hej', 1, 2, 3, 4, 4, 'Hej',])"
   ]
  },
  {
   "cell_type": "markdown",
   "metadata": {
    "slideshow": {
     "slide_type": "slide"
    }
   },
   "source": [
    "# Exercises\n",
    "\n",
    "![get_started](https://s-media-cache-ak0.pinimg.com/originals/9f/73/e3/9f73e3f8a958dbe03b0f76f8811a54a1.gif)\n",
    "\n",
    "  1. Use the `range()` function to make a list of the odd numbers from 1 to 20. **Hint** in ipython and this notebooks you can see a functions help text by executing for example `range?`\n",
    "  2. Create a list with the even number values from two to one million. Use `min()` and `max()` to make sure your list actually starts at two and ends at one million. Also, use the `sum()` function to compute the sum of all values. Time the execution time using `%timeit`.\n",
    "  3. Create a list of the multiples of 3 - going from 3 to 300. **HINT: USE A LIST COMPREHENSION**\n",
    "  4. A number raised to the third power is called a cube. For example, the cube of 2 is written as `2**3` in Python. Create a list of the first 10 cubes (that is, the cube of each integer from 1 through 10).\n"
   ]
  },
  {
   "cell_type": "markdown",
   "metadata": {
    "slideshow": {
     "slide_type": "fragment"
    }
   },
   "source": [
    "### Using `timeit` from within scripts/programs\n",
    "\n",
    "In your file `<time_it_prg>.py` import the `timeit` module and call the `timeit` function on a string with the python code to time.\n",
    "\n",
    "\n",
    "```python\n",
    "import timeit\n",
    "\n",
    "cmd = '\"-\".join(str(n) for n in range(100))'\n",
    "print(timeit.timeit(cmd, number=10))\n",
    "```"
   ]
  },
  {
   "cell_type": "markdown",
   "metadata": {
    "slideshow": {
     "slide_type": "subslide"
    }
   },
   "source": [
    "***References:*** Almost everything in this notebook, text and exercises, is based on chapter four of the book \"Python Crash Course: A Hands-On, Project-Based Introduction to Programming\" by Eric Matthes (https://www.nostarch.com/pythoncrashcourse/)."
   ]
  }
 ],
 "metadata": {
  "celltoolbar": "Slideshow",
  "kernelspec": {
   "display_name": "Python 3",
   "language": "python",
   "name": "python3"
  },
  "language_info": {
   "codemirror_mode": {
    "name": "ipython",
    "version": 3
   },
   "file_extension": ".py",
   "mimetype": "text/x-python",
   "name": "python",
   "nbconvert_exporter": "python",
   "pygments_lexer": "ipython3",
   "version": "3.7.4"
  }
 },
 "nbformat": 4,
 "nbformat_minor": 2
}
