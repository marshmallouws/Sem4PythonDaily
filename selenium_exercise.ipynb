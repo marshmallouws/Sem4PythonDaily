{
 "cells": [
  {
   "cell_type": "markdown",
   "metadata": {},
   "source": [
    "# Exercise with selenium\n",
    "## Part 1\n",
    "\n",
    "* You must first retrieve the top 100 scoring posts from [https://old.reddit.com/top/?sort=top&t=all](https://old.reddit.com/top/?sort=top&t=all). You will need to walk through multiple pages, using the `next` button.\n",
    "* Save the links in a list of `Post` objects. The `Post` object must contain:\n",
    "    * The id of the post.\n",
    "    * The title of the post.\n",
    "    * The exact score of the post.\n",
    "    * The subreddit the post was submitted to. \n",
    "\n",
    "## Part 2\n",
    "\n",
    "What are the most popular subreddits in the top 100 posts?\n",
    "\n",
    "* Find the frequency of all the subreddits in the 100 top posts. Store them in a dictionary where `subreddit=>frequency`.\n",
    "* Sort the dictionary by descending value. \n",
    "* Plot the frequencies on a bar chart, where the `y`-axis is the frequency, and the `x`-axis is the subreddit name.\n",
    "\n",
    "## Part 3\n",
    "\n",
    "Search reddit using selenium.\n",
    "\n",
    "Create a function that can retrieve the top `n` search results (posts) given a `search_term`.\n",
    "\n",
    "```python\n",
    "def search_reddit(search_term, n):\n",
    "   pass\n",
    "```\n",
    "\n",
    "*remember to use `old.reddit.com` to aviod SPA.*\n",
    "\n"
   ]
  },
  {
   "cell_type": "markdown",
   "metadata": {},
   "source": [
    "# Dependencies from requirements.txt\n",
    "networkx==2.2\n",
    "backcall==0.1.0\n",
    "bleach==3.0.2\n",
    "cycler==0.10.0\n",
    "decorator==4.3.0\n",
    "defusedxml==0.5.0\n",
    "entrypoints==0.2.3\n",
    "et-xmlfile==1.0.1\n",
    "ipykernel==5.1.0\n",
    "ipython==7.2.0\n",
    "ipython-genutils==0.2.0\n",
    "ipywidgets==7.4.2\n",
    "jdcal==1.4\n",
    "jedi==0.13.2\n",
    "Jinja2==2.10\n",
    "jsonschema==2.6.0\n",
    "jupyter==1.0.0\n",
    "jupyter-client==5.2.4\n",
    "jupyter-console==6.0.0\n",
    "jupyter-core==4.4.0\n",
    "kiwisolver==1.0.1\n",
    "MarkupSafe==1.1.0\n",
    "matplotlib==3.0.2\n",
    "mistune==0.8.4\n",
    "nbconvert==5.4.0\n",
    "nbformat==4.4.0\n",
    "notebook==5.7.4\n",
    "numpy==1.16.0\n",
    "openpyxl==2.6.0\n",
    "pandas==0.24.1\n",
    "pandocfilters==1.4.2\n",
    "parso==0.3.1\n",
    "pexpect==4.6.0\n",
    "pickleshare==0.7.5\n",
    "prometheus-client==0.5.0\n",
    "prompt-toolkit==2.0.7\n",
    "ptyprocess==0.6.0\n",
    "Pygments==2.3.1\n",
    "pyparsing==2.3.1\n",
    "python-dateutil==2.7.5\n",
    "pytz==2018.9\n",
    "pyzmq==17.1.2\n",
    "qtconsole==4.4.3\n",
    "rise==5.4.1\n",
    "scikit-learn==0.20.2\n",
    "scipy==1.2.0\n",
    "Send2Trash==1.5.0\n",
    "six==1.12.0\n",
    "sklearn==0.0\n",
    "terminado==0.8.1\n",
    "testpath==0.4.2\n",
    "tornado==5.1.1\n",
    "traitlets==4.3.2\n",
    "wcwidth==0.1.7\n",
    "webencodings==0.5.1\n",
    "widgetsnbextension==3.4.2"
   ]
  },
  {
   "cell_type": "code",
   "execution_count": 1,
   "metadata": {},
   "outputs": [],
   "source": [
    "from selenium import webdriver\n",
    "\n",
    "browser = webdriver.Chrome()"
   ]
  },
  {
   "cell_type": "code",
   "execution_count": 42,
   "metadata": {},
   "outputs": [],
   "source": [
    "import json\n",
    "\n",
    "class Post:\n",
    "    def __init__(self, _id, title, score, subreddit):\n",
    "        self.id = _id\n",
    "        self.title = title\n",
    "        self.score = int(score)\n",
    "        self.subreddit = subreddit\n",
    "        \n",
    "    def __str__(self):\n",
    "        return \"{}, {}, {}, {}\".format(self.id, self.title, self.score, self.subreddit)\n",
    "\n",
    "def reddit_top_n(browser, n=100):\n",
    "    browser.get('https://old.reddit.com/top/?sort=top&t=all')\n",
    "    results = []\n",
    "    \n",
    "    def webscrape_page(browser, results):\n",
    "        links = browser.find_elements_by_css_selector('#siteTable>div.link')\n",
    "        for link in links:\n",
    "            _id   = link.get_property('id')\n",
    "            title = link.find_element_by_xpath(\".//a[contains(@class, 'title')]\").text\n",
    "            score = link.get_attribute('data-score')\n",
    "            subreddit = link.get_attribute('data-subreddit')\n",
    "            results.append(Post(_id, title, score, subreddit))\n",
    "    \n",
    "    while True:\n",
    "        webscrape_page(browser, results)\n",
    "        browser.find_element_by_css_selector('.next-button a').click()\n",
    "        if len(results) >= n:\n",
    "            return results[:n]\n",
    "    "
   ]
  },
  {
   "cell_type": "code",
   "execution_count": 43,
   "metadata": {},
   "outputs": [
    {
     "name": "stdout",
     "output_type": "stream",
     "text": [
      "100\n"
     ]
    }
   ],
   "source": [
    "posts = reddit_top_n(browser)\n",
    "print(len(posts))"
   ]
  },
  {
   "cell_type": "code",
   "execution_count": 31,
   "metadata": {},
   "outputs": [
    {
     "data": {
      "text/plain": [
       "[('pics', 42),\n",
       " ('funny', 16),\n",
       " ('gifs', 13),\n",
       " ('IAmA', 5),\n",
       " ('worldnews', 4),\n",
       " ('news', 4),\n",
       " ('aww', 4),\n",
       " ('movies', 3),\n",
       " ('gaming', 2),\n",
       " ('videos', 2),\n",
       " ('announcements', 1),\n",
       " ('mildlyinteresting', 1),\n",
       " ('blog', 1),\n",
       " ('todayilearned', 1),\n",
       " ('AskReddit', 1)]"
      ]
     },
     "execution_count": 31,
     "metadata": {},
     "output_type": "execute_result"
    }
   ],
   "source": [
    "from collections import defaultdict\n",
    "def subreddit_freq(posts):\n",
    "    result = defaultdict(int)\n",
    "    for post in posts:\n",
    "        result[post.subreddit] = result[post.subreddit] +  1\n",
    "    \n",
    "    return result\n",
    "\n",
    "freq = subreddit_freq(posts)\n",
    "freq = sorted(freq.items(), key=lambda x: x[1], reverse=True)\n",
    "freq"
   ]
  },
  {
   "cell_type": "code",
   "execution_count": 37,
   "metadata": {},
   "outputs": [
    {
     "data": {
      "text/plain": [
       "([0, 1, 2, 3, 4, 5, 6, 7, 8, 9, 10, 11, 12, 13, 14],\n",
       " <a list of 15 Text xticklabel objects>)"
      ]
     },
     "execution_count": 37,
     "metadata": {},
     "output_type": "execute_result"
    },
    {
     "data": {
      "image/png": "[encoded data removed]",
      "text/plain": [
       "<Figure size 432x288 with 1 Axes>"
      ]
     },
     "metadata": {
      "needs_background": "light"
     },
     "output_type": "display_data"
    }
   ],
   "source": [
    "%matplotlib inline\n",
    "import matplotlib.pyplot as plt\n",
    "\n",
    "keys = [item[0] for item in freq]\n",
    "values = [item[1] for item in freq]\n",
    "\n",
    "plt.plot(keys, values)\n",
    "plt.xticks(rotation=90)\n"
   ]
  },
  {
   "cell_type": "code",
   "execution_count": 55,
   "metadata": {},
   "outputs": [
    {
     "data": {
      "text/plain": [
       "([], <a list of 0 Text xticklabel objects>)"
      ]
     },
     "execution_count": 55,
     "metadata": {},
     "output_type": "execute_result"
    },
    {
     "data": {
      "image/png": "[encoded data removed]",
      "text/plain": [
       "<Figure size 432x288 with 1 Axes>"
      ]
     },
     "metadata": {
      "needs_background": "light"
     },
     "output_type": "display_data"
    }
   ],
   "source": [
    "scores = [post.score for post in posts]\n",
    "ids = [post.id for post in posts]\n",
    "plt.plot(ids, scores)\n",
    "plt.xticks([]) # dont show x-axis\n"
   ]
  }
 ],
 "metadata": {
  "kernelspec": {
   "display_name": "Python 3",
   "language": "python",
   "name": "python3"
  },
  "language_info": {
   "codemirror_mode": {
    "name": "ipython",
    "version": 3
   },
   "file_extension": ".py",
   "mimetype": "text/x-python",
   "name": "python",
   "nbconvert_exporter": "python",
   "pygments_lexer": "ipython3",
   "version": "3.7.4"
  },
  "varInspector": {
   "cols": {
    "lenName": 16,
    "lenType": 16,
    "lenVar": 40
   },
   "kernels_config": {
    "python": {
     "delete_cmd_postfix": "",
     "delete_cmd_prefix": "del ",
     "library": "var_list.py",
     "varRefreshCmd": "print(var_dic_list())"
    },
    "r": {
     "delete_cmd_postfix": ") ",
     "delete_cmd_prefix": "rm(",
     "library": "var_list.r",
     "varRefreshCmd": "cat(var_dic_list()) "
    }
   },
   "types_to_exclude": [
    "module",
    "function",
    "builtin_function_or_method",
    "instance",
    "_Feature"
   ],
   "window_display": false
  }
 },
 "nbformat": 4,
 "nbformat_minor": 2
}
